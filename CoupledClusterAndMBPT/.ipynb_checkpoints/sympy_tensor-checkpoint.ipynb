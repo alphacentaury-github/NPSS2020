{
 "cells": [
  {
   "cell_type": "markdown",
   "metadata": {},
   "source": [
    "# Sympy to compute CCSD equations\n",
    "\n",
    "Let us try to make a sympy code to obtain automatic generation of \n",
    "CCSD equations.\n",
    "\n",
    "__Problem with dummy index__"
   ]
  },
  {
   "cell_type": "markdown",
   "metadata": {},
   "source": [
    "## first example\n",
    "Using sympy.physics.secondquant\n",
    "\n",
    "* symbols can be defined for hole and particles or dummy\n",
    "\n",
    "* Fermion Creation operator is Fd\n",
    "\n",
    "* Fermion Annihilation operator is F\n",
    "\n",
    "* contraction by wicks\n",
    "\n",
    "Fully contract \n",
    "$$a^\\dagger_i a_a a^\\dagger_p a_q a^\\dagger_b a_j$$"
   ]
  },
  {
   "cell_type": "code",
   "execution_count": 45,
   "metadata": {},
   "outputs": [
    {
     "data": {
      "text/latex": [
       "$\\displaystyle a^\\dagger_{i} a_{a} a^\\dagger_{p} a_{q} a^\\dagger_{b} a_{j}$"
      ],
      "text/plain": [
       "<IPython.core.display.Math object>"
      ]
     },
     "metadata": {},
     "output_type": "display_data"
    },
    {
     "data": {
      "text/latex": [
       "$\\displaystyle \\delta_{i q} \\delta_{p q} \\delta_{a b} \\delta_{i j} + \\delta_{p a} \\delta_{q b} \\delta_{i j} - \\delta_{p j} \\delta_{q i} \\delta_{a b}$"
      ],
      "text/plain": [
       "KroneckerDelta(_i, _q)*KroneckerDelta(_p, _q)*KroneckerDelta(a, b)*KroneckerDelta(i, j) + KroneckerDelta(_p, a)*KroneckerDelta(_q, b)*KroneckerDelta(i, j) - KroneckerDelta(_p, j)*KroneckerDelta(_q, i)*KroneckerDelta(a, b)"
      ]
     },
     "execution_count": 45,
     "metadata": {},
     "output_type": "execute_result"
    }
   ],
   "source": [
    "from sympy import symbols, latex, WildFunction, collect, Rational, simplify, Dummy\n",
    "from sympy.physics.secondquant import F, Fd, wicks, AntiSymmetricTensor, substitute_dummies, NO, evaluate_deltas\n",
    "\n",
    "from IPython.display import display, Math\n",
    "\n",
    "#---define symbols in secondquantization \n",
    "i, j = symbols('i,j', below_fermi=True)\n",
    "a, b = symbols('a,b', above_fermi=True)\n",
    "p, q = symbols('p,q',cls=Dummy)\n",
    "#---creation and annihilation operators\n",
    "display(Math(latex(Fd(i)*F(a)*Fd(p)*F(q)*Fd(b)*F(j))))\n",
    "simplify(wicks(Fd(i)*F(a)*Fd(p)*F(q)*Fd(b)*F(j), keep_only_fully_contracted=True))"
   ]
  },
  {
   "cell_type": "markdown",
   "metadata": {},
   "source": [
    "## Second Example: Two-body Hamiltonian \n",
    "\n",
    "First define Hamiltonian $H$ (not $H_N$)\n",
    "\n",
    "Reference energy $E_0$ and normal ordering $H_N$\n",
    "\n",
    "$E_0$ is obtained by fully contracting $H$.\n",
    "and $H_N = H -E_0$."
   ]
  },
  {
   "cell_type": "code",
   "execution_count": 46,
   "metadata": {},
   "outputs": [
    {
     "data": {
      "text/latex": [
       "$\\displaystyle H=f^{p}_{q} a^\\dagger_{p} a_{q} + \\frac{v^{pq}_{rs} a^\\dagger_{p} a^\\dagger_{q} a_{s} a_{r}}{4}$"
      ],
      "text/plain": [
       "<IPython.core.display.Math object>"
      ]
     },
     "metadata": {},
     "output_type": "display_data"
    },
    {
     "data": {
      "text/latex": [
       "$\\displaystyle E_0=\\delta_{i p} \\delta_{p q} f^{q}_{p} - \\frac{\\delta_{i q} \\delta_{i p} \\delta_{p s} \\delta_{q r} v^{rs}_{pq}}{4} + \\frac{\\delta_{i p} \\delta_{i q} \\delta_{p r} \\delta_{q s} v^{rs}_{pq}}{4}$"
      ],
      "text/plain": [
       "<IPython.core.display.Math object>"
      ]
     },
     "metadata": {},
     "output_type": "display_data"
    },
    {
     "data": {
      "text/latex": [
       "$\\displaystyle - f^{i}_{i} + f^{q}_{p} a^\\dagger_{q} a_{p} - \\frac{v^{ii}_{ii}}{4} - \\frac{v^{ii}_{ii}}{4} + \\frac{v^{rs}_{pq} a^\\dagger_{r} a^\\dagger_{s} a_{q} a_{p}}{4}$"
      ],
      "text/plain": [
       "-AntiSymmetricTensor(f, (_i,), (_i,)) + AntiSymmetricTensor(f, (_q,), (_p,))*CreateFermion(_q)*AnnihilateFermion(_p) - AntiSymmetricTensor(v, (_i, _i), (_i, _i))/4 - AntiSymmetricTensor(v, (_i, _i), (_i, _i))/4 + AntiSymmetricTensor(v, (_r, _s), (_p, _q))*CreateFermion(_r)*CreateFermion(_s)*AnnihilateFermion(_q)*AnnihilateFermion(_p)/4"
      ]
     },
     "execution_count": 46,
     "metadata": {},
     "output_type": "execute_result"
    }
   ],
   "source": [
    "# setup hamiltonian\n",
    "p,q,r,s = symbols('p q r s',cls=Dummy)\n",
    "f = AntiSymmetricTensor('f',(p,),(q,))\n",
    "pr = Fd(p)*F(q)\n",
    "v = AntiSymmetricTensor('v',(p,q),(r,s))\n",
    "pqsr = Fd(p)*Fd(q)*F(s)*F(r)\n",
    "\n",
    "#define the Hamiltonian\n",
    "Hamiltonian=f*pr + Rational(1)/Rational(4)*v*pqsr\n",
    "display(Math('H='+latex(Hamiltonian)))\n",
    "\n",
    "#define indices for states above and below the Fermi level\n",
    "index_rule = {\n",
    "     'below':  'kl',\n",
    "     'above':  'cd',\n",
    "     'general': 'pqrs'\n",
    "     }\n",
    "Hnormal = substitute_dummies(Hamiltonian,new_indices=True, pretty_indices=index_rule)\n",
    "E0 = wicks(Hnormal,keep_only_fully_contracted=True)\n",
    "display(Math('E_0='+latex(E0)))\n",
    "#----define Hnormal \n",
    "Hnormal = Hnormal-E0\n",
    "w = WildFunction('w')\n",
    "Hnormal = collect(Hnormal, NO(w)) # why ? redundant? \n",
    "Hnormal = evaluate_deltas(Hnormal)\n",
    "Hnormal "
   ]
  },
  {
   "cell_type": "markdown",
   "metadata": {},
   "source": [
    "One can get the same with Normal ordering operator. "
   ]
  },
  {
   "cell_type": "code",
   "execution_count": 51,
   "metadata": {},
   "outputs": [
    {
     "data": {
      "text/latex": [
       "$\\displaystyle f^{p}_{q} \\left\\{a^\\dagger_{p} a_{q}\\right\\} - \\frac{v^{pq}_{rs} \\left\\{a^\\dagger_{p} a^\\dagger_{q} a_{r} a_{s}\\right\\}}{4}$"
      ],
      "text/plain": [
       "AntiSymmetricTensor(f, (_p,), (_q,))*NO(CreateFermion(_p)*AnnihilateFermion(_q)) - AntiSymmetricTensor(v, (_p, _q), (_r, _s))*NO(CreateFermion(_p)*CreateFermion(_q)*AnnihilateFermion(_r)*AnnihilateFermion(_s))/4"
      ]
     },
     "execution_count": 51,
     "metadata": {},
     "output_type": "execute_result"
    }
   ],
   "source": [
    "# setup hamiltonian\n",
    "p,q,r,s = symbols('p q r s',cls=Dummy)\n",
    "f = AntiSymmetricTensor('f',(p,),(q,))\n",
    "pr = NO(Fd(p)*F(q))\n",
    "v = AntiSymmetricTensor('v',(p,q),(r,s))\n",
    "pqsr = NO(Fd(p)*Fd(q)*F(s)*F(r))\n",
    "\n",
    "#define the Hamiltonian\n",
    "Hnormal=f*pr + Rational(1)/Rational(4)*v*pqsr\n",
    "\n",
    "Hnormal"
   ]
  },
  {
   "cell_type": "markdown",
   "metadata": {},
   "source": [
    " ## Compute Matrix element $<a b| H_N |c d >$"
   ]
  },
  {
   "cell_type": "code",
   "execution_count": 52,
   "metadata": {},
   "outputs": [
    {
     "data": {
      "text/latex": [
       "$\\displaystyle \\delta_{a c} f^{b}_{d} - \\delta_{a d} f^{b}_{c} - \\delta_{b c} f^{a}_{d} + \\delta_{b d} f^{a}_{c} + v^{ab}_{cd}$"
      ],
      "text/plain": [
       "KroneckerDelta(a, c)*AntiSymmetricTensor(f, (b,), (d,)) - KroneckerDelta(a, d)*AntiSymmetricTensor(f, (b,), (c,)) - KroneckerDelta(b, c)*AntiSymmetricTensor(f, (a,), (d,)) + KroneckerDelta(b, d)*AntiSymmetricTensor(f, (a,), (c,)) + AntiSymmetricTensor(v, (a, b), (c, d))"
      ]
     },
     "execution_count": 52,
     "metadata": {},
     "output_type": "execute_result"
    }
   ],
   "source": [
    "c,d = symbols('c, d',above_fermi=True)\n",
    "a,b = symbols('a, b',above_fermi=True)\n",
    "\n",
    "simplify(wicks(F(b)*F(a)*Hnormal*Fd(c)*Fd(d),keep_only_fully_contracted=True, simplify_kronecker_deltas=True))"
   ]
  },
  {
   "cell_type": "markdown",
   "metadata": {},
   "source": [
    "## compute 3-body matrix element $< a b c| V_N| d e f>$"
   ]
  },
  {
   "cell_type": "code",
   "execution_count": 55,
   "metadata": {},
   "outputs": [
    {
     "data": {
      "text/latex": [
       "$\\displaystyle \\delta_{a d} v^{bc}_{ef} - \\delta_{a e} v^{bc}_{df} + \\delta_{a f} v^{bc}_{de} - \\delta_{b d} v^{ac}_{ef} + \\delta_{b e} v^{ac}_{df} - \\delta_{b f} v^{ac}_{de} + \\delta_{c d} v^{ab}_{ef} - \\delta_{c e} v^{ab}_{df} + \\delta_{c f} v^{ab}_{de}$"
      ],
      "text/plain": [
       "KroneckerDelta(a, d)*AntiSymmetricTensor(v, (b, c), (e, f)) - KroneckerDelta(a, e)*AntiSymmetricTensor(v, (b, c), (d, f)) + KroneckerDelta(a, f)*AntiSymmetricTensor(v, (b, c), (d, e)) - KroneckerDelta(b, d)*AntiSymmetricTensor(v, (a, c), (e, f)) + KroneckerDelta(b, e)*AntiSymmetricTensor(v, (a, c), (d, f)) - KroneckerDelta(b, f)*AntiSymmetricTensor(v, (a, c), (d, e)) + KroneckerDelta(c, d)*AntiSymmetricTensor(v, (a, b), (e, f)) - KroneckerDelta(c, e)*AntiSymmetricTensor(v, (a, b), (d, f)) + KroneckerDelta(c, f)*AntiSymmetricTensor(v, (a, b), (d, e))"
      ]
     },
     "execution_count": 55,
     "metadata": {},
     "output_type": "execute_result"
    }
   ],
   "source": [
    "# setup hamiltonian\n",
    "v = AntiSymmetricTensor('v',(p,q),(r,s))\n",
    "pqsr = NO(Fd(p)*Fd(q)*F(s)*F(r))\n",
    "V_N = Rational(1)/Rational(4)*v*pqsr\n",
    "a,b,c,d,e,f = symbols('a,b, c, d, e, f',above_fermi=True)\n",
    "\n",
    "expression = wicks(F(c)*F(b)*F(a)*V_N*Fd(d)*Fd(e)*Fd(f),keep_only_fully_contracted=True, simplify_kronecker_deltas=True)\n",
    "expression = evaluate_deltas(expression)\n",
    "expression"
   ]
  },
  {
   "cell_type": "markdown",
   "metadata": {},
   "source": [
    "## Test CCSD equation terms \n",
    "\n",
    "Let us start from simplest one \n",
    "\n",
    "Define $T_1$ and $T_2$. (Use t for single and u for double amplitudes)\n",
    "\n",
    "First term of Correlation Energy"
   ]
  },
  {
   "cell_type": "code",
   "execution_count": 73,
   "metadata": {},
   "outputs": [
    {
     "data": {
      "text/latex": [
       "$\\displaystyle - f^{a}_{i} t^{i}_{a} + f^{i}_{a} t^{a}_{i}$"
      ],
      "text/plain": [
       "-AntiSymmetricTensor(f, (_a,), (_i,))*AntiSymmetricTensor(t, (_i,), (_a,)) + AntiSymmetricTensor(f, (_i,), (_a,))*AntiSymmetricTensor(t, (_a,), (_i,))"
      ]
     },
     "execution_count": 73,
     "metadata": {},
     "output_type": "execute_result"
    }
   ],
   "source": [
    "t = AntiSymmetricTensor('t',(p,),(q,))\n",
    "T1 = t*NO(Fd(p)*F(q))\n",
    "\n",
    "u = AntiSymmetricTensor('u',(p,q),(r,s))\n",
    "T2 = Rational(1)/Rational(4)*u*NO(Fd(p)*Fd(q)*F(s)*F(r))\n",
    "\n",
    "wicks(Hnormal*T1-T1*Hnormal,keep_only_fully_contracted=True, simplify_kronecker_deltas=True)"
   ]
  },
  {
   "cell_type": "markdown",
   "metadata": {},
   "source": [
    "## Error ? \n",
    "It seems that the index a,b,i,j are not treated as dummies"
   ]
  },
  {
   "cell_type": "code",
   "execution_count": 72,
   "metadata": {},
   "outputs": [
    {
     "data": {
      "text/latex": [
       "$\\displaystyle \\frac{u^{aa}_{ii} v^{ii}_{aa}}{4}$"
      ],
      "text/plain": [
       "AntiSymmetricTensor(u, (_a, _a), (_i, _i))*AntiSymmetricTensor(v, (_i, _i), (_a, _a))/4"
      ]
     },
     "execution_count": 72,
     "metadata": {},
     "output_type": "execute_result"
    }
   ],
   "source": [
    "wicks(Hnormal*T2-T2*Hnormal,keep_only_fully_contracted=True, simplify_kronecker_deltas=True)"
   ]
  },
  {
   "cell_type": "code",
   "execution_count": 77,
   "metadata": {},
   "outputs": [
    {
     "data": {
      "text/latex": [
       "$\\displaystyle \\frac{u^{aa}_{ii} v^{ii}_{aa}}{4} - \\frac{u^{ii}_{aa} v^{aa}_{ii}}{4}$"
      ],
      "text/plain": [
       "AntiSymmetricTensor(u, (_a, _a), (_i, _i))*AntiSymmetricTensor(v, (_i, _i), (_a, _a))/4 - AntiSymmetricTensor(u, (_i, _i), (_a, _a))*AntiSymmetricTensor(v, (_a, _a), (_i, _i))/4"
      ]
     },
     "execution_count": 77,
     "metadata": {},
     "output_type": "execute_result"
    }
   ],
   "source": [
    "u = AntiSymmetricTensor('u',(p,q),(r,s))\n",
    "T2 = Rational(1)/Rational(4)*u*NO(Fd(p)*Fd(q)*F(s)*F(r))\n",
    "\n",
    "index_rule = {\n",
    "     'below':  'ijkl',\n",
    "     'above':  'abcd',\n",
    "     'general': 'pqrs'\n",
    "     }\n",
    "T2 = substitute_dummies(T2,new_indices=True, pretty_indices=index_rule)\n",
    "wicks(Hnormal*T2-T2*Hnormal,keep_only_fully_contracted=True, simplify_kronecker_deltas=True)"
   ]
  },
  {
   "cell_type": "code",
   "execution_count": 78,
   "metadata": {},
   "outputs": [
    {
     "data": {
      "text/latex": [
       "$\\displaystyle 0$"
      ],
      "text/plain": [
       "0"
      ]
     },
     "execution_count": 78,
     "metadata": {},
     "output_type": "execute_result"
    }
   ],
   "source": [
    "wicks(Hnormal*T1*T1,keep_only_fully_contracted=True, simplify_kronecker_deltas=True)"
   ]
  },
  {
   "cell_type": "code",
   "execution_count": 80,
   "metadata": {},
   "outputs": [
    {
     "data": {
      "text/latex": [
       "$\\displaystyle f^{i}_{a} t^{a}_{a} t^{a}_{i} - f^{i}_{a} t^{a}_{i} t^{i}_{i} - \\frac{t^{a}_{i} t^{a}_{i} v^{ii}_{aa}}{2} + \\frac{t^{a}_{i} t^{a}_{i} v^{ii}_{aa}}{2}$"
      ],
      "text/plain": [
       "AntiSymmetricTensor(f, (_i,), (_a,))*AntiSymmetricTensor(t, (_a,), (_a,))*AntiSymmetricTensor(t, (_a,), (_i,)) - AntiSymmetricTensor(f, (_i,), (_a,))*AntiSymmetricTensor(t, (_a,), (_i,))*AntiSymmetricTensor(t, (_i,), (_i,)) - AntiSymmetricTensor(t, (_a,), (_i,))*AntiSymmetricTensor(t, (_a,), (_i,))*AntiSymmetricTensor(v, (_i, _i), (_a, _a))/2 + AntiSymmetricTensor(t, (_a,), (_i,))*AntiSymmetricTensor(t, (_a,), (_i,))*AntiSymmetricTensor(v, (_i, _i), (_a, _a))/2"
      ]
     },
     "execution_count": 80,
     "metadata": {},
     "output_type": "execute_result"
    }
   ],
   "source": [
    "t = AntiSymmetricTensor('t',(p,),(q,))\n",
    "T1 = t*NO(Fd(p)*F(q))\n",
    "\n",
    "t = AntiSymmetricTensor('t',(s,),(r,))\n",
    "T1p = t*NO(Fd(s)*F(r))\n",
    "\n",
    "simplify(wicks(Hnormal*T1*T1p,keep_only_fully_contracted=True, simplify_kronecker_deltas=True))"
   ]
  },
  {
   "cell_type": "markdown",
   "metadata": {},
   "source": [
    "# Following is from internet"
   ]
  },
  {
   "cell_type": "code",
   "execution_count": 84,
   "metadata": {},
   "outputs": [
    {
     "name": "stdout",
     "output_type": "stream",
     "text": [
      "\n",
      "Calculates the Coupled-Cluster energy- and amplitude equations\n",
      "See 'An Introduction to Coupled Cluster Theory' by\n",
      "T. Daniel Crawford and Henry F. Schaefer III\n",
      "Reference to a Lecture Series: http://vergil.chemistry.gatech.edu/notes/sahan-cc-2010.pdf\n",
      "\n",
      "Using the hamiltonian: f^{p}_{q} \\left\\{a^\\dagger_{p} a_{q}\\right\\} - \\frac{v^{pq}_{rs} \\left\\{a^\\dagger_{p} a^\\dagger_{q} a_{r} a_{s}\\right\\}}{4}\n",
      "Calculating 4 nested commutators\n",
      "commutator 1...\n",
      "commutator 2...\n",
      "commutator 3...\n",
      "commutator 4...\n",
      "construct Hausdorff expansion...\n",
      "*********************\n",
      "\n",
      "extracting CC equations from full Hbar\n",
      "\n",
      "CC Energy:\n",
      "f^{k}_{c} t^{c}_{k} - \\frac{t^{c}_{l} t^{d}_{k} v^{kl}_{cd}}{2} + \\frac{t^{cd}_{kl} v^{kl}_{cd}}{4}\n",
      "\n",
      "CC T1:\n",
      "- f^{k}_{c} t^{c}_{i} t^{a}_{k} + f^{k}_{c} t^{ac}_{ik} - f^{k}_{i} t^{a}_{k} + f^{a}_{c} t^{c}_{i} + f^{a}_{i} - t^{c}_{k} t^{d}_{i} t^{a}_{l} v^{kl}_{cd} - t^{c}_{k} t^{d}_{i} v^{ak}_{cd} + t^{c}_{k} t^{a}_{l} v^{kl}_{ic} + t^{c}_{k} t^{ad}_{il} v^{kl}_{cd} + t^{c}_{k} v^{ak}_{ic} - \\frac{t^{c}_{i} t^{ad}_{kl} v^{kl}_{cd}}{2} + \\frac{t^{a}_{l} t^{cd}_{ik} v^{kl}_{cd}}{2} + \\frac{t^{cd}_{ik} v^{ak}_{cd}}{2} - \\frac{t^{ac}_{kl} v^{kl}_{ic}}{2}\n",
      "\n",
      "CC T2:\n",
      "f^{k}_{c} t^{c}_{i} t^{ab}_{jk} P(ij) + f^{k}_{c} t^{a}_{k} t^{bc}_{ij} P(ab) + f^{k}_{i} t^{ab}_{jk} P(ij) - f^{a}_{c} t^{bc}_{ij} P(ab) + t^{c}_{k} t^{d}_{i} t^{ab}_{jl} v^{kl}_{cd} P(ij) + t^{c}_{k} t^{a}_{l} t^{bd}_{ij} v^{kl}_{cd} P(ab) - t^{c}_{k} t^{ad}_{ij} v^{bk}_{cd} P(ab) + t^{c}_{k} t^{ab}_{il} v^{kl}_{jc} P(ij) + t^{c}_{i} t^{d}_{j} t^{a}_{k} t^{b}_{l} v^{kl}_{cd} + t^{c}_{i} t^{d}_{j} t^{a}_{k} v^{bk}_{cd} P(ab) + \\frac{t^{c}_{i} t^{d}_{j} t^{ab}_{kl} v^{kl}_{cd}}{2} + t^{c}_{i} t^{d}_{j} v^{ab}_{cd} - t^{c}_{i} t^{a}_{k} t^{b}_{l} v^{kl}_{jc} P(ij) - t^{c}_{i} t^{a}_{k} t^{bd}_{jl} v^{kl}_{cd} P(ab) P(ij) - t^{c}_{i} t^{a}_{k} v^{bk}_{jc} P(ab) P(ij) - t^{c}_{i} t^{ad}_{jk} v^{bk}_{cd} P(ab) P(ij) - \\frac{t^{c}_{i} t^{ab}_{kl} v^{kl}_{jc} P(ij)}{2} - t^{c}_{i} v^{ab}_{jc} P(ij) + \\frac{t^{a}_{k} t^{b}_{l} t^{cd}_{ij} v^{kl}_{cd}}{2} + t^{a}_{k} t^{b}_{l} v^{kl}_{ij} + \\frac{t^{a}_{k} t^{cd}_{ij} v^{bk}_{cd} P(ab)}{2} + t^{a}_{k} t^{bc}_{il} v^{kl}_{jc} P(ab) P(ij) + t^{a}_{k} v^{bk}_{ij} P(ab) + \\frac{t^{cd}_{ij} t^{ab}_{kl} v^{kl}_{cd}}{4} + \\frac{t^{cd}_{ij} v^{ab}_{cd}}{2} + \\frac{t^{cd}_{jk} t^{ab}_{il} v^{kl}_{cd} P(ij)}{2} + t^{ac}_{ik} v^{bk}_{jc} P(ab) P(ij) - \\frac{t^{ac}_{ij} t^{bd}_{kl} v^{kl}_{cd} P(ab)}{2} - t^{ac}_{jk} t^{bd}_{il} v^{kl}_{cd} P(ab) + \\frac{t^{ab}_{kl} v^{kl}_{ij}}{2} + v^{ab}_{ij}\n"
     ]
    }
   ],
   "source": [
    "\"\"\"\n",
    "Calculates the Coupled-Cluster energy- and amplitude equations\n",
    "See 'An Introduction to Coupled Cluster Theory' by\n",
    "T. Daniel Crawford and Henry F. Schaefer III.\n",
    "Other Resource : http://vergil.chemistry.gatech.edu/notes/sahan-cc-2010.pdf\n",
    "\"\"\"\n",
    "\n",
    "from sympy.physics.secondquant import (AntiSymmetricTensor, wicks,\n",
    "        F, Fd, NO, evaluate_deltas, substitute_dummies, Commutator,\n",
    "        simplify_index_permutations, PermutationOperator)\n",
    "from sympy import (\n",
    "    symbols, Rational, latex, Dummy\n",
    ")\n",
    "\n",
    "pretty_dummies_dict = {\n",
    "    'above': 'cdefgh',\n",
    "    'below': 'klmno',\n",
    "    'general': 'pqrstu'\n",
    "}\n",
    "\n",
    "\n",
    "def get_CC_operators():\n",
    "    \"\"\"\n",
    "    Returns a tuple (T1,T2) of unique operators.\n",
    "    \"\"\"\n",
    "    i = symbols('i', below_fermi=True, cls=Dummy)\n",
    "    a = symbols('a', above_fermi=True, cls=Dummy)\n",
    "    t_ai = AntiSymmetricTensor('t', (a,), (i,))\n",
    "    ai = NO(Fd(a)*F(i))\n",
    "    i, j = symbols('i,j', below_fermi=True, cls=Dummy)\n",
    "    a, b = symbols('a,b', above_fermi=True, cls=Dummy)\n",
    "    t_abij = AntiSymmetricTensor('t', (a, b), (i, j))\n",
    "    abji = NO(Fd(a)*Fd(b)*F(j)*F(i))\n",
    "\n",
    "    T1 = t_ai*ai\n",
    "    T2 = Rational(1, 4)*t_abij*abji\n",
    "    return (T1, T2)\n",
    "\n",
    "\n",
    "def main():\n",
    "    print()\n",
    "    print(\"Calculates the Coupled-Cluster energy- and amplitude equations\")\n",
    "    print(\"See 'An Introduction to Coupled Cluster Theory' by\")\n",
    "    print(\"T. Daniel Crawford and Henry F. Schaefer III\")\n",
    "    print(\"Reference to a Lecture Series: http://vergil.chemistry.gatech.edu/notes/sahan-cc-2010.pdf\")\n",
    "    print()\n",
    "\n",
    "    # setup hamiltonian\n",
    "    p, q, r, s = symbols('p,q,r,s', cls=Dummy)\n",
    "    f = AntiSymmetricTensor('f', (p,), (q,))\n",
    "    pr = NO(Fd(p)*F(q))\n",
    "    v = AntiSymmetricTensor('v', (p, q), (r, s))\n",
    "    pqsr = NO(Fd(p)*Fd(q)*F(s)*F(r))\n",
    "\n",
    "    H = f*pr + Rational(1, 4)*v*pqsr\n",
    "    print(\"Using the hamiltonian:\", latex(H))\n",
    "\n",
    "    print(\"Calculating 4 nested commutators\")\n",
    "    C = Commutator\n",
    "\n",
    "    T1, T2 = get_CC_operators()\n",
    "    T = T1 + T2\n",
    "    print(\"commutator 1...\")\n",
    "    comm1 = wicks(C(H, T))\n",
    "    comm1 = evaluate_deltas(comm1)\n",
    "    comm1 = substitute_dummies(comm1)\n",
    "\n",
    "    T1, T2 = get_CC_operators()\n",
    "    T = T1 + T2\n",
    "    print(\"commutator 2...\")\n",
    "    comm2 = wicks(C(comm1, T))\n",
    "    comm2 = evaluate_deltas(comm2)\n",
    "    comm2 = substitute_dummies(comm2)\n",
    "\n",
    "    T1, T2 = get_CC_operators()\n",
    "    T = T1 + T2\n",
    "    print(\"commutator 3...\")\n",
    "    comm3 = wicks(C(comm2, T))\n",
    "    comm3 = evaluate_deltas(comm3)\n",
    "    comm3 = substitute_dummies(comm3)\n",
    "\n",
    "    T1, T2 = get_CC_operators()\n",
    "    T = T1 + T2\n",
    "    print(\"commutator 4...\")\n",
    "    comm4 = wicks(C(comm3, T))\n",
    "    comm4 = evaluate_deltas(comm4)\n",
    "    comm4 = substitute_dummies(comm4)\n",
    "\n",
    "    print(\"construct Hausdorff expansion...\")\n",
    "    eq = H + comm1 + comm2/2 + comm3/6 + comm4/24\n",
    "    eq = eq.expand()\n",
    "    eq = evaluate_deltas(eq)\n",
    "    eq = substitute_dummies(eq, new_indices=True,\n",
    "            pretty_indices=pretty_dummies_dict)\n",
    "    print(\"*********************\")\n",
    "    print()\n",
    "\n",
    "    print(\"extracting CC equations from full Hbar\")\n",
    "    i, j, k, l = symbols('i,j,k,l', below_fermi=True)\n",
    "    a, b, c, d = symbols('a,b,c,d', above_fermi=True)\n",
    "    print()\n",
    "    print(\"CC Energy:\")\n",
    "    en=wicks(eq, simplify_dummies=True, keep_only_fully_contracted=True)\n",
    "    print(latex(en))\n",
    "    print()\n",
    "    print(\"CC T1:\")\n",
    "    eqT1 = wicks(NO(Fd(i)*F(a))*eq, simplify_kronecker_deltas=True, keep_only_fully_contracted=True)\n",
    "    eqT1 = substitute_dummies(eqT1)\n",
    "    print(latex(eqT1))\n",
    "    print()\n",
    "    print(\"CC T2:\")\n",
    "    eqT2 = wicks(NO(Fd(i)*Fd(j)*F(b)*F(a))*eq, simplify_dummies=True, keep_only_fully_contracted=True, simplify_kronecker_deltas=True)\n",
    "    P = PermutationOperator\n",
    "    eqT2 = simplify_index_permutations(eqT2, [P(a, b), P(i, j)])\n",
    "    print(latex(eqT2))\n",
    "\n",
    "    return en, eqT1, eqT2\n",
    "\n",
    "#===Run===============\n",
    "en, eqT1, eqT2 = main()"
   ]
  },
  {
   "cell_type": "code",
   "execution_count": 85,
   "metadata": {},
   "outputs": [
    {
     "data": {
      "text/latex": [
       "$\\displaystyle f^{k}_{c} t^{c}_{k} - \\frac{t^{c}_{l} t^{d}_{k} v^{kl}_{cd}}{2} + \\frac{t^{cd}_{kl} v^{kl}_{cd}}{4}$"
      ],
      "text/plain": [
       "AntiSymmetricTensor(f, (_k,), (_c,))*AntiSymmetricTensor(t, (_c,), (_k,)) - AntiSymmetricTensor(t, (_c,), (_l,))*AntiSymmetricTensor(t, (_d,), (_k,))*AntiSymmetricTensor(v, (_k, _l), (_c, _d))/2 + AntiSymmetricTensor(t, (_c, _d), (_k, _l))*AntiSymmetricTensor(v, (_k, _l), (_c, _d))/4"
      ]
     },
     "execution_count": 85,
     "metadata": {},
     "output_type": "execute_result"
    }
   ],
   "source": [
    "en"
   ]
  },
  {
   "cell_type": "code",
   "execution_count": 89,
   "metadata": {},
   "outputs": [
    {
     "data": {
      "text/latex": [
       "$\\displaystyle - f^{k}_{c} t^{c}_{i} t^{a}_{k} + f^{k}_{c} t^{ac}_{ik} - f^{k}_{i} t^{a}_{k} + f^{a}_{c} t^{c}_{i} + f^{a}_{i} - t^{c}_{k} t^{d}_{i} t^{a}_{l} v^{kl}_{cd} - t^{c}_{k} t^{d}_{i} v^{ak}_{cd} + t^{c}_{k} t^{a}_{l} v^{kl}_{ic} + t^{c}_{k} t^{ad}_{il} v^{kl}_{cd} + t^{c}_{k} v^{ak}_{ic} - \\frac{t^{c}_{i} t^{ad}_{kl} v^{kl}_{cd}}{2} + \\frac{t^{a}_{l} t^{cd}_{ik} v^{kl}_{cd}}{2} + \\frac{t^{cd}_{ik} v^{ak}_{cd}}{2} - \\frac{t^{ac}_{kl} v^{kl}_{ic}}{2}$"
      ],
      "text/plain": [
       "-AntiSymmetricTensor(f, (_k,), (_c,))*AntiSymmetricTensor(t, (_c,), (i,))*AntiSymmetricTensor(t, (a,), (_k,)) + AntiSymmetricTensor(f, (_k,), (_c,))*AntiSymmetricTensor(t, (a, _c), (i, _k)) - AntiSymmetricTensor(f, (_k,), (i,))*AntiSymmetricTensor(t, (a,), (_k,)) + AntiSymmetricTensor(f, (a,), (_c,))*AntiSymmetricTensor(t, (_c,), (i,)) + AntiSymmetricTensor(f, (a,), (i,)) - AntiSymmetricTensor(t, (_c,), (_k,))*AntiSymmetricTensor(t, (_d,), (i,))*AntiSymmetricTensor(t, (a,), (_l,))*AntiSymmetricTensor(v, (_k, _l), (_c, _d)) - AntiSymmetricTensor(t, (_c,), (_k,))*AntiSymmetricTensor(t, (_d,), (i,))*AntiSymmetricTensor(v, (a, _k), (_c, _d)) + AntiSymmetricTensor(t, (_c,), (_k,))*AntiSymmetricTensor(t, (a,), (_l,))*AntiSymmetricTensor(v, (_k, _l), (i, _c)) + AntiSymmetricTensor(t, (_c,), (_k,))*AntiSymmetricTensor(t, (a, _d), (i, _l))*AntiSymmetricTensor(v, (_k, _l), (_c, _d)) + AntiSymmetricTensor(t, (_c,), (_k,))*AntiSymmetricTensor(v, (a, _k), (i, _c)) - AntiSymmetricTensor(t, (_c,), (i,))*AntiSymmetricTensor(t, (a, _d), (_k, _l))*AntiSymmetricTensor(v, (_k, _l), (_c, _d))/2 + AntiSymmetricTensor(t, (a,), (_l,))*AntiSymmetricTensor(t, (_c, _d), (i, _k))*AntiSymmetricTensor(v, (_k, _l), (_c, _d))/2 + AntiSymmetricTensor(t, (_c, _d), (i, _k))*AntiSymmetricTensor(v, (a, _k), (_c, _d))/2 - AntiSymmetricTensor(t, (a, _c), (_k, _l))*AntiSymmetricTensor(v, (_k, _l), (i, _c))/2"
      ]
     },
     "execution_count": 89,
     "metadata": {},
     "output_type": "execute_result"
    }
   ],
   "source": [
    "eqT1"
   ]
  },
  {
   "cell_type": "code",
   "execution_count": 87,
   "metadata": {},
   "outputs": [
    {
     "data": {
      "text/latex": [
       "$\\displaystyle f^{k}_{c} t^{c}_{i} t^{ab}_{jk} P(ij) + f^{k}_{c} t^{a}_{k} t^{bc}_{ij} P(ab) + f^{k}_{i} t^{ab}_{jk} P(ij) - f^{a}_{c} t^{bc}_{ij} P(ab) + t^{c}_{k} t^{d}_{i} t^{ab}_{jl} v^{kl}_{cd} P(ij) + t^{c}_{k} t^{a}_{l} t^{bd}_{ij} v^{kl}_{cd} P(ab) - t^{c}_{k} t^{ad}_{ij} v^{bk}_{cd} P(ab) + t^{c}_{k} t^{ab}_{il} v^{kl}_{jc} P(ij) + t^{c}_{i} t^{d}_{j} t^{a}_{k} t^{b}_{l} v^{kl}_{cd} + t^{c}_{i} t^{d}_{j} t^{a}_{k} v^{bk}_{cd} P(ab) + \\frac{t^{c}_{i} t^{d}_{j} t^{ab}_{kl} v^{kl}_{cd}}{2} + t^{c}_{i} t^{d}_{j} v^{ab}_{cd} - t^{c}_{i} t^{a}_{k} t^{b}_{l} v^{kl}_{jc} P(ij) - t^{c}_{i} t^{a}_{k} t^{bd}_{jl} v^{kl}_{cd} P(ab) P(ij) - t^{c}_{i} t^{a}_{k} v^{bk}_{jc} P(ab) P(ij) - t^{c}_{i} t^{ad}_{jk} v^{bk}_{cd} P(ab) P(ij) - \\frac{t^{c}_{i} t^{ab}_{kl} v^{kl}_{jc} P(ij)}{2} - t^{c}_{i} v^{ab}_{jc} P(ij) + \\frac{t^{a}_{k} t^{b}_{l} t^{cd}_{ij} v^{kl}_{cd}}{2} + t^{a}_{k} t^{b}_{l} v^{kl}_{ij} + \\frac{t^{a}_{k} t^{cd}_{ij} v^{bk}_{cd} P(ab)}{2} + t^{a}_{k} t^{bc}_{il} v^{kl}_{jc} P(ab) P(ij) + t^{a}_{k} v^{bk}_{ij} P(ab) + \\frac{t^{cd}_{ij} t^{ab}_{kl} v^{kl}_{cd}}{4} + \\frac{t^{cd}_{ij} v^{ab}_{cd}}{2} + \\frac{t^{cd}_{jk} t^{ab}_{il} v^{kl}_{cd} P(ij)}{2} + t^{ac}_{ik} v^{bk}_{jc} P(ab) P(ij) - \\frac{t^{ac}_{ij} t^{bd}_{kl} v^{kl}_{cd} P(ab)}{2} - t^{ac}_{jk} t^{bd}_{il} v^{kl}_{cd} P(ab) + \\frac{t^{ab}_{kl} v^{kl}_{ij}}{2} + v^{ab}_{ij}$"
      ],
      "text/plain": [
       "AntiSymmetricTensor(f, (_k,), (_c,))*AntiSymmetricTensor(t, (_c,), (i,))*AntiSymmetricTensor(t, (a, b), (j, _k))*PermutationOperator(i, j) + AntiSymmetricTensor(f, (_k,), (_c,))*AntiSymmetricTensor(t, (a,), (_k,))*AntiSymmetricTensor(t, (b, _c), (i, j))*PermutationOperator(a, b) + AntiSymmetricTensor(f, (_k,), (i,))*AntiSymmetricTensor(t, (a, b), (j, _k))*PermutationOperator(i, j) - AntiSymmetricTensor(f, (a,), (_c,))*AntiSymmetricTensor(t, (b, _c), (i, j))*PermutationOperator(a, b) + AntiSymmetricTensor(t, (_c,), (_k,))*AntiSymmetricTensor(t, (_d,), (i,))*AntiSymmetricTensor(t, (a, b), (j, _l))*AntiSymmetricTensor(v, (_k, _l), (_c, _d))*PermutationOperator(i, j) + AntiSymmetricTensor(t, (_c,), (_k,))*AntiSymmetricTensor(t, (a,), (_l,))*AntiSymmetricTensor(t, (b, _d), (i, j))*AntiSymmetricTensor(v, (_k, _l), (_c, _d))*PermutationOperator(a, b) - AntiSymmetricTensor(t, (_c,), (_k,))*AntiSymmetricTensor(t, (a, _d), (i, j))*AntiSymmetricTensor(v, (b, _k), (_c, _d))*PermutationOperator(a, b) + AntiSymmetricTensor(t, (_c,), (_k,))*AntiSymmetricTensor(t, (a, b), (i, _l))*AntiSymmetricTensor(v, (_k, _l), (j, _c))*PermutationOperator(i, j) + AntiSymmetricTensor(t, (_c,), (i,))*AntiSymmetricTensor(t, (_d,), (j,))*AntiSymmetricTensor(t, (a,), (_k,))*AntiSymmetricTensor(t, (b,), (_l,))*AntiSymmetricTensor(v, (_k, _l), (_c, _d)) + AntiSymmetricTensor(t, (_c,), (i,))*AntiSymmetricTensor(t, (_d,), (j,))*AntiSymmetricTensor(t, (a,), (_k,))*AntiSymmetricTensor(v, (b, _k), (_c, _d))*PermutationOperator(a, b) + AntiSymmetricTensor(t, (_c,), (i,))*AntiSymmetricTensor(t, (_d,), (j,))*AntiSymmetricTensor(t, (a, b), (_k, _l))*AntiSymmetricTensor(v, (_k, _l), (_c, _d))/2 + AntiSymmetricTensor(t, (_c,), (i,))*AntiSymmetricTensor(t, (_d,), (j,))*AntiSymmetricTensor(v, (a, b), (_c, _d)) - AntiSymmetricTensor(t, (_c,), (i,))*AntiSymmetricTensor(t, (a,), (_k,))*AntiSymmetricTensor(t, (b,), (_l,))*AntiSymmetricTensor(v, (_k, _l), (j, _c))*PermutationOperator(i, j) - AntiSymmetricTensor(t, (_c,), (i,))*AntiSymmetricTensor(t, (a,), (_k,))*AntiSymmetricTensor(t, (b, _d), (j, _l))*AntiSymmetricTensor(v, (_k, _l), (_c, _d))*PermutationOperator(a, b)*PermutationOperator(i, j) - AntiSymmetricTensor(t, (_c,), (i,))*AntiSymmetricTensor(t, (a,), (_k,))*AntiSymmetricTensor(v, (b, _k), (j, _c))*PermutationOperator(a, b)*PermutationOperator(i, j) - AntiSymmetricTensor(t, (_c,), (i,))*AntiSymmetricTensor(t, (a, _d), (j, _k))*AntiSymmetricTensor(v, (b, _k), (_c, _d))*PermutationOperator(a, b)*PermutationOperator(i, j) - AntiSymmetricTensor(t, (_c,), (i,))*AntiSymmetricTensor(t, (a, b), (_k, _l))*AntiSymmetricTensor(v, (_k, _l), (j, _c))*PermutationOperator(i, j)/2 - AntiSymmetricTensor(t, (_c,), (i,))*AntiSymmetricTensor(v, (a, b), (j, _c))*PermutationOperator(i, j) + AntiSymmetricTensor(t, (a,), (_k,))*AntiSymmetricTensor(t, (b,), (_l,))*AntiSymmetricTensor(t, (_c, _d), (i, j))*AntiSymmetricTensor(v, (_k, _l), (_c, _d))/2 + AntiSymmetricTensor(t, (a,), (_k,))*AntiSymmetricTensor(t, (b,), (_l,))*AntiSymmetricTensor(v, (_k, _l), (i, j)) + AntiSymmetricTensor(t, (a,), (_k,))*AntiSymmetricTensor(t, (_c, _d), (i, j))*AntiSymmetricTensor(v, (b, _k), (_c, _d))*PermutationOperator(a, b)/2 + AntiSymmetricTensor(t, (a,), (_k,))*AntiSymmetricTensor(t, (b, _c), (i, _l))*AntiSymmetricTensor(v, (_k, _l), (j, _c))*PermutationOperator(a, b)*PermutationOperator(i, j) + AntiSymmetricTensor(t, (a,), (_k,))*AntiSymmetricTensor(v, (b, _k), (i, j))*PermutationOperator(a, b) + AntiSymmetricTensor(t, (_c, _d), (i, j))*AntiSymmetricTensor(t, (a, b), (_k, _l))*AntiSymmetricTensor(v, (_k, _l), (_c, _d))/4 + AntiSymmetricTensor(t, (_c, _d), (i, j))*AntiSymmetricTensor(v, (a, b), (_c, _d))/2 + AntiSymmetricTensor(t, (_c, _d), (j, _k))*AntiSymmetricTensor(t, (a, b), (i, _l))*AntiSymmetricTensor(v, (_k, _l), (_c, _d))*PermutationOperator(i, j)/2 + AntiSymmetricTensor(t, (a, _c), (i, _k))*AntiSymmetricTensor(v, (b, _k), (j, _c))*PermutationOperator(a, b)*PermutationOperator(i, j) - AntiSymmetricTensor(t, (a, _c), (i, j))*AntiSymmetricTensor(t, (b, _d), (_k, _l))*AntiSymmetricTensor(v, (_k, _l), (_c, _d))*PermutationOperator(a, b)/2 - AntiSymmetricTensor(t, (a, _c), (j, _k))*AntiSymmetricTensor(t, (b, _d), (i, _l))*AntiSymmetricTensor(v, (_k, _l), (_c, _d))*PermutationOperator(a, b) + AntiSymmetricTensor(t, (a, b), (_k, _l))*AntiSymmetricTensor(v, (_k, _l), (i, j))/2 + AntiSymmetricTensor(v, (a, b), (i, j))"
      ]
     },
     "execution_count": 87,
     "metadata": {},
     "output_type": "execute_result"
    }
   ],
   "source": [
    "eqT2"
   ]
  },
  {
   "cell_type": "code",
   "execution_count": null,
   "metadata": {},
   "outputs": [],
   "source": []
  }
 ],
 "metadata": {
  "kernelspec": {
   "display_name": "Python 3",
   "language": "python",
   "name": "python3"
  },
  "language_info": {
   "codemirror_mode": {
    "name": "ipython",
    "version": 3
   },
   "file_extension": ".py",
   "mimetype": "text/x-python",
   "name": "python",
   "nbconvert_exporter": "python",
   "pygments_lexer": "ipython3",
   "version": "3.8.5"
  }
 },
 "nbformat": 4,
 "nbformat_minor": 4
}
