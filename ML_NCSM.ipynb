{
 "cells": [
  {
   "cell_type": "markdown",
   "metadata": {},
   "source": [
    "# Machine Learning for NCSM "
   ]
  },
  {
   "cell_type": "markdown",
   "metadata": {},
   "source": [
    "## Python/Jupyter/Numpy ...\n"
   ]
  },
  {
   "cell_type": "code",
   "execution_count": 1,
   "metadata": {},
   "outputs": [],
   "source": [
    "from __future__ import absolute_import, division, print_function, unicode_literals, unicode_literals\n",
    "\n",
    "import pathlib\n",
    "import numpy as np \n",
    "import matplotlib.pyplot as plt\n",
    "import pandas as pd\n",
    "import seaborn as sns\n",
    "import os \n",
    "\n",
    "import tensorflow as tf\n",
    "from tensorflow import keras\n",
    "from tensorflow.keras import layers\n",
    "from keras import models\n",
    "from keras import layers\n",
    "import tensorflow.keras as keras"
   ]
  },
  {
   "cell_type": "code",
   "execution_count": 2,
   "metadata": {},
   "outputs": [],
   "source": [
    "# convert integer to array \n",
    "def integer_to_bin_array(N,dim_b=8):\n",
    "    \"\"\" Convert integers into dim_b bits  binary\n",
    "    \"\"\"\n",
    "    import numpy as np\n",
    "    bin_str = bin(N)[2:] # to binary string \n",
    "    if len(bin_str) > dim_b :\n",
    "        raise ValueError('{} is too large to be {} bits'.format(N,dim_b))\n",
    "    bin_str=bin_str.zfill(dim_b) #padding zero \n",
    "    bin_array=[float(j) for j in bin_str] \n",
    "    return bin_array"
   ]
  },
  {
   "cell_type": "markdown",
   "metadata": {},
   "source": [
    "# NCSM 6Li case\n",
    "\n",
    "PHYSICAL REVIEW C 99, 054308 (2019)"
   ]
  },
  {
   "cell_type": "code",
   "execution_count": 3,
   "metadata": {},
   "outputs": [
    {
     "data": {
      "text/html": [
       "<div>\n",
       "<style scoped>\n",
       "    .dataframe tbody tr th:only-of-type {\n",
       "        vertical-align: middle;\n",
       "    }\n",
       "\n",
       "    .dataframe tbody tr th {\n",
       "        vertical-align: top;\n",
       "    }\n",
       "\n",
       "    .dataframe thead th {\n",
       "        text-align: right;\n",
       "    }\n",
       "</style>\n",
       "<table border=\"1\" class=\"dataframe\">\n",
       "  <thead>\n",
       "    <tr style=\"text-align: right;\">\n",
       "      <th></th>\n",
       "      <th>Omega</th>\n",
       "      <th>Nmax</th>\n",
       "      <th>gs</th>\n",
       "    </tr>\n",
       "  </thead>\n",
       "  <tbody>\n",
       "    <tr>\n",
       "      <th>count</th>\n",
       "      <td>171.000000</td>\n",
       "      <td>171.000000</td>\n",
       "      <td>171.000000</td>\n",
       "    </tr>\n",
       "    <tr>\n",
       "      <th>mean</th>\n",
       "      <td>27.736842</td>\n",
       "      <td>10.000000</td>\n",
       "      <td>-25.990191</td>\n",
       "    </tr>\n",
       "    <tr>\n",
       "      <th>std</th>\n",
       "      <td>13.372306</td>\n",
       "      <td>5.179144</td>\n",
       "      <td>9.129361</td>\n",
       "    </tr>\n",
       "    <tr>\n",
       "      <th>min</th>\n",
       "      <td>8.000000</td>\n",
       "      <td>2.000000</td>\n",
       "      <td>-31.977100</td>\n",
       "    </tr>\n",
       "    <tr>\n",
       "      <th>25%</th>\n",
       "      <td>15.000000</td>\n",
       "      <td>6.000000</td>\n",
       "      <td>-31.314700</td>\n",
       "    </tr>\n",
       "    <tr>\n",
       "      <th>50%</th>\n",
       "      <td>27.500000</td>\n",
       "      <td>10.000000</td>\n",
       "      <td>-29.469000</td>\n",
       "    </tr>\n",
       "    <tr>\n",
       "      <th>75%</th>\n",
       "      <td>40.000000</td>\n",
       "      <td>14.000000</td>\n",
       "      <td>-24.918950</td>\n",
       "    </tr>\n",
       "    <tr>\n",
       "      <th>max</th>\n",
       "      <td>50.000000</td>\n",
       "      <td>18.000000</td>\n",
       "      <td>24.685000</td>\n",
       "    </tr>\n",
       "  </tbody>\n",
       "</table>\n",
       "</div>"
      ],
      "text/plain": [
       "            Omega        Nmax          gs\n",
       "count  171.000000  171.000000  171.000000\n",
       "mean    27.736842   10.000000  -25.990191\n",
       "std     13.372306    5.179144    9.129361\n",
       "min      8.000000    2.000000  -31.977100\n",
       "25%     15.000000    6.000000  -31.314700\n",
       "50%     27.500000   10.000000  -29.469000\n",
       "75%     40.000000   14.000000  -24.918950\n",
       "max     50.000000   18.000000   24.685000"
      ]
     },
     "execution_count": 3,
     "metadata": {},
     "output_type": "execute_result"
    }
   ],
   "source": [
    "out = np.loadtxt('6Li.txt')\n",
    "homega_list = out[1:,0]\n",
    "nmax_list = out[0,2:]\n",
    "data = out[1:,2:] # data[i,j] is for (homega[i] ,nmax[j]) \n",
    "\n",
    "#====collect data in table form \n",
    "data_form =[] \n",
    "n=0\n",
    "for i in range(len(homega_list)):\n",
    "    for j in range(len(nmax_list)):\n",
    "        data_form.append([homega_list[i],nmax_list[j],data[i,j]])\n",
    "        \n",
    "import pandas as pd\n",
    "data_df = pd.DataFrame.from_records(data_form,columns=['Omega', 'Nmax', 'gs' ])\n",
    "data_df.describe()"
   ]
  },
  {
   "cell_type": "code",
   "execution_count": 4,
   "metadata": {},
   "outputs": [
    {
     "data": {
      "text/html": [
       "<div>\n",
       "<style scoped>\n",
       "    .dataframe tbody tr th:only-of-type {\n",
       "        vertical-align: middle;\n",
       "    }\n",
       "\n",
       "    .dataframe tbody tr th {\n",
       "        vertical-align: top;\n",
       "    }\n",
       "\n",
       "    .dataframe thead th {\n",
       "        text-align: right;\n",
       "    }\n",
       "</style>\n",
       "<table border=\"1\" class=\"dataframe\">\n",
       "  <thead>\n",
       "    <tr style=\"text-align: right;\">\n",
       "      <th></th>\n",
       "      <th>Omega</th>\n",
       "      <th>Nmax</th>\n",
       "      <th>gs</th>\n",
       "    </tr>\n",
       "  </thead>\n",
       "  <tbody>\n",
       "    <tr>\n",
       "      <th>count</th>\n",
       "      <td>166.000000</td>\n",
       "      <td>166.000000</td>\n",
       "      <td>166.000000</td>\n",
       "    </tr>\n",
       "    <tr>\n",
       "      <th>mean</th>\n",
       "      <td>1.086265</td>\n",
       "      <td>0.568273</td>\n",
       "      <td>-1.357022</td>\n",
       "    </tr>\n",
       "    <tr>\n",
       "      <th>std</th>\n",
       "      <td>0.525199</td>\n",
       "      <td>0.282263</td>\n",
       "      <td>0.309464</td>\n",
       "    </tr>\n",
       "    <tr>\n",
       "      <th>min</th>\n",
       "      <td>0.320000</td>\n",
       "      <td>0.111111</td>\n",
       "      <td>-1.598855</td>\n",
       "    </tr>\n",
       "    <tr>\n",
       "      <th>25%</th>\n",
       "      <td>0.600000</td>\n",
       "      <td>0.333333</td>\n",
       "      <td>-1.568122</td>\n",
       "    </tr>\n",
       "    <tr>\n",
       "      <th>50%</th>\n",
       "      <td>1.100000</td>\n",
       "      <td>0.555556</td>\n",
       "      <td>-1.476948</td>\n",
       "    </tr>\n",
       "    <tr>\n",
       "      <th>75%</th>\n",
       "      <td>1.500000</td>\n",
       "      <td>0.777778</td>\n",
       "      <td>-1.284260</td>\n",
       "    </tr>\n",
       "    <tr>\n",
       "      <th>max</th>\n",
       "      <td>2.000000</td>\n",
       "      <td>1.000000</td>\n",
       "      <td>-0.026785</td>\n",
       "    </tr>\n",
       "  </tbody>\n",
       "</table>\n",
       "</div>"
      ],
      "text/plain": [
       "            Omega        Nmax          gs\n",
       "count  166.000000  166.000000  166.000000\n",
       "mean     1.086265    0.568273   -1.357022\n",
       "std      0.525199    0.282263    0.309464\n",
       "min      0.320000    0.111111   -1.598855\n",
       "25%      0.600000    0.333333   -1.568122\n",
       "50%      1.100000    0.555556   -1.476948\n",
       "75%      1.500000    0.777778   -1.284260\n",
       "max      2.000000    1.000000   -0.026785"
      ]
     },
     "execution_count": 4,
     "metadata": {},
     "output_type": "execute_result"
    }
   ],
   "source": [
    "#scaling data \n",
    "scale_omega = 25.0\n",
    "data_df['Omega'] = data_df['Omega']/scale_omega\n",
    "scale_nmax = 18.0\n",
    "data_df['Nmax'] = data_df['Nmax']/scale_nmax\n",
    "scale_gs = 20.0 \n",
    "data_df['gs'] = data_df['gs']/scale_gs\n",
    "\n",
    "# exclude positive energy data \n",
    "data_df = data_df[ data_df['gs']<0.0]\n",
    "\n",
    "#--split training and test\n",
    "training_df = data_df[(data_df['Nmax']<18/scale_nmax)]\n",
    "test_df = data_df[(data_df['Nmax']==18/scale_nmax)]\n",
    "\n",
    "# random shuffle\n",
    "training_df = training_df.sample(frac = 1) \n",
    "test_df = test_df.sample(frac = 1)  \n",
    "\n",
    "# separate features and labels \n",
    "train_X = training_df.iloc[:,:-1]\n",
    "train_Y = training_df.iloc[:,-1]\n",
    "\n",
    "test_X = test_df.iloc[:,:-1]\n",
    "test_Y = test_df.iloc[:,-1]\n",
    "\n",
    "data_df.describe()"
   ]
  },
  {
   "cell_type": "code",
   "execution_count": 16,
   "metadata": {},
   "outputs": [
    {
     "name": "stdout",
     "output_type": "stream",
     "text": [
      "Model: \"sequential_3\"\n",
      "_________________________________________________________________\n",
      "Layer (type)                 Output Shape              Param #   \n",
      "=================================================================\n",
      "dense_6 (Dense)              (None, 6)                 18        \n",
      "_________________________________________________________________\n",
      "dense_7 (Dense)              (None, 1)                 7         \n",
      "=================================================================\n",
      "Total params: 25\n",
      "Trainable params: 25\n",
      "Non-trainable params: 0\n",
      "_________________________________________________________________\n",
      "5/5 [==============================] - 0s 599us/step - loss: 0.0010\n",
      "MSE(train)= 0.020675992127507925\n",
      "1/1 [==============================] - 0s 997us/step - loss: 0.0019\n",
      "MSE(test)= 0.03750195726752281\n"
     ]
    }
   ],
   "source": [
    "network = models.Sequential()\n",
    "network.add(layers.Dense(6, activation='tanh', input_shape=(2,)))\n",
    "network.add(layers.Dense(1, activation=None))\n",
    "\n",
    "network.compile(optimizer='Adam',\n",
    "               loss='MSE')\n",
    "\n",
    "network.summary()\n",
    "\n",
    "network.fit(train_X, train_Y, epochs=5000, batch_size=100, verbose=False)\n",
    "\n",
    "print('MSE(train)= {}'.format(network.evaluate(train_X,train_Y)*scale_gs ))\n",
    "print('MSE(test)= {}'.format(network.evaluate(test_X,test_Y)*scale_gs ))"
   ]
  },
  {
   "cell_type": "code",
   "execution_count": 17,
   "metadata": {},
   "outputs": [
    {
     "name": "stdout",
     "output_type": "stream",
     "text": [
      "========Train data==========\n",
      "WARNING:tensorflow:5 out of the last 12 calls to <function Model.make_predict_function.<locals>.predict_function at 0x000001FD0577AEE0> triggered tf.function retracing. Tracing is expensive and the excessive number of tracings could be due to (1) creating @tf.function repeatedly in a loop, (2) passing tensors with different shapes, (3) passing Python objects instead of tensors. For (1), please define your @tf.function outside of the loop. For (2), @tf.function has experimental_relax_shapes=True option that relaxes argument shapes that can avoid unnecessary retracing. For (3), please refer to https://www.tensorflow.org/tutorials/customization/performance#python_or_tensor_args and https://www.tensorflow.org/api_docs/python/tf/function for  more details.\n",
      "=======Test data============\n",
      "=======large Nmax============\n"
     ]
    },
    {
     "data": {
      "text/plain": [
       "<matplotlib.legend.Legend at 0x1fd058a8e50>"
      ]
     },
     "execution_count": 17,
     "metadata": {},
     "output_type": "execute_result"
    },
    {
     "data": {
      "image/png": "[encoded data removed]",
      "text/plain": [
       "<Figure size 432x288 with 1 Axes>"
      ]
     },
     "metadata": {
      "needs_background": "light"
     },
     "output_type": "display_data"
    },
    {
     "data": {
      "image/png": "[encoded data removed]",
      "text/plain": [
       "<Figure size 432x288 with 1 Axes>"
      ]
     },
     "metadata": {
      "needs_background": "light"
     },
     "output_type": "display_data"
    },
    {
     "data": {
      "image/png": "[encoded data removed]",
      "text/plain": [
       "<Figure size 432x288 with 1 Axes>"
      ]
     },
     "metadata": {
      "needs_background": "light"
     },
     "output_type": "display_data"
    }
   ],
   "source": [
    "# For example \n",
    "print('========Train data==========')\n",
    "plt.figure()\n",
    "plt.plot(train_X['Omega'],network.predict(train_X) ,'*',label='NN') \n",
    "plt.plot(train_X['Omega'],train_Y,'.')\n",
    "plt.ylim([-2.0,0])\n",
    "plt.legend()\n",
    "print('=======Test data============')\n",
    "plt.figure()\n",
    "plt.plot(test_X['Omega'],network.predict(test_X) ,'*',label='NN') \n",
    "plt.plot(test_X['Omega'],test_Y,'.')\n",
    "plt.ylim([-2.0,0])\n",
    "plt.legend()\n",
    "# extrapolation\n",
    "print('=======large Nmax============')\n",
    "ext_X=np.array([ [i, 20.] for i in np.linspace(0.25,2.0)  ])\n",
    "plt.figure()\n",
    "plt.plot(ext_X[:,0],network.predict(ext_X),label='NN') \n",
    "plt.legend()"
   ]
  },
  {
   "cell_type": "code",
   "execution_count": 18,
   "metadata": {},
   "outputs": [
    {
     "data": {
      "text/plain": [
       "<matplotlib.legend.Legend at 0x1fd7f184640>"
      ]
     },
     "execution_count": 18,
     "metadata": {},
     "output_type": "execute_result"
    },
    {
     "data": {
      "image/png": "[encoded data removed]",
      "text/plain": [
       "<Figure size 432x288 with 1 Axes>"
      ]
     },
     "metadata": {
      "needs_background": "light"
     },
     "output_type": "display_data"
    }
   ],
   "source": [
    "# For example \n",
    "plt.figure()\n",
    "plt.plot(train_X['Omega'],network.predict(train_X) ,'*',label='NN train') \n",
    "plt.plot(train_X['Omega'],train_Y,'.')\n",
    "plt.plot(test_X['Omega'],network.predict(test_X) ,'*',label='NN test') \n",
    "plt.plot(test_X['Omega'],test_Y,'.')\n",
    "# extrapolation\n",
    "ext_X=np.array([ [i, 10.] for i in np.linspace(0.25,2.0)  ])\n",
    "plt.plot(ext_X[:,0],network.predict(ext_X),label='NN large nmax') \n",
    "plt.legend()"
   ]
  },
  {
   "cell_type": "markdown",
   "metadata": {},
   "source": [
    "# NCSM 11Be"
   ]
  },
  {
   "cell_type": "markdown",
   "metadata": {},
   "source": [
    "## Be11 positive parity"
   ]
  },
  {
   "cell_type": "code",
   "execution_count": 19,
   "metadata": {},
   "outputs": [
    {
     "data": {
      "text/html": [
       "<div>\n",
       "<style scoped>\n",
       "    .dataframe tbody tr th:only-of-type {\n",
       "        vertical-align: middle;\n",
       "    }\n",
       "\n",
       "    .dataframe tbody tr th {\n",
       "        vertical-align: top;\n",
       "    }\n",
       "\n",
       "    .dataframe thead th {\n",
       "        text-align: right;\n",
       "    }\n",
       "</style>\n",
       "<table border=\"1\" class=\"dataframe\">\n",
       "  <thead>\n",
       "    <tr style=\"text-align: right;\">\n",
       "      <th></th>\n",
       "      <th>Omega</th>\n",
       "      <th>Nmax</th>\n",
       "      <th>gs</th>\n",
       "    </tr>\n",
       "  </thead>\n",
       "  <tbody>\n",
       "    <tr>\n",
       "      <th>count</th>\n",
       "      <td>77.000000</td>\n",
       "      <td>77.000000</td>\n",
       "      <td>77.000000</td>\n",
       "    </tr>\n",
       "    <tr>\n",
       "      <th>mean</th>\n",
       "      <td>21.655844</td>\n",
       "      <td>5.909091</td>\n",
       "      <td>-44.480371</td>\n",
       "    </tr>\n",
       "    <tr>\n",
       "      <th>std</th>\n",
       "      <td>10.184243</td>\n",
       "      <td>3.052962</td>\n",
       "      <td>16.278576</td>\n",
       "    </tr>\n",
       "    <tr>\n",
       "      <th>min</th>\n",
       "      <td>8.000000</td>\n",
       "      <td>1.000000</td>\n",
       "      <td>-64.399600</td>\n",
       "    </tr>\n",
       "    <tr>\n",
       "      <th>25%</th>\n",
       "      <td>12.500000</td>\n",
       "      <td>3.000000</td>\n",
       "      <td>-58.469300</td>\n",
       "    </tr>\n",
       "    <tr>\n",
       "      <th>50%</th>\n",
       "      <td>20.000000</td>\n",
       "      <td>7.000000</td>\n",
       "      <td>-48.388400</td>\n",
       "    </tr>\n",
       "    <tr>\n",
       "      <th>75%</th>\n",
       "      <td>30.000000</td>\n",
       "      <td>9.000000</td>\n",
       "      <td>-34.339500</td>\n",
       "    </tr>\n",
       "    <tr>\n",
       "      <th>max</th>\n",
       "      <td>45.000000</td>\n",
       "      <td>11.000000</td>\n",
       "      <td>-5.143900</td>\n",
       "    </tr>\n",
       "  </tbody>\n",
       "</table>\n",
       "</div>"
      ],
      "text/plain": [
       "           Omega       Nmax         gs\n",
       "count  77.000000  77.000000  77.000000\n",
       "mean   21.655844   5.909091 -44.480371\n",
       "std    10.184243   3.052962  16.278576\n",
       "min     8.000000   1.000000 -64.399600\n",
       "25%    12.500000   3.000000 -58.469300\n",
       "50%    20.000000   7.000000 -48.388400\n",
       "75%    30.000000   9.000000 -34.339500\n",
       "max    45.000000  11.000000  -5.143900"
      ]
     },
     "execution_count": 19,
     "metadata": {},
     "output_type": "execute_result"
    }
   ],
   "source": [
    "#-----read data for positive parity \n",
    "Be11p = np.loadtxt('11Be_p.txt')\n",
    "\n",
    "Be11p_omega = Be11p[1:,0]\n",
    "Be11p_nmax = Be11p[0,1:]\n",
    "Be11p_data = Be11p[1:,1:]\n",
    "\n",
    "#====collect data in table form \n",
    "Be11p_df = [] \n",
    "for i in range(len(Be11p_omega)):\n",
    "    for j in range(len(Be11p_nmax)):\n",
    "        Be11p_df.append([Be11p_omega[i],Be11p_nmax[j],Be11p_data[i,j]])\n",
    "Be11p_df = pd.DataFrame.from_records(Be11p_df,columns=['Omega', 'Nmax', 'gs' ])\n",
    "\n",
    "#--discard positive b.e.\n",
    "Be11p_df = Be11p_df[Be11p_df['gs']<0.0]\n",
    "\n",
    "Be11p_df.describe()"
   ]
  },
  {
   "cell_type": "code",
   "execution_count": 20,
   "metadata": {},
   "outputs": [
    {
     "data": {
      "text/html": [
       "<div>\n",
       "<style scoped>\n",
       "    .dataframe tbody tr th:only-of-type {\n",
       "        vertical-align: middle;\n",
       "    }\n",
       "\n",
       "    .dataframe tbody tr th {\n",
       "        vertical-align: top;\n",
       "    }\n",
       "\n",
       "    .dataframe thead th {\n",
       "        text-align: right;\n",
       "    }\n",
       "</style>\n",
       "<table border=\"1\" class=\"dataframe\">\n",
       "  <thead>\n",
       "    <tr style=\"text-align: right;\">\n",
       "      <th></th>\n",
       "      <th>Omega</th>\n",
       "      <th>Nmax</th>\n",
       "      <th>gs</th>\n",
       "    </tr>\n",
       "  </thead>\n",
       "  <tbody>\n",
       "    <tr>\n",
       "      <th>count</th>\n",
       "      <td>77.000000</td>\n",
       "      <td>77.000000</td>\n",
       "      <td>77.000000</td>\n",
       "    </tr>\n",
       "    <tr>\n",
       "      <th>mean</th>\n",
       "      <td>1.082792</td>\n",
       "      <td>0.844156</td>\n",
       "      <td>-1.112009</td>\n",
       "    </tr>\n",
       "    <tr>\n",
       "      <th>std</th>\n",
       "      <td>0.509212</td>\n",
       "      <td>0.436137</td>\n",
       "      <td>0.406964</td>\n",
       "    </tr>\n",
       "    <tr>\n",
       "      <th>min</th>\n",
       "      <td>0.400000</td>\n",
       "      <td>0.142857</td>\n",
       "      <td>-1.609990</td>\n",
       "    </tr>\n",
       "    <tr>\n",
       "      <th>25%</th>\n",
       "      <td>0.625000</td>\n",
       "      <td>0.428571</td>\n",
       "      <td>-1.461732</td>\n",
       "    </tr>\n",
       "    <tr>\n",
       "      <th>50%</th>\n",
       "      <td>1.000000</td>\n",
       "      <td>1.000000</td>\n",
       "      <td>-1.209710</td>\n",
       "    </tr>\n",
       "    <tr>\n",
       "      <th>75%</th>\n",
       "      <td>1.500000</td>\n",
       "      <td>1.285714</td>\n",
       "      <td>-0.858488</td>\n",
       "    </tr>\n",
       "    <tr>\n",
       "      <th>max</th>\n",
       "      <td>2.250000</td>\n",
       "      <td>1.571429</td>\n",
       "      <td>-0.128598</td>\n",
       "    </tr>\n",
       "  </tbody>\n",
       "</table>\n",
       "</div>"
      ],
      "text/plain": [
       "           Omega       Nmax         gs\n",
       "count  77.000000  77.000000  77.000000\n",
       "mean    1.082792   0.844156  -1.112009\n",
       "std     0.509212   0.436137   0.406964\n",
       "min     0.400000   0.142857  -1.609990\n",
       "25%     0.625000   0.428571  -1.461732\n",
       "50%     1.000000   1.000000  -1.209710\n",
       "75%     1.500000   1.285714  -0.858488\n",
       "max     2.250000   1.571429  -0.128598"
      ]
     },
     "execution_count": 20,
     "metadata": {},
     "output_type": "execute_result"
    }
   ],
   "source": [
    "#---scale and split data\n",
    "#scaling data \n",
    "Be11p_scale_omega = 20.0\n",
    "Be11p_df['Omega'] = Be11p_df['Omega']/Be11p_scale_omega\n",
    "Be11p_scale_nmax = 7.0\n",
    "Be11p_df['Nmax'] = Be11p_df['Nmax']/Be11p_scale_nmax\n",
    "Be11p_scale_gs = 40.0 \n",
    "Be11p_df['gs'] = Be11p_df['gs']/Be11p_scale_gs\n",
    "\n",
    "#--split training and test\n",
    "Be11p_train_df = Be11p_df[(Be11p_df['Nmax']<11/Be11p_scale_nmax)]\n",
    "Be11p_test_df = Be11p_df[(Be11p_df['Nmax']==11/Be11p_scale_nmax)]\n",
    "\n",
    "# random shuffle\n",
    "Be11p_train_df = Be11p_train_df.sample(frac = 1) \n",
    "Be11p_test_df = Be11p_test_df.sample(frac = 1)  \n",
    "\n",
    "# separate features and labels \n",
    "Be11p_train_X = Be11p_train_df.iloc[:,:-1]\n",
    "Be11p_train_Y = Be11p_train_df.iloc[:,-1]\n",
    "\n",
    "Be11p_test_X = Be11p_test_df.iloc[:,:-1]\n",
    "Be11p_test_Y = Be11p_test_df.iloc[:,-1]\n",
    "\n",
    "Be11p_df.describe()"
   ]
  },
  {
   "cell_type": "code",
   "execution_count": 21,
   "metadata": {},
   "outputs": [
    {
     "name": "stdout",
     "output_type": "stream",
     "text": [
      "Model: \"sequential_4\"\n",
      "_________________________________________________________________\n",
      "Layer (type)                 Output Shape              Param #   \n",
      "=================================================================\n",
      "dense_8 (Dense)              (None, 8)                 24        \n",
      "_________________________________________________________________\n",
      "dense_9 (Dense)              (None, 1)                 9         \n",
      "=================================================================\n",
      "Total params: 33\n",
      "Trainable params: 33\n",
      "Non-trainable params: 0\n",
      "_________________________________________________________________\n",
      "3/3 [==============================] - 0s 664us/step - loss: 4.6092e-04\n",
      "MSE(train)= 0.018436789978295565\n",
      "1/1 [==============================] - 0s 3ms/step - loss: 5.2432e-04\n",
      "MSE(test)= 0.020972874481230974\n"
     ]
    }
   ],
   "source": [
    "Be11p_NN = models.Sequential()\n",
    "Be11p_NN.add(layers.Dense(8, activation='tanh', input_shape=(2,)))\n",
    "Be11p_NN.add(layers.Dense(1, activation=None))\n",
    "\n",
    "Be11p_NN.compile(optimizer='Adam',\n",
    "               loss='MSE')\n",
    "Be11p_NN.summary()\n",
    "\n",
    "Be11p_NN.fit(Be11p_train_X, Be11p_train_Y, epochs=4000, batch_size=50, verbose=False)\n",
    "print('MSE(train)= {}'.format(Be11p_NN.evaluate(Be11p_train_X,Be11p_train_Y)*Be11p_scale_gs ))\n",
    "print('MSE(test)= {}'.format( Be11p_NN.evaluate(Be11p_test_X,Be11p_test_Y)*Be11p_scale_gs ))"
   ]
  },
  {
   "cell_type": "code",
   "execution_count": 22,
   "metadata": {},
   "outputs": [
    {
     "data": {
      "text/plain": [
       "<matplotlib.legend.Legend at 0x1fd7fa6aa90>"
      ]
     },
     "execution_count": 22,
     "metadata": {},
     "output_type": "execute_result"
    },
    {
     "data": {
      "image/png": "[encoded data removed]",
      "text/plain": [
       "<Figure size 432x288 with 1 Axes>"
      ]
     },
     "metadata": {
      "needs_background": "light"
     },
     "output_type": "display_data"
    }
   ],
   "source": [
    "# For example \n",
    "plt.figure()\n",
    "plt.plot(Be11p_train_X['Omega'],Be11p_NN.predict(Be11p_train_X) ,'*',label='NN train') \n",
    "plt.plot(Be11p_train_X['Omega'],Be11p_train_Y,'.',label='NCSM')\n",
    "plt.plot(Be11p_test_X['Omega'],Be11p_NN.predict(Be11p_test_X) ,'*',label='NN test') \n",
    "plt.plot(Be11p_test_X['Omega'],Be11p_test_Y,'.',label='NCSM test')\n",
    "# extrapolation\n",
    "ext_X=np.array([ [i, 20.] for i in np.linspace(0.25,2.0)  ])\n",
    "plt.plot(ext_X[:,0],Be11p_NN.predict(ext_X),label='NN large nmax') \n",
    "plt.legend()"
   ]
  },
  {
   "cell_type": "markdown",
   "metadata": {},
   "source": [
    "## Be11 negative parity"
   ]
  },
  {
   "cell_type": "code",
   "execution_count": 23,
   "metadata": {},
   "outputs": [
    {
     "data": {
      "text/html": [
       "<div>\n",
       "<style scoped>\n",
       "    .dataframe tbody tr th:only-of-type {\n",
       "        vertical-align: middle;\n",
       "    }\n",
       "\n",
       "    .dataframe tbody tr th {\n",
       "        vertical-align: top;\n",
       "    }\n",
       "\n",
       "    .dataframe thead th {\n",
       "        text-align: right;\n",
       "    }\n",
       "</style>\n",
       "<table border=\"1\" class=\"dataframe\">\n",
       "  <thead>\n",
       "    <tr style=\"text-align: right;\">\n",
       "      <th></th>\n",
       "      <th>Omega</th>\n",
       "      <th>Nmax</th>\n",
       "      <th>gs</th>\n",
       "    </tr>\n",
       "  </thead>\n",
       "  <tbody>\n",
       "    <tr>\n",
       "      <th>count</th>\n",
       "      <td>67.000000</td>\n",
       "      <td>67.000000</td>\n",
       "      <td>67.000000</td>\n",
       "    </tr>\n",
       "    <tr>\n",
       "      <th>mean</th>\n",
       "      <td>22.395522</td>\n",
       "      <td>5.641791</td>\n",
       "      <td>-46.968685</td>\n",
       "    </tr>\n",
       "    <tr>\n",
       "      <th>std</th>\n",
       "      <td>10.422345</td>\n",
       "      <td>2.556640</td>\n",
       "      <td>15.665715</td>\n",
       "    </tr>\n",
       "    <tr>\n",
       "      <th>min</th>\n",
       "      <td>8.000000</td>\n",
       "      <td>2.000000</td>\n",
       "      <td>-64.399600</td>\n",
       "    </tr>\n",
       "    <tr>\n",
       "      <th>25%</th>\n",
       "      <td>12.500000</td>\n",
       "      <td>4.000000</td>\n",
       "      <td>-59.198450</td>\n",
       "    </tr>\n",
       "    <tr>\n",
       "      <th>50%</th>\n",
       "      <td>22.500000</td>\n",
       "      <td>6.000000</td>\n",
       "      <td>-51.189100</td>\n",
       "    </tr>\n",
       "    <tr>\n",
       "      <th>75%</th>\n",
       "      <td>30.000000</td>\n",
       "      <td>8.000000</td>\n",
       "      <td>-39.147300</td>\n",
       "    </tr>\n",
       "    <tr>\n",
       "      <th>max</th>\n",
       "      <td>45.000000</td>\n",
       "      <td>10.000000</td>\n",
       "      <td>-5.143900</td>\n",
       "    </tr>\n",
       "  </tbody>\n",
       "</table>\n",
       "</div>"
      ],
      "text/plain": [
       "           Omega       Nmax         gs\n",
       "count  67.000000  67.000000  67.000000\n",
       "mean   22.395522   5.641791 -46.968685\n",
       "std    10.422345   2.556640  15.665715\n",
       "min     8.000000   2.000000 -64.399600\n",
       "25%    12.500000   4.000000 -59.198450\n",
       "50%    22.500000   6.000000 -51.189100\n",
       "75%    30.000000   8.000000 -39.147300\n",
       "max    45.000000  10.000000  -5.143900"
      ]
     },
     "execution_count": 23,
     "metadata": {},
     "output_type": "execute_result"
    }
   ],
   "source": [
    "#-----read data for negative parity\n",
    "Be11m = np.loadtxt('11Be_m.txt')\n",
    "\n",
    "Be11m_omega = Be11m[1:,0]\n",
    "Be11m_nmax = Be11m[0,2:]\n",
    "Be11m_data = Be11p[1:,2:]\n",
    "\n",
    "#====collect data in table form \n",
    "Be11m_df = [] \n",
    "for i in range(len(Be11m_omega)):\n",
    "    for j in range(len(Be11m_nmax)):\n",
    "        Be11m_df.append([Be11m_omega[i],Be11m_nmax[j],Be11m_data[i,j]])\n",
    "Be11m_df = pd.DataFrame.from_records(Be11m_df,columns=['Omega', 'Nmax', 'gs' ])\n",
    "\n",
    "#--discard positive b.e.\n",
    "Be11m_df = Be11m_df[Be11m_df['gs']<0.0]\n",
    "\n",
    "Be11m_df.describe()"
   ]
  },
  {
   "cell_type": "code",
   "execution_count": 24,
   "metadata": {},
   "outputs": [
    {
     "data": {
      "text/html": [
       "<div>\n",
       "<style scoped>\n",
       "    .dataframe tbody tr th:only-of-type {\n",
       "        vertical-align: middle;\n",
       "    }\n",
       "\n",
       "    .dataframe tbody tr th {\n",
       "        vertical-align: top;\n",
       "    }\n",
       "\n",
       "    .dataframe thead th {\n",
       "        text-align: right;\n",
       "    }\n",
       "</style>\n",
       "<table border=\"1\" class=\"dataframe\">\n",
       "  <thead>\n",
       "    <tr style=\"text-align: right;\">\n",
       "      <th></th>\n",
       "      <th>Omega</th>\n",
       "      <th>Nmax</th>\n",
       "      <th>gs</th>\n",
       "    </tr>\n",
       "  </thead>\n",
       "  <tbody>\n",
       "    <tr>\n",
       "      <th>count</th>\n",
       "      <td>67.000000</td>\n",
       "      <td>67.000000</td>\n",
       "      <td>67.000000</td>\n",
       "    </tr>\n",
       "    <tr>\n",
       "      <th>mean</th>\n",
       "      <td>1.119776</td>\n",
       "      <td>0.805970</td>\n",
       "      <td>-1.174217</td>\n",
       "    </tr>\n",
       "    <tr>\n",
       "      <th>std</th>\n",
       "      <td>0.521117</td>\n",
       "      <td>0.365234</td>\n",
       "      <td>0.391643</td>\n",
       "    </tr>\n",
       "    <tr>\n",
       "      <th>min</th>\n",
       "      <td>0.400000</td>\n",
       "      <td>0.285714</td>\n",
       "      <td>-1.609990</td>\n",
       "    </tr>\n",
       "    <tr>\n",
       "      <th>25%</th>\n",
       "      <td>0.625000</td>\n",
       "      <td>0.571429</td>\n",
       "      <td>-1.479961</td>\n",
       "    </tr>\n",
       "    <tr>\n",
       "      <th>50%</th>\n",
       "      <td>1.125000</td>\n",
       "      <td>0.857143</td>\n",
       "      <td>-1.279728</td>\n",
       "    </tr>\n",
       "    <tr>\n",
       "      <th>75%</th>\n",
       "      <td>1.500000</td>\n",
       "      <td>1.142857</td>\n",
       "      <td>-0.978683</td>\n",
       "    </tr>\n",
       "    <tr>\n",
       "      <th>max</th>\n",
       "      <td>2.250000</td>\n",
       "      <td>1.428571</td>\n",
       "      <td>-0.128598</td>\n",
       "    </tr>\n",
       "  </tbody>\n",
       "</table>\n",
       "</div>"
      ],
      "text/plain": [
       "           Omega       Nmax         gs\n",
       "count  67.000000  67.000000  67.000000\n",
       "mean    1.119776   0.805970  -1.174217\n",
       "std     0.521117   0.365234   0.391643\n",
       "min     0.400000   0.285714  -1.609990\n",
       "25%     0.625000   0.571429  -1.479961\n",
       "50%     1.125000   0.857143  -1.279728\n",
       "75%     1.500000   1.142857  -0.978683\n",
       "max     2.250000   1.428571  -0.128598"
      ]
     },
     "execution_count": 24,
     "metadata": {},
     "output_type": "execute_result"
    }
   ],
   "source": [
    "#---scale and split data\n",
    "#scaling data \n",
    "Be11m_scale_omega = 20.0\n",
    "Be11m_df['Omega'] = Be11m_df['Omega']/Be11m_scale_omega\n",
    "Be11m_scale_nmax = 7.0\n",
    "Be11m_df['Nmax'] = Be11m_df['Nmax']/Be11m_scale_nmax\n",
    "Be11m_scale_gs = 40.0 \n",
    "Be11m_df['gs'] = Be11m_df['gs']/Be11m_scale_gs\n",
    "\n",
    "#--split training and test\n",
    "Be11m_train_df = Be11m_df[(Be11m_df['Nmax']<10/Be11m_scale_nmax)]\n",
    "Be11m_test_df = Be11m_df[(Be11m_df['Nmax']==10/Be11m_scale_nmax)]\n",
    "\n",
    "# random shuffle\n",
    "Be11m_train_df = Be11m_train_df.sample(frac = 1) \n",
    "Be11m_test_df = Be11m_test_df.sample(frac = 1)  \n",
    "\n",
    "# separate features and labels \n",
    "Be11m_train_X = Be11m_train_df.iloc[:,:-1]\n",
    "Be11m_train_Y = Be11m_train_df.iloc[:,-1]\n",
    "\n",
    "Be11m_test_X = Be11m_test_df.iloc[:,:-1]\n",
    "Be11m_test_Y = Be11m_test_df.iloc[:,-1]\n",
    "\n",
    "Be11m_df.describe()"
   ]
  },
  {
   "cell_type": "code",
   "execution_count": 25,
   "metadata": {},
   "outputs": [
    {
     "name": "stdout",
     "output_type": "stream",
     "text": [
      "Model: \"sequential_5\"\n",
      "_________________________________________________________________\n",
      "Layer (type)                 Output Shape              Param #   \n",
      "=================================================================\n",
      "dense_10 (Dense)             (None, 10)                30        \n",
      "_________________________________________________________________\n",
      "dense_11 (Dense)             (None, 1)                 11        \n",
      "=================================================================\n",
      "Total params: 41\n",
      "Trainable params: 41\n",
      "Non-trainable params: 0\n",
      "_________________________________________________________________\n",
      "2/2 [==============================] - 0s 513us/step - loss: 0.0045\n",
      "0.004531890153884888\n",
      "1/1 [==============================] - 0s 998us/step - loss: 0.0116\n",
      "0.01160773728042841\n"
     ]
    }
   ],
   "source": [
    "Be11m_NN = models.Sequential()\n",
    "Be11m_NN.add(layers.Dense(10, activation='tanh', input_shape=(2,)))\n",
    "Be11m_NN.add(layers.Dense(1, activation=None))\n",
    "\n",
    "Be11m_NN.compile(optimizer='Adam',\n",
    "               loss='MSE')\n",
    "\n",
    "Be11m_NN.summary()\n",
    "\n",
    "Be11m_NN.fit(Be11m_train_X, Be11m_train_Y, epochs=3000, batch_size=50, verbose=False)\n",
    "print( Be11m_NN.evaluate(Be11m_train_X,Be11m_train_Y) )\n",
    "print( Be11m_NN.evaluate(Be11m_test_X,Be11m_test_Y) )"
   ]
  },
  {
   "cell_type": "code",
   "execution_count": 26,
   "metadata": {},
   "outputs": [
    {
     "name": "stdout",
     "output_type": "stream",
     "text": [
      "========Train data==========\n",
      "=======large Nmax============\n",
      "WARNING:tensorflow:5 out of the last 20 calls to <function Model.make_predict_function.<locals>.predict_function at 0x000001FD7FA3DCA0> triggered tf.function retracing. Tracing is expensive and the excessive number of tracings could be due to (1) creating @tf.function repeatedly in a loop, (2) passing tensors with different shapes, (3) passing Python objects instead of tensors. For (1), please define your @tf.function outside of the loop. For (2), @tf.function has experimental_relax_shapes=True option that relaxes argument shapes that can avoid unnecessary retracing. For (3), please refer to https://www.tensorflow.org/tutorials/customization/performance#python_or_tensor_args and https://www.tensorflow.org/api_docs/python/tf/function for  more details.\n"
     ]
    },
    {
     "data": {
      "text/plain": [
       "<matplotlib.legend.Legend at 0x1fd06b47df0>"
      ]
     },
     "execution_count": 26,
     "metadata": {},
     "output_type": "execute_result"
    },
    {
     "data": {
      "image/png": "[encoded data removed]",
      "text/plain": [
       "<Figure size 432x288 with 1 Axes>"
      ]
     },
     "metadata": {
      "needs_background": "light"
     },
     "output_type": "display_data"
    }
   ],
   "source": [
    "# For example \n",
    "print('========Train data==========')\n",
    "plt.figure()\n",
    "plt.plot(Be11m_train_X['Omega'],Be11m_NN.predict(Be11m_train_X) ,'*',label='NN train') \n",
    "plt.plot(Be11m_train_X['Omega'],Be11m_train_Y,'.')\n",
    "plt.plot(Be11m_test_X['Omega'],Be11m_NN.predict(Be11m_test_X) ,'*',label='NN test') \n",
    "plt.plot(Be11m_test_X['Omega'],Be11m_test_Y,'.')\n",
    "# extrapolation\n",
    "print('=======large Nmax============')\n",
    "ext_X=np.array([ [i, 30.] for i in np.linspace(0.25,2.0)  ])\n",
    "plt.plot(ext_X[:,0],Be11m_NN.predict(ext_X),label='NN large nmax') \n",
    "plt.legend()"
   ]
  },
  {
   "cell_type": "code",
   "execution_count": null,
   "metadata": {},
   "outputs": [],
   "source": []
  },
  {
   "cell_type": "code",
   "execution_count": null,
   "metadata": {},
   "outputs": [],
   "source": []
  }
 ],
 "metadata": {
  "kernelspec": {
   "display_name": "Python 3",
   "language": "python",
   "name": "python3"
  },
  "language_info": {
   "codemirror_mode": {
    "name": "ipython",
    "version": 3
   },
   "file_extension": ".py",
   "mimetype": "text/x-python",
   "name": "python",
   "nbconvert_exporter": "python",
   "pygments_lexer": "ipython3",
   "version": "3.8.5"
  }
 },
 "nbformat": 4,
 "nbformat_minor": 4
}
