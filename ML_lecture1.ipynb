{
 "cells": [
  {
   "cell_type": "markdown",
   "metadata": {},
   "source": [
    "# Machine Learning Lecture 1"
   ]
  },
  {
   "cell_type": "markdown",
   "metadata": {},
   "source": [
    "## Python/Jupyter/Numpy ...\n",
    "\n",
    "There are a lot of information on internet "
   ]
  },
  {
   "cell_type": "code",
   "execution_count": 19,
   "metadata": {},
   "outputs": [],
   "source": [
    "from __future__ import absolute_import, division, print_function, unicode_literals, unicode_literals\n",
    "\n",
    "import pathlib\n",
    "import numpy as np \n",
    "import matplotlib.pyplot as plt\n",
    "import pandas as pd\n",
    "import seaborn as sns\n",
    "import os \n",
    "\n",
    "import tensorflow as tf\n",
    "from tensorflow import keras\n",
    "from tensorflow.keras import layers"
   ]
  },
  {
   "cell_type": "markdown",
   "metadata": {},
   "source": [
    "## Perceptron"
   ]
  },
  {
   "cell_type": "code",
   "execution_count": 1,
   "metadata": {},
   "outputs": [],
   "source": [
    "import numpy as np\n",
    "import numpy.random \n",
    "import matplotlib.pyplot as plt\n",
    "\n",
    "def step_function(x):\n",
    "    return (x>0.0)*1.0+(x<0.0)*0.0\n",
    "\n",
    "class perceptron():\n",
    "    def __init__(self,input_length,weights=None,bias=None,activation='step'):\n",
    "        self.input_legnth= input_length \n",
    "        if not weights:\n",
    "            self.weights=numpy.random.rand(input_length)\n",
    "        else:\n",
    "            # check length \n",
    "            if len(weights)!=input_length:\n",
    "                print('Error: input length should be the same as weights')\n",
    "                return \n",
    "            self.weights = weights\n",
    "        if not bias:\n",
    "            self.bias = numpy.random.rand(1)\n",
    "        else:\n",
    "            self.bias = bias\n",
    "        if activation=='step':\n",
    "            self.sigma = step_function \n",
    "            \n",
    "    def __call__(self,x):\n",
    "        return self.sigma(np.dot(self.weights,x)+self.bias)"
   ]
  },
  {
   "cell_type": "code",
   "execution_count": 2,
   "metadata": {},
   "outputs": [
    {
     "name": "stdout",
     "output_type": "stream",
     "text": [
      "NAND gate\n",
      "0,0->1.0\n",
      "0,1->1.0\n",
      "1,0->1.0\n",
      "1,1->0.0\n",
      "OR gate\n",
      "0,0->0.0\n",
      "0,1->1.0\n",
      "1,0->1.0\n",
      "1,1->1.0\n",
      "AND gate\n",
      "0,0->0.0\n",
      "0,1->0.0\n",
      "1,0->0.0\n",
      "1,1->1.0\n"
     ]
    }
   ],
   "source": [
    "#-------------------\n",
    "print('NAND gate')\n",
    "Nand = perceptron(2,weights=[-2,-2],bias=3.0) \n",
    "for i in [0,1]:\n",
    "    for j in [0,1]:\n",
    "        print('{},{}->{}'.format(i,j,Nand([i,j])))\n",
    "\n",
    "print('OR gate')\n",
    "Or = perceptron(2,weights=[2,2],bias=-1) \n",
    "for i in [0,1]:\n",
    "    for j in [0,1]:\n",
    "        print('{},{}->{}'.format(i,j,Or([i,j])))\n",
    "        \n",
    "print('AND gate')\n",
    "And = perceptron(2,weights=[0.5,0.5],bias=-0.7) \n",
    "for i in [0,1]:\n",
    "    for j in [0,1]:\n",
    "        print('{},{}->{}'.format(i,j,And([i,j])))        "
   ]
  },
  {
   "cell_type": "markdown",
   "metadata": {},
   "source": [
    "### XOR gate can be made by combining "
   ]
  },
  {
   "cell_type": "code",
   "execution_count": 3,
   "metadata": {},
   "outputs": [
    {
     "name": "stdout",
     "output_type": "stream",
     "text": [
      "XOR gate\n",
      "0,0->0.0\n",
      "0,1->1.0\n",
      "1,0->1.0\n",
      "1,1->0.0\n"
     ]
    }
   ],
   "source": [
    "print('XOR gate')\n",
    "XOR = lambda x: And([Nand(x),Or(x)])\n",
    "\n",
    "for i in [0,1]:\n",
    "    for j in [0,1]:\n",
    "        x=[i,j]\n",
    "        print('{},{}->{}'.format(i,j, XOR(x) ))"
   ]
  },
  {
   "cell_type": "markdown",
   "metadata": {},
   "source": [
    "## Neural Network as a function approximator \n",
    "\n",
    "(1) Try with your own inputs..\n",
    "\n",
    "(2) Try with multi-dimensional case.."
   ]
  },
  {
   "cell_type": "markdown",
   "metadata": {},
   "source": [
    "### First exampe of NN regression of 1-d function"
   ]
  },
  {
   "cell_type": "code",
   "execution_count": 4,
   "metadata": {},
   "outputs": [
    {
     "data": {
      "image/png": "[encoded data removed]",
      "text/plain": [
       "<Figure size 432x288 with 1 Axes>"
      ]
     },
     "metadata": {
      "needs_background": "light"
     },
     "output_type": "display_data"
    }
   ],
   "source": [
    "#=====First example: 1d function f(x)=sin(2*pi*x)\n",
    "from sklearn.neural_network import MLPRegressor\n",
    "import numpy as np\n",
    "import matplotlib.pyplot as plt\n",
    "import random\n",
    "\n",
    "x = np.arange(-1.0, 1.5, 0.05)\n",
    "random.shuffle(x)\n",
    "x= x.reshape(-1, 1)\n",
    "\n",
    "y = np.sin(2 * np.pi * x).ravel()\n",
    "\n",
    "nn = MLPRegressor(hidden_layer_sizes=(10,10), \n",
    "                  activation='tanh', solver='lbfgs')\n",
    "\n",
    "n = nn.fit(x, y)\n",
    "\n",
    "test_x = np.arange(-1.1, 4.1, 0.01).reshape(-1, 1)\n",
    "test_y = nn.predict(test_x)\n",
    "fig = plt.figure()\n",
    "ax1 = fig.add_subplot(111)\n",
    "ax1.scatter(x, y, s=5, c='b', marker=\"o\", label='data')\n",
    "ax1.plot(test_x,test_y, c='r', label='NN Prediction')\n",
    "\n",
    "plt.legend()\n",
    "plt.show()"
   ]
  },
  {
   "cell_type": "markdown",
   "metadata": {},
   "source": [
    "## Gradient Descent and optimizers\n",
    "\n",
    "Try:\n",
    "\n",
    "Notebook2 of   https://physics.bu.edu/~pankajm/MLnotebooks.html \n",
    "\n",
    "https://ruder.io/optimizing-gradient-descent/\n"
   ]
  },
  {
   "cell_type": "markdown",
   "metadata": {},
   "source": [
    "## Keras (with tensorflow)\n",
    "\n",
    "Example of classification with MNIST data"
   ]
  },
  {
   "cell_type": "code",
   "execution_count": 5,
   "metadata": {},
   "outputs": [
    {
     "name": "stderr",
     "output_type": "stream",
     "text": [
      "Using TensorFlow backend.\n"
     ]
    }
   ],
   "source": [
    "from keras.datasets import mnist\n",
    "(train_images, train_labels), (test_images, test_labels) = mnist.load_data()"
   ]
  },
  {
   "cell_type": "code",
   "execution_count": 6,
   "metadata": {},
   "outputs": [
    {
     "data": {
      "text/plain": [
       "(60000, 28, 28)"
      ]
     },
     "execution_count": 6,
     "metadata": {},
     "output_type": "execute_result"
    }
   ],
   "source": [
    "train_images.shape"
   ]
  },
  {
   "cell_type": "code",
   "execution_count": 7,
   "metadata": {},
   "outputs": [
    {
     "data": {
      "text/plain": [
       "array([5, 0, 4, ..., 5, 6, 8], dtype=uint8)"
      ]
     },
     "execution_count": 7,
     "metadata": {},
     "output_type": "execute_result"
    }
   ],
   "source": [
    "train_labels"
   ]
  },
  {
   "cell_type": "code",
   "execution_count": 8,
   "metadata": {},
   "outputs": [
    {
     "name": "stdout",
     "output_type": "stream",
     "text": [
      "9\n"
     ]
    },
    {
     "data": {
      "image/png": "[encoded data removed]",
      "text/plain": [
       "<Figure size 432x288 with 1 Axes>"
      ]
     },
     "metadata": {
      "needs_background": "light"
     },
     "output_type": "display_data"
    }
   ],
   "source": [
    "digit = train_images[4]\n",
    "print(train_labels[4])\n",
    "import matplotlib.pyplot as plt\n",
    "plt.imshow(digit, cmap=plt.cm.binary)\n",
    "plt.show()"
   ]
  },
  {
   "cell_type": "markdown",
   "metadata": {},
   "source": [
    "### Preparing the image data\n",
    "\n",
    "Convert \n",
    "\n",
    "scaling it so that all values are in the [0, 1] interval."
   ]
  },
  {
   "cell_type": "code",
   "execution_count": null,
   "metadata": {},
   "outputs": [],
   "source": [
    "train_images = train_images.reshape((60000, 28 * 28))\n",
    "train_images = train_images.astype('float32') / 255\n",
    "test_images = test_images.reshape((10000, 28 * 28))\n",
    "test_images = test_images.astype('float32') / 255"
   ]
  },
  {
   "cell_type": "code",
   "execution_count": null,
   "metadata": {},
   "outputs": [],
   "source": [
    "from keras.utils import to_categorical\n",
    "train_labels = to_categorical(train_labels)\n",
    "test_labels = to_categorical(test_labels)\n",
    "\n",
    "train_labels[0]"
   ]
  },
  {
   "cell_type": "markdown",
   "metadata": {},
   "source": [
    "### Build model"
   ]
  },
  {
   "cell_type": "code",
   "execution_count": 9,
   "metadata": {},
   "outputs": [
    {
     "name": "stdout",
     "output_type": "stream",
     "text": [
      "Model: \"sequential\"\n",
      "_________________________________________________________________\n",
      "Layer (type)                 Output Shape              Param #   \n",
      "=================================================================\n",
      "dense (Dense)                (None, 512)               401920    \n",
      "_________________________________________________________________\n",
      "dense_1 (Dense)              (None, 10)                5130      \n",
      "=================================================================\n",
      "Total params: 407,050\n",
      "Trainable params: 407,050\n",
      "Non-trainable params: 0\n",
      "_________________________________________________________________\n"
     ]
    }
   ],
   "source": [
    "from keras import models\n",
    "from keras import layers\n",
    "import tensorflow.keras as keras\n",
    "\n",
    "network = models.Sequential()\n",
    "network.add(layers.Dense(512, activation='relu', input_shape=(28 * 28,)))\n",
    "network.add(layers.Dense(10, activation='softmax'))\n",
    "\n",
    "network.compile(optimizer='rmsprop',\n",
    "loss='categorical_crossentropy',\n",
    "metrics=['accuracy'])\n",
    "\n",
    "network.summary()"
   ]
  },
  {
   "cell_type": "markdown",
   "metadata": {},
   "source": [
    "### Fit/Train model"
   ]
  },
  {
   "cell_type": "code",
   "execution_count": 15,
   "metadata": {},
   "outputs": [
    {
     "name": "stdout",
     "output_type": "stream",
     "text": [
      "Epoch 1/5\n",
      "469/469 [==============================] - 5s 10ms/step - loss: 0.2558 - accuracy: 0.9269\n",
      "Epoch 2/5\n",
      "469/469 [==============================] - 4s 9ms/step - loss: 0.1047 - accuracy: 0.9689\n",
      "Epoch 3/5\n",
      "469/469 [==============================] - 4s 9ms/step - loss: 0.0682 - accuracy: 0.9796\n",
      "Epoch 4/5\n",
      "469/469 [==============================] - 4s 9ms/step - loss: 0.0498 - accuracy: 0.9851\n",
      "Epoch 5/5\n",
      "469/469 [==============================] - 5s 10ms/step - loss: 0.0370 - accuracy: 0.9889\n"
     ]
    },
    {
     "data": {
      "text/plain": [
       "<tensorflow.python.keras.callbacks.History at 0x254ecae7b48>"
      ]
     },
     "execution_count": 15,
     "metadata": {},
     "output_type": "execute_result"
    }
   ],
   "source": [
    "network.fit(train_images, train_labels, epochs=5, batch_size=128)"
   ]
  },
  {
   "cell_type": "markdown",
   "metadata": {},
   "source": [
    "### Test model"
   ]
  },
  {
   "cell_type": "code",
   "execution_count": 16,
   "metadata": {},
   "outputs": [
    {
     "name": "stdout",
     "output_type": "stream",
     "text": [
      "313/313 [==============================] - 1s 2ms/step - loss: 0.0669 - accuracy: 0.9805\n",
      "test_loss: 0.06693894416093826\n",
      "test_acc: 0.9804999828338623\n"
     ]
    }
   ],
   "source": [
    "test_loss, test_acc = network.evaluate(test_images, test_labels)\n",
    "\n",
    "print('test_loss:', test_loss)\n",
    "print('test_acc:', test_acc)"
   ]
  },
  {
   "cell_type": "code",
   "execution_count": 111,
   "metadata": {},
   "outputs": [
    {
     "data": {
      "image/png": "[encoded data removed]",
      "text/plain": [
       "<Figure size 432x288 with 1 Axes>"
      ]
     },
     "metadata": {
      "needs_background": "light"
     },
     "output_type": "display_data"
    },
    {
     "name": "stdout",
     "output_type": "stream",
     "text": [
      "7\n"
     ]
    }
   ],
   "source": [
    "plt.imshow(test_images[0].reshape(28,28), cmap=plt.cm.binary)\n",
    "plt.show()\n",
    "y_pred=network.predict(np.array([test_images[0]]))\n",
    "print(np.argmax(y_pred[0]))"
   ]
  },
  {
   "cell_type": "markdown",
   "metadata": {},
   "source": [
    "## Regression :The Boston Housing Price dataset "
   ]
  },
  {
   "cell_type": "code",
   "execution_count": 25,
   "metadata": {},
   "outputs": [
    {
     "name": "stdout",
     "output_type": "stream",
     "text": [
      "Downloading data from https://storage.googleapis.com/tensorflow/tf-keras-datasets/boston_housing.npz\n",
      "57344/57026 [==============================] - 0s 2us/step\n"
     ]
    }
   ],
   "source": [
    "from keras.datasets import boston_housing\n",
    "(train_data, train_targets), (test_data, test_targets) = boston_housing.load_data()"
   ]
  },
  {
   "cell_type": "code",
   "execution_count": null,
   "metadata": {},
   "outputs": [],
   "source": [
    "train_data.shape"
   ]
  },
  {
   "cell_type": "code",
   "execution_count": null,
   "metadata": {},
   "outputs": [],
   "source": [
    "test_data.shape"
   ]
  },
  {
   "cell_type": "code",
   "execution_count": null,
   "metadata": {},
   "outputs": [],
   "source": [
    "train_targets"
   ]
  },
  {
   "cell_type": "markdown",
   "metadata": {},
   "source": [
    "### normalize data"
   ]
  },
  {
   "cell_type": "code",
   "execution_count": 26,
   "metadata": {},
   "outputs": [],
   "source": [
    "mean = train_data.mean(axis=0)\n",
    "train_data -= mean\n",
    "std = train_data.std(axis=0)\n",
    "train_data /= std\n",
    "test_data -= mean\n",
    "test_data /= std"
   ]
  },
  {
   "cell_type": "code",
   "execution_count": 28,
   "metadata": {},
   "outputs": [],
   "source": [
    "from keras import models\n",
    "from keras import layers\n",
    "def build_model():\n",
    "    model = models.Sequential()\n",
    "    model.add(layers.Dense(64, activation='relu',\n",
    "    input_shape=(train_data.shape[1],)))\n",
    "    model.add(layers.Dense(64, activation='relu'))\n",
    "    model.add(layers.Dense(1))\n",
    "    model.compile(optimizer='rmsprop', loss='mse', metrics=['mae'])\n",
    "    return model"
   ]
  },
  {
   "cell_type": "code",
   "execution_count": null,
   "metadata": {},
   "outputs": [],
   "source": [
    "### K-fold validation"
   ]
  },
  {
   "cell_type": "code",
   "execution_count": 29,
   "metadata": {},
   "outputs": [
    {
     "name": "stdout",
     "output_type": "stream",
     "text": [
      "processing fold # 0\n",
      "processing fold # 1\n",
      "processing fold # 2\n",
      "processing fold # 3\n"
     ]
    }
   ],
   "source": [
    "import numpy as np\n",
    "k = 4\n",
    "num_val_samples = len(train_data) // k\n",
    "num_epochs = 100\n",
    "all_scores = []\n",
    "\n",
    "for i in range(k):\n",
    "    print('processing fold #', i)\n",
    "    val_data = train_data[i * num_val_samples: (i + 1) * num_val_samples]\n",
    "    val_targets = train_targets[i * num_val_samples: (i + 1) * num_val_samples]\n",
    "    partial_train_data = np.concatenate(\n",
    "        [train_data[:i * num_val_samples],\n",
    "        train_data[(i + 1) * num_val_samples:]],\n",
    "        axis=0)\n",
    "    partial_train_targets = np.concatenate(\n",
    "        [train_targets[:i * num_val_samples],\n",
    "        train_targets[(i + 1) * num_val_samples:]],\n",
    "        axis=0)\n",
    "    \n",
    "model = build_model()\n",
    "model.fit(partial_train_data, partial_train_targets,\n",
    "epochs=num_epochs, batch_size=1, verbose=0)\n",
    "val_mse, val_mae = model.evaluate(val_data, val_targets, verbose=0)\n",
    "all_scores.append(val_mae)"
   ]
  },
  {
   "cell_type": "code",
   "execution_count": null,
   "metadata": {},
   "outputs": [],
   "source": [
    "all_scores"
   ]
  },
  {
   "cell_type": "code",
   "execution_count": 30,
   "metadata": {},
   "outputs": [
    {
     "data": {
      "text/plain": [
       "2.6059515476226807"
      ]
     },
     "execution_count": 30,
     "metadata": {},
     "output_type": "execute_result"
    }
   ],
   "source": [
    "np.mean(all_scores)"
   ]
  },
  {
   "cell_type": "code",
   "execution_count": null,
   "metadata": {},
   "outputs": [],
   "source": [
    "num_epochs = 500\n",
    "all_mae_histories = []\n",
    "for i in range(k):\n",
    "print('processing fold #', i)\n",
    "val_data = train_data[i * num_val_samples: (i + 1) * num_val_samples]\n",
    "val_targets = train_targets[i * num_val_samples: (i + 1) * num_val_samples]\n",
    "partial_train_data = np.concatenate(\n",
    "[train_data[:i * num_val_samples],\n",
    "train_data[(i + 1) * num_val_samples:]],\n",
    "axis=0)\n",
    "partial_train_targets = np.concatenate(\n",
    "[train_targets[:i * num_val_samples],\n",
    "train_targets[(i + 1) * num_val_samples:]],\n",
    "axis=0)\n",
    "model = build_model()\n",
    "history = model.fit(partial_train_data, partial_train_targets,\n",
    "validation_data=(val_data, val_targets),\n",
    "epochs=num_epochs, batch_size=1, verbose=0)\n",
    "mae_history = history.history['val_mean_absolute_error']\n",
    "all_mae_histories.append(mae_history)\n",
    "\n",
    "average_mae_history = [\n",
    "np.mean([x[i] for x in all_mae_histories]) for i in range(num_epochs)]\n",
    "\n",
    "import matplotlib.pyplot as plt\n",
    "plt.plot(range(1, len(average_mae_history) + 1), average_mae_history)\n",
    "plt.xlabel('Epochs')\n",
    "plt.ylabel('Validation MAE')\n",
    "plt.show()\n",
    "\n",
    "def smooth_curve(points, factor=0.9):\n",
    "smoothed_points = []\n",
    "for point in points:\n",
    "if smoothed_points:\n",
    "previous = smoothed_points[-1]\n",
    "smoothed_points.append(previous * factor + point * (1 - factor))\n",
    "else:\n",
    "smoothed_points.append(point)\n",
    "return smoothed_points\n",
    "smooth_mae_history = smooth_curve(average_mae_history[10:])\n",
    "plt.plot(range(1, len(smooth_mae_history) + 1), smooth_mae_history)\n",
    "plt.xlabel('Epochs')\n",
    "plt.ylabel('Validation MAE')\n",
    "plt.show()\n",
    "\n",
    "model = build_model()\n",
    "model.fit(train_data, train_targets,\n",
    "epochs=80, batch_size=16, verbose=0)\n",
    "test_mse_score, test_mae_score = model.evaluate(test_data, test_targets)\n",
    "test_mae_score"
   ]
  },
  {
   "cell_type": "markdown",
   "metadata": {},
   "source": [
    "## Training nuclear chart \n",
    "\n",
    "Download mass16.txt from AME2016 webpage\n",
    "\n",
    "Use following code to read/prepare data"
   ]
  },
  {
   "cell_type": "code",
   "execution_count": 17,
   "metadata": {},
   "outputs": [],
   "source": [
    "\n",
    "# convert integer to array \n",
    "def integer_to_bin_array(N,dim_b=8):\n",
    "    \"\"\" Convert integers into dim_b bits  binary\n",
    "    \"\"\"\n",
    "    import numpy as np\n",
    "    bin_str = bin(N)[2:] # to binary string \n",
    "    if len(bin_str) > dim_b :\n",
    "        raise ValueError('{} is too large to be {} bits'.format(N,dim_b))\n",
    "    bin_str=bin_str.zfill(dim_b) #padding zero \n",
    "    bin_array=[float(j) for j in bin_str] \n",
    "    return bin_array\n",
    "\n",
    "def read_mass16(filename='mass16.txt',include_guess=False):\n",
    "  \"\"\"\n",
    "    Read AME mass data file and return a dictionary \n",
    "    \n",
    "    include_guess=False : only make a dictionary with measured data \n",
    "                 =True  : dictionary includes guessed data \n",
    "  \"\"\"\n",
    "  import numpy as np\n",
    "  import pandas as pd\n",
    "  def check_number(x):\n",
    "    # if string is number, return real number \n",
    "    # if not, retrun False \n",
    "    try:\n",
    "        y= float(x)\n",
    "        return (y , 1)\n",
    "    except :\n",
    "        return (x, 0) \n",
    "\n",
    "  file = open(filename,'r')\n",
    "  llines = file.readlines()\n",
    "  file.close() \n",
    "  nl_comment=38 # end of commenting lines \n",
    "        \n",
    "  AME16={'NZ':[],'N':[],'Z':[],\n",
    "       'A':[],'EL':[],'O':[],\n",
    "       'mass_excess':[],'mass_excess_measured':[],'mass_excess_unc':[],\n",
    "       'BE/A':[],'BE/A_measured':[],'BE/A_unc':[],\n",
    "       'B':[],\n",
    "       'beta':[],'beta_measured':[],'beta_unc':[],\n",
    "       'atomic_mass':[],'atomic_mass_measured':[],'atomic_mass_unc':[],\n",
    "       'N_bits':[],'Z_bits':[] \n",
    "        }\n",
    "             \n",
    "  for ll in llines[nl_comment+1: ]:\n",
    "    (NZ,dummy)= check_number(ll[1:4])\n",
    "    (N, dummy)= check_number(ll[4:9])\n",
    "    (Z, dummy)= check_number(ll[9:14])\n",
    "    (A,dummy) = check_number(ll[14:19])\n",
    "    EL = ll[20:23]\n",
    "    O  = ll[23:27] # ?\n",
    "    (mass_excess,mass_excess_measured) = check_number(ll[28:41])  # mass_excess\n",
    "    (mass_excess_unc,dummy)= check_number(ll[41:52])\n",
    "    (binding,binding_measured) = check_number(ll[52:63])\n",
    "    (binding_unc,dummy) = check_number(ll[63:72])\n",
    "    B = ll[73:75] #?\n",
    "    (beta,beta_measured) = check_number(ll[75:86])\n",
    "    (beta_unc,dummy) = check_number(ll[86:95])\n",
    "    (amass,dummy) = check_number(ll[96:99])\n",
    "    (amass2,amass_measured) = check_number(ll[100:112])\n",
    "    if amass_measured:\n",
    "        amass = amass+amass2/10**6 \n",
    "    else: \n",
    "        amass = str(amass)+' '+amass2.strip() \n",
    "    (amass_unc,dummy) = check_number(ll[112:122])\n",
    "    N_bits = integer_to_bin_array(int(N))\n",
    "    Z_bits = integer_to_bin_array(int(Z))\n",
    "    if (not include_guess) and (not amass_measured): # only take measured values \n",
    "      pass \n",
    "    else : \n",
    "      AME16['NZ'].append(NZ)\n",
    "      AME16['N'].append(N)\n",
    "      AME16['Z'].append(Z)\n",
    "      AME16['A'].append(A)\n",
    "      AME16['EL'].append(EL)\n",
    "      AME16['O'].append(O)\n",
    "      AME16['mass_excess'].append(mass_excess)\n",
    "      AME16['mass_excess_measured'].append(mass_excess_measured)\n",
    "      AME16['mass_excess_unc'].append(mass_excess_unc)\n",
    "      AME16['BE/A'].append(binding)\n",
    "      AME16['BE/A_measured'].append(binding_measured)\n",
    "      AME16['BE/A_unc'].append(binding_unc)\n",
    "      AME16['B'].append(B)\n",
    "      AME16['beta'].append(beta)\n",
    "      AME16['beta_measured'].append(beta_measured)\n",
    "      AME16['beta_unc'].append(beta_unc)\n",
    "      AME16['atomic_mass'].append(amass)\n",
    "      AME16['atomic_mass_measured'].append(amass_measured)\n",
    "      AME16['atomic_mass_unc'].append(amass_unc)  \n",
    "      AME16['N_bits'].append(N_bits)  \n",
    "      AME16['Z_bits'].append(Z_bits)    \n",
    "  return AME16      "
   ]
  },
  {
   "cell_type": "code",
   "execution_count": 20,
   "metadata": {},
   "outputs": [],
   "source": [
    "# read data and prepare dataframe \n",
    "AME16_dic=read_mass16()\n",
    "AME16_df=pd.DataFrame.from_dict(AME16_dic) # convert dictionary to pd.DataFrame \n",
    "\n",
    "# drop empty data \n",
    "AME16_df = AME16_df.dropna()\n",
    "\n",
    "# atomic mass unit will be used for onversion later \n",
    "atomic_mass_unit = 931.4940954 # MeV "
   ]
  },
  {
   "cell_type": "code",
   "execution_count": 22,
   "metadata": {},
   "outputs": [
    {
     "data": {
      "text/html": [
       "<div>\n",
       "<style scoped>\n",
       "    .dataframe tbody tr th:only-of-type {\n",
       "        vertical-align: middle;\n",
       "    }\n",
       "\n",
       "    .dataframe tbody tr th {\n",
       "        vertical-align: top;\n",
       "    }\n",
       "\n",
       "    .dataframe thead th {\n",
       "        text-align: right;\n",
       "    }\n",
       "</style>\n",
       "<table border=\"1\" class=\"dataframe\">\n",
       "  <thead>\n",
       "    <tr style=\"text-align: right;\">\n",
       "      <th></th>\n",
       "      <th>NZ</th>\n",
       "      <th>N</th>\n",
       "      <th>Z</th>\n",
       "      <th>A</th>\n",
       "      <th>mass_excess</th>\n",
       "      <th>mass_excess_measured</th>\n",
       "      <th>mass_excess_unc</th>\n",
       "      <th>BE/A</th>\n",
       "      <th>BE/A_measured</th>\n",
       "      <th>BE/A_unc</th>\n",
       "      <th>beta_measured</th>\n",
       "      <th>atomic_mass</th>\n",
       "      <th>atomic_mass_measured</th>\n",
       "      <th>atomic_mass_unc</th>\n",
       "    </tr>\n",
       "  </thead>\n",
       "  <tbody>\n",
       "    <tr>\n",
       "      <th>count</th>\n",
       "      <td>2498.000000</td>\n",
       "      <td>2498.000000</td>\n",
       "      <td>2498.000000</td>\n",
       "      <td>2498.000000</td>\n",
       "      <td>2498.00000</td>\n",
       "      <td>2498.0</td>\n",
       "      <td>2498.000000</td>\n",
       "      <td>2498.000000</td>\n",
       "      <td>2498.0</td>\n",
       "      <td>2498.000000</td>\n",
       "      <td>2498.000000</td>\n",
       "      <td>2498.000000</td>\n",
       "      <td>2498.0</td>\n",
       "      <td>2498.000000</td>\n",
       "    </tr>\n",
       "    <tr>\n",
       "      <th>mean</th>\n",
       "      <td>21.774620</td>\n",
       "      <td>76.921938</td>\n",
       "      <td>55.147318</td>\n",
       "      <td>132.069255</td>\n",
       "      <td>-38170.10753</td>\n",
       "      <td>1.0</td>\n",
       "      <td>30.565736</td>\n",
       "      <td>8051.281393</td>\n",
       "      <td>1.0</td>\n",
       "      <td>0.543048</td>\n",
       "      <td>0.879504</td>\n",
       "      <td>132.028278</td>\n",
       "      <td>1.0</td>\n",
       "      <td>32.813274</td>\n",
       "    </tr>\n",
       "    <tr>\n",
       "      <th>std</th>\n",
       "      <td>15.333068</td>\n",
       "      <td>39.514909</td>\n",
       "      <td>25.930144</td>\n",
       "      <td>65.057650</td>\n",
       "      <td>42841.05803</td>\n",
       "      <td>0.0</td>\n",
       "      <td>94.224379</td>\n",
       "      <td>728.199957</td>\n",
       "      <td>0.0</td>\n",
       "      <td>2.721440</td>\n",
       "      <td>0.325606</td>\n",
       "      <td>65.073947</td>\n",
       "      <td>0.0</td>\n",
       "      <td>101.154069</td>\n",
       "    </tr>\n",
       "    <tr>\n",
       "      <th>min</th>\n",
       "      <td>-6.000000</td>\n",
       "      <td>0.000000</td>\n",
       "      <td>0.000000</td>\n",
       "      <td>1.000000</td>\n",
       "      <td>-91652.85300</td>\n",
       "      <td>1.0</td>\n",
       "      <td>0.000000</td>\n",
       "      <td>0.000000</td>\n",
       "      <td>1.0</td>\n",
       "      <td>0.000000</td>\n",
       "      <td>0.000000</td>\n",
       "      <td>1.007825</td>\n",
       "      <td>1.0</td>\n",
       "      <td>0.000000</td>\n",
       "    </tr>\n",
       "    <tr>\n",
       "      <th>25%</th>\n",
       "      <td>10.000000</td>\n",
       "      <td>46.000000</td>\n",
       "      <td>35.000000</td>\n",
       "      <td>82.000000</td>\n",
       "      <td>-71626.16125</td>\n",
       "      <td>1.0</td>\n",
       "      <td>1.787000</td>\n",
       "      <td>7819.362250</td>\n",
       "      <td>1.0</td>\n",
       "      <td>0.015000</td>\n",
       "      <td>1.000000</td>\n",
       "      <td>81.916725</td>\n",
       "      <td>1.0</td>\n",
       "      <td>1.917250</td>\n",
       "    </tr>\n",
       "    <tr>\n",
       "      <th>50%</th>\n",
       "      <td>20.000000</td>\n",
       "      <td>78.000000</td>\n",
       "      <td>56.000000</td>\n",
       "      <td>134.000000</td>\n",
       "      <td>-51437.71450</td>\n",
       "      <td>1.0</td>\n",
       "      <td>6.845000</td>\n",
       "      <td>8184.204000</td>\n",
       "      <td>1.0</td>\n",
       "      <td>0.051500</td>\n",
       "      <td>1.000000</td>\n",
       "      <td>133.919663</td>\n",
       "      <td>1.0</td>\n",
       "      <td>7.348000</td>\n",
       "    </tr>\n",
       "    <tr>\n",
       "      <th>75%</th>\n",
       "      <td>32.000000</td>\n",
       "      <td>107.000000</td>\n",
       "      <td>78.000000</td>\n",
       "      <td>184.000000</td>\n",
       "      <td>-11567.73100</td>\n",
       "      <td>1.0</td>\n",
       "      <td>19.962250</td>\n",
       "      <td>8450.522500</td>\n",
       "      <td>1.0</td>\n",
       "      <td>0.142750</td>\n",
       "      <td>1.000000</td>\n",
       "      <td>183.959309</td>\n",
       "      <td>1.0</td>\n",
       "      <td>21.429500</td>\n",
       "    </tr>\n",
       "    <tr>\n",
       "      <th>max</th>\n",
       "      <td>59.000000</td>\n",
       "      <td>160.000000</td>\n",
       "      <td>110.000000</td>\n",
       "      <td>270.000000</td>\n",
       "      <td>134834.70900</td>\n",
       "      <td>1.0</td>\n",
       "      <td>1336.694000</td>\n",
       "      <td>8794.553000</td>\n",
       "      <td>1.0</td>\n",
       "      <td>58.903000</td>\n",
       "      <td>1.000000</td>\n",
       "      <td>270.144583</td>\n",
       "      <td>1.0</td>\n",
       "      <td>1435.000000</td>\n",
       "    </tr>\n",
       "  </tbody>\n",
       "</table>\n",
       "</div>"
      ],
      "text/plain": [
       "                NZ            N            Z            A   mass_excess  \\\n",
       "count  2498.000000  2498.000000  2498.000000  2498.000000    2498.00000   \n",
       "mean     21.774620    76.921938    55.147318   132.069255  -38170.10753   \n",
       "std      15.333068    39.514909    25.930144    65.057650   42841.05803   \n",
       "min      -6.000000     0.000000     0.000000     1.000000  -91652.85300   \n",
       "25%      10.000000    46.000000    35.000000    82.000000  -71626.16125   \n",
       "50%      20.000000    78.000000    56.000000   134.000000  -51437.71450   \n",
       "75%      32.000000   107.000000    78.000000   184.000000  -11567.73100   \n",
       "max      59.000000   160.000000   110.000000   270.000000  134834.70900   \n",
       "\n",
       "       mass_excess_measured  mass_excess_unc         BE/A  BE/A_measured  \\\n",
       "count                2498.0      2498.000000  2498.000000         2498.0   \n",
       "mean                    1.0        30.565736  8051.281393            1.0   \n",
       "std                     0.0        94.224379   728.199957            0.0   \n",
       "min                     1.0         0.000000     0.000000            1.0   \n",
       "25%                     1.0         1.787000  7819.362250            1.0   \n",
       "50%                     1.0         6.845000  8184.204000            1.0   \n",
       "75%                     1.0        19.962250  8450.522500            1.0   \n",
       "max                     1.0      1336.694000  8794.553000            1.0   \n",
       "\n",
       "          BE/A_unc  beta_measured  atomic_mass  atomic_mass_measured  \\\n",
       "count  2498.000000    2498.000000  2498.000000                2498.0   \n",
       "mean      0.543048       0.879504   132.028278                   1.0   \n",
       "std       2.721440       0.325606    65.073947                   0.0   \n",
       "min       0.000000       0.000000     1.007825                   1.0   \n",
       "25%       0.015000       1.000000    81.916725                   1.0   \n",
       "50%       0.051500       1.000000   133.919663                   1.0   \n",
       "75%       0.142750       1.000000   183.959309                   1.0   \n",
       "max      58.903000       1.000000   270.144583                   1.0   \n",
       "\n",
       "       atomic_mass_unc  \n",
       "count      2498.000000  \n",
       "mean         32.813274  \n",
       "std         101.154069  \n",
       "min           0.000000  \n",
       "25%           1.917250  \n",
       "50%           7.348000  \n",
       "75%          21.429500  \n",
       "max        1435.000000  "
      ]
     },
     "execution_count": 22,
     "metadata": {},
     "output_type": "execute_result"
    }
   ],
   "source": [
    "AME16_df.describe()"
   ]
  },
  {
   "cell_type": "code",
   "execution_count": 24,
   "metadata": {},
   "outputs": [
    {
     "data": {
      "text/plain": [
       "[<matplotlib.lines.Line2D at 0x254ecd25d48>,\n",
       " <matplotlib.lines.Line2D at 0x254ecb9cf08>]"
      ]
     },
     "execution_count": 24,
     "metadata": {},
     "output_type": "execute_result"
    },
    {
     "data": {
      "image/png": "[encoded data removed]",
      "text/plain": [
       "<Figure size 432x288 with 1 Axes>"
      ]
     },
     "metadata": {
      "needs_background": "light"
     },
     "output_type": "display_data"
    }
   ],
   "source": [
    "# Let us simplify the data as numpy arrays.\n",
    "#--training data\n",
    "\n",
    "#Separation of train set and test set \n",
    "dataset = AME16_df ;\n",
    "train_dataset = dataset.sample(frac=0.8) ;# train+validation data set  \n",
    "dataset = dataset.drop(train_dataset.index) #remove train data from dataset \n",
    "#validation_dataset = dataset.sample(frac=0.5)\n",
    "#test_dataset= dataset.drop(validation_dataset.index) \n",
    "test_dataset = dataset\n",
    "\n",
    "train_N = train_dataset['N'].to_numpy()\n",
    "train_Z = train_dataset['Z'].to_numpy()\n",
    "train_X = np.column_stack((train_N,train_Z)) # train_X[n_sample, 0:1]\n",
    "train_Y = train_dataset['BE/A'].to_numpy()/1000. # BE/A in MeV\n",
    "\n",
    "#-- test data \n",
    "test_N = test_dataset['N'].to_numpy()\n",
    "test_Z = test_dataset['Z'].to_numpy()\n",
    "test_X = np.column_stack((test_N,test_Z)) # train_X[n_sample, 0:1]\n",
    "test_Y = test_dataset['BE/A'].to_numpy()/1000. # BE/A in MeV\n",
    "\n",
    "plt.plot(train_X[:,0],train_X[:,1],'b.'\n",
    "         ,test_X[:,0],test_X[:,1],'r.')"
   ]
  },
  {
   "cell_type": "markdown",
   "metadata": {},
   "source": [
    "### Now try to make a NN to train nuclear Binding Energy per nucleon. "
   ]
  },
  {
   "cell_type": "code",
   "execution_count": null,
   "metadata": {},
   "outputs": [],
   "source": []
  }
 ],
 "metadata": {
  "kernelspec": {
   "display_name": "Python 3",
   "language": "python",
   "name": "python3"
  },
  "language_info": {
   "codemirror_mode": {
    "name": "ipython",
    "version": 3
   },
   "file_extension": ".py",
   "mimetype": "text/x-python",
   "name": "python",
   "nbconvert_exporter": "python",
   "pygments_lexer": "ipython3",
   "version": "3.7.6"
  }
 },
 "nbformat": 4,
 "nbformat_minor": 4
}
