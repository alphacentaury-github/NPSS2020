{
 "cells": [
  {
   "cell_type": "markdown",
   "metadata": {},
   "source": [
    "# Machine Learning Lecture 1\n",
    "\n",
    "### Written by Young-Ho Song(RISP,IBS)\n",
    "2020-06-23\n"
   ]
  },
  {
   "cell_type": "markdown",
   "metadata": {},
   "source": [
    "## Python/Jupyter/Numpy ...\n"
   ]
  },
  {
   "cell_type": "code",
   "execution_count": 62,
   "metadata": {},
   "outputs": [],
   "source": [
    "#from __future__ import absolute_import, division, print_function, unicode_literals, unicode_literals\n",
    "\n",
    "import pathlib\n",
    "import numpy as np \n",
    "import matplotlib.pyplot as plt\n",
    "import pandas as pd\n",
    "import seaborn as sns\n",
    "import os \n",
    "\n",
    "import tensorflow as tf\n",
    "from tensorflow import keras\n",
    "from tensorflow.keras import layers\n"
   ]
  },
  {
   "cell_type": "markdown",
   "metadata": {},
   "source": [
    "## Perceptron"
   ]
  },
  {
   "cell_type": "code",
   "execution_count": 63,
   "metadata": {},
   "outputs": [],
   "source": [
    "import numpy as np\n",
    "import numpy.random \n",
    "import matplotlib.pyplot as plt\n",
    "\n",
    "def step_function(x):\n",
    "    return (x>0.0)*1.0+(x<0.0)*0.0\n",
    "\n",
    "class perceptron():\n",
    "    def __init__(self,input_length,weights=None,bias=None,activation='step'):\n",
    "        self.input_length= input_length \n",
    "        if not weights:\n",
    "            self.weights=numpy.random.rand(input_length)\n",
    "        else:\n",
    "            # check length \n",
    "            if len(weights)!=input_length:\n",
    "                print('Error: input length should be the same as weights')\n",
    "                return \n",
    "            self.weights = weights\n",
    "        if not bias:\n",
    "            self.bias = numpy.random.rand(1)\n",
    "        else:\n",
    "            self.bias = bias\n",
    "        if activation=='step':\n",
    "            self.sigma = step_function \n",
    "                    \n",
    "    def __call__(self,x):\n",
    "        return self.sigma(np.dot(self.weights,x)+self.bias)"
   ]
  },
  {
   "cell_type": "code",
   "execution_count": 64,
   "metadata": {},
   "outputs": [
    {
     "name": "stdout",
     "output_type": "stream",
     "text": [
      "2\n",
      "[1.5, 0.5]\n",
      "[0.57440948]\n",
      "[1.]\n"
     ]
    }
   ],
   "source": [
    "jimin=perceptron(2,weights=[1.5,0.5])\n",
    "print(jimin.input_length)\n",
    "print(jimin.weights)\n",
    "print(jimin.bias)\n",
    "print(jimin([1,2]))\n"
   ]
  },
  {
   "cell_type": "code",
   "execution_count": 65,
   "metadata": {},
   "outputs": [
    {
     "name": "stdout",
     "output_type": "stream",
     "text": [
      "[3.07440948]\n"
     ]
    },
    {
     "data": {
      "text/plain": [
       "array([1.])"
      ]
     },
     "execution_count": 65,
     "metadata": {},
     "output_type": "execute_result"
    }
   ],
   "source": [
    "print(1*1.5+2*0.5+jimin.bias)\n",
    "step_function(1*1.5+2*0.5+jimin.bias)\n"
   ]
  },
  {
   "cell_type": "code",
   "execution_count": 66,
   "metadata": {
    "scrolled": true
   },
   "outputs": [
    {
     "name": "stdout",
     "output_type": "stream",
     "text": [
      "NAND gate\n",
      "0,0->1.0\n",
      "0,1->1.0\n",
      "1,0->1.0\n",
      "1,1->0.0\n",
      "OR gate\n",
      "0,0->0.0\n",
      "0,1->1.0\n",
      "1,0->1.0\n",
      "1,1->1.0\n",
      "AND gate\n",
      "0,0->0.0\n",
      "0,1->0.0\n",
      "1,0->0.0\n",
      "1,1->1.0\n"
     ]
    }
   ],
   "source": [
    "#-------------------\n",
    "print('NAND gate')\n",
    "Nand = perceptron(2,weights=[-2,-2],bias=3.0) \n",
    "for i in [0,1]:\n",
    "    for j in [0,1]:\n",
    "        print('{},{}->{}'.format(i,j,Nand([i,j])))\n",
    "\n",
    "print('OR gate')\n",
    "Or = perceptron(2,weights=[2,2],bias=-1) \n",
    "for i in [0,1]:\n",
    "    for j in [0,1]:\n",
    "        print('{},{}->{}'.format(i,j,Or([i,j])))\n",
    "        \n",
    "print('AND gate')\n",
    "And = perceptron(2,weights=[0.5,0.5],bias=-0.7) \n",
    "for i in [0,1]:\n",
    "    for j in [0,1]:\n",
    "        print('{},{}->{}'.format(i,j,And([i,j])))        "
   ]
  },
  {
   "cell_type": "markdown",
   "metadata": {},
   "source": [
    "### XOR gate can be made by combining "
   ]
  },
  {
   "cell_type": "code",
   "execution_count": 67,
   "metadata": {},
   "outputs": [
    {
     "name": "stdout",
     "output_type": "stream",
     "text": [
      "XOR gate\n",
      "0,0->0.0\n",
      "0,1->1.0\n",
      "1,0->1.0\n",
      "1,1->0.0\n"
     ]
    }
   ],
   "source": [
    "print('XOR gate')\n",
    "XOR = lambda x: And([Nand(x),Or(x)])\n",
    "\n",
    "for i in [0,1]:\n",
    "    for j in [0,1]:\n",
    "        x=[i,j]\n",
    "        print('{},{}->{}'.format(i,j, XOR(x) ))"
   ]
  },
  {
   "cell_type": "markdown",
   "metadata": {},
   "source": [
    "## Neural Network as a function approximator \n",
    "\n",
    "(1) Try with your own inputs..\n",
    "\n",
    "(2) Try with multi-dimensional case.."
   ]
  },
  {
   "cell_type": "markdown",
   "metadata": {},
   "source": [
    "### First exampe of NN regression of 1-d function"
   ]
  },
  {
   "cell_type": "code",
   "execution_count": 68,
   "metadata": {},
   "outputs": [
    {
     "name": "stderr",
     "output_type": "stream",
     "text": [
      "C:\\Users\\User\\anaconda3\\lib\\site-packages\\sklearn\\neural_network\\_multilayer_perceptron.py:500: ConvergenceWarning: lbfgs failed to converge (status=1):\n",
      "STOP: TOTAL NO. of ITERATIONS REACHED LIMIT.\n",
      "\n",
      "Increase the number of iterations (max_iter) or scale the data as shown in:\n",
      "    https://scikit-learn.org/stable/modules/preprocessing.html\n",
      "  self.n_iter_ = _check_optimize_result(\"lbfgs\", opt_res, self.max_iter)\n"
     ]
    },
    {
     "data": {
      "image/png": "[encoded data removed]",
      "text/plain": [
       "<Figure size 432x288 with 1 Axes>"
      ]
     },
     "metadata": {
      "needs_background": "light"
     },
     "output_type": "display_data"
    }
   ],
   "source": [
    "#=====First example: 1d function f(x)=sin(2*pi*x)\n",
    "from sklearn.neural_network import MLPRegressor\n",
    "import numpy as np\n",
    "import matplotlib.pyplot as plt\n",
    "import random\n",
    "\n",
    "x = np.arange(-1.0, 1.5, 0.05)\n",
    "random.shuffle(x)\n",
    "x= x.reshape(-1, 1)\n",
    "\n",
    "y = np.sin(2 * np.pi * x).ravel()\n",
    "\n",
    "nn = MLPRegressor(hidden_layer_sizes=(10,), \n",
    "                  activation='logistic', solver='lbfgs')\n",
    "\n",
    "n = nn.fit(x, y)\n",
    "\n",
    "test_x = np.arange(-1.1, 4.1, 0.01).reshape(-1, 1)\n",
    "test_y = nn.predict(test_x)\n",
    "fig = plt.figure()\n",
    "ax1 = fig.add_subplot(111)\n",
    "ax1.scatter(x, y, s=5, c='b', marker=\"o\", label='data')\n",
    "ax1.plot(test_x,test_y, c='r', label='NN Prediction')\n",
    "\n",
    "plt.legend()\n",
    "plt.show()"
   ]
  },
  {
   "cell_type": "code",
   "execution_count": 69,
   "metadata": {},
   "outputs": [
    {
     "data": {
      "text/plain": [
       "array([ 3.09016994e-01,  5.87785252e-01,  8.09016994e-01, -3.09016994e-01,\n",
       "        8.09016994e-01, -9.51056516e-01,  1.00000000e+00, -8.09016994e-01,\n",
       "        1.00000000e+00,  3.09016994e-01, -8.31523031e-15, -8.09016994e-01,\n",
       "        9.51056516e-01,  2.44929360e-16, -5.87785252e-01,  1.13013901e-14,\n",
       "       -9.51056516e-01,  9.51056516e-01,  8.09016994e-01, -2.78699994e-15,\n",
       "        8.09016994e-01, -9.51056516e-01,  9.51056516e-01,  9.51056516e-01,\n",
       "       -1.00000000e+00,  5.58058960e-15, -3.09016994e-01,  5.87785252e-01,\n",
       "        1.00000000e+00,  5.87785252e-01,  5.87785252e-01,  5.87785252e-01,\n",
       "        9.51056516e-01,  8.09016994e-01,  3.09016994e-01,  3.09016994e-01,\n",
       "       -9.51056516e-01,  5.87785252e-01,  8.09016994e-01,  9.51056516e-01,\n",
       "       -5.87785252e-01, -1.00000000e+00, -5.87785252e-01, -8.09016994e-01,\n",
       "       -3.09016994e-01, -8.09016994e-01,  3.09016994e-01,  3.09016994e-01,\n",
       "       -5.87785252e-01, -3.09016994e-01])"
      ]
     },
     "execution_count": 69,
     "metadata": {},
     "output_type": "execute_result"
    }
   ],
   "source": [
    "y"
   ]
  },
  {
   "cell_type": "markdown",
   "metadata": {},
   "source": [
    "## Gradient Descent and optimizers\n",
    "\n",
    "Try:\n",
    "\n",
    "Notebook2 of   https://physics.bu.edu/~pankajm/MLnotebooks.html \n",
    "\n",
    "https://ruder.io/optimizing-gradient-descent/\n"
   ]
  },
  {
   "cell_type": "code",
   "execution_count": null,
   "metadata": {},
   "outputs": [],
   "source": []
  },
  {
   "cell_type": "markdown",
   "metadata": {},
   "source": [
    "## Keras (with tensorflow)\n",
    "\n",
    "Example of classification with MNIST data\n",
    "\n",
    "The example from the \"Deep Learning with Python\" "
   ]
  },
  {
   "cell_type": "code",
   "execution_count": 71,
   "metadata": {},
   "outputs": [],
   "source": [
    "from keras.datasets import mnist\n",
    "(train_images, train_labels), (test_images, test_labels) = mnist.load_data()"
   ]
  },
  {
   "cell_type": "code",
   "execution_count": 72,
   "metadata": {},
   "outputs": [
    {
     "data": {
      "text/plain": [
       "(60000, 28, 28)"
      ]
     },
     "execution_count": 72,
     "metadata": {},
     "output_type": "execute_result"
    }
   ],
   "source": [
    "train_images.shape"
   ]
  },
  {
   "cell_type": "code",
   "execution_count": 73,
   "metadata": {},
   "outputs": [
    {
     "data": {
      "text/plain": [
       "array([5, 0, 4, ..., 5, 6, 8], dtype=uint8)"
      ]
     },
     "execution_count": 73,
     "metadata": {},
     "output_type": "execute_result"
    }
   ],
   "source": [
    "train_labels"
   ]
  },
  {
   "cell_type": "code",
   "execution_count": 74,
   "metadata": {},
   "outputs": [
    {
     "name": "stdout",
     "output_type": "stream",
     "text": [
      "9\n"
     ]
    },
    {
     "data": {
      "image/png": "[encoded data removed]",
      "text/plain": [
       "<Figure size 432x288 with 1 Axes>"
      ]
     },
     "metadata": {
      "needs_background": "light"
     },
     "output_type": "display_data"
    }
   ],
   "source": [
    "digit = train_images[4]\n",
    "print(train_labels[4])\n",
    "import matplotlib.pyplot as plt\n",
    "plt.imshow(digit, cmap=plt.cm.binary)\n",
    "plt.show()"
   ]
  },
  {
   "cell_type": "markdown",
   "metadata": {},
   "source": [
    "### Preparing the image data\n",
    "\n",
    "Convert \n",
    "\n",
    "scaling it so that all values are in the [0, 1] interval."
   ]
  },
  {
   "cell_type": "code",
   "execution_count": 75,
   "metadata": {},
   "outputs": [],
   "source": [
    "train_images = train_images.reshape((60000, 28 * 28))\n",
    "train_images = train_images.astype('float32') / 255\n",
    "test_images = test_images.reshape((10000, 28 * 28))\n",
    "test_images = test_images.astype('float32') / 255"
   ]
  },
  {
   "cell_type": "code",
   "execution_count": 82,
   "metadata": {},
   "outputs": [
    {
     "data": {
      "text/plain": [
       "array([0., 0., 0., 0., 0., 1., 0., 0., 0., 0.], dtype=float32)"
      ]
     },
     "execution_count": 82,
     "metadata": {},
     "output_type": "execute_result"
    }
   ],
   "source": [
    "from tensorflow.keras.utils import to_categorical\n",
    "train_labels = to_categorical(train_labels)\n",
    "test_labels = to_categorical(test_labels)\n",
    "\n",
    "train_labels[0]"
   ]
  },
  {
   "cell_type": "markdown",
   "metadata": {},
   "source": [
    "### Build model"
   ]
  },
  {
   "cell_type": "code",
   "execution_count": 83,
   "metadata": {},
   "outputs": [
    {
     "name": "stdout",
     "output_type": "stream",
     "text": [
      "Model: \"sequential_1\"\n",
      "_________________________________________________________________\n",
      " Layer (type)                Output Shape              Param #   \n",
      "=================================================================\n",
      " dense_2 (Dense)             (None, 512)               401920    \n",
      "                                                                 \n",
      " dense_3 (Dense)             (None, 10)                5130      \n",
      "                                                                 \n",
      "=================================================================\n",
      "Total params: 407,050\n",
      "Trainable params: 407,050\n",
      "Non-trainable params: 0\n",
      "_________________________________________________________________\n"
     ]
    }
   ],
   "source": [
    "from keras import models\n",
    "from keras import layers\n",
    "import tensorflow.keras as keras\n",
    "\n",
    "network = models.Sequential()\n",
    "network.add(layers.Dense(512, activation='relu', input_shape=(28 * 28,)))\n",
    "network.add(layers.Dense(10, activation='softmax'))\n",
    "\n",
    "network.compile(optimizer='rmsprop',\n",
    "               loss='categorical_crossentropy',\n",
    "               metrics=['accuracy'])\n",
    "\n",
    "network.summary()"
   ]
  },
  {
   "cell_type": "markdown",
   "metadata": {},
   "source": [
    "### Fit/Train model"
   ]
  },
  {
   "cell_type": "code",
   "execution_count": 84,
   "metadata": {},
   "outputs": [
    {
     "name": "stdout",
     "output_type": "stream",
     "text": [
      "Epoch 1/5\n",
      "469/469 [==============================] - 5s 9ms/step - loss: 0.2610 - accuracy: 0.9244\n",
      "Epoch 2/5\n",
      "469/469 [==============================] - 4s 9ms/step - loss: 0.1039 - accuracy: 0.9697\n",
      "Epoch 3/5\n",
      "469/469 [==============================] - 4s 9ms/step - loss: 0.0680 - accuracy: 0.9800\n",
      "Epoch 4/5\n",
      "469/469 [==============================] - 4s 9ms/step - loss: 0.0494 - accuracy: 0.9855\n",
      "Epoch 5/5\n",
      "469/469 [==============================] - 5s 10ms/step - loss: 0.0378 - accuracy: 0.9887\n"
     ]
    },
    {
     "data": {
      "text/plain": [
       "<keras.callbacks.History at 0x1e8d3ea6f10>"
      ]
     },
     "execution_count": 84,
     "metadata": {},
     "output_type": "execute_result"
    }
   ],
   "source": [
    "network.fit(train_images, train_labels, epochs=5, batch_size=128)"
   ]
  },
  {
   "cell_type": "markdown",
   "metadata": {},
   "source": [
    "### Test model"
   ]
  },
  {
   "cell_type": "code",
   "execution_count": 85,
   "metadata": {},
   "outputs": [
    {
     "name": "stdout",
     "output_type": "stream",
     "text": [
      "313/313 [==============================] - 1s 3ms/step - loss: 0.0680 - accuracy: 0.9807\n",
      "test_loss: 0.06795521080493927\n",
      "test_acc: 0.9807000160217285\n"
     ]
    }
   ],
   "source": [
    "test_loss, test_acc = network.evaluate(test_images, test_labels)\n",
    "\n",
    "print('test_loss:', test_loss)\n",
    "print('test_acc:', test_acc)"
   ]
  },
  {
   "cell_type": "code",
   "execution_count": 86,
   "metadata": {},
   "outputs": [
    {
     "data": {
      "image/png": "[encoded data removed]",
      "text/plain": [
       "<Figure size 432x288 with 1 Axes>"
      ]
     },
     "metadata": {
      "needs_background": "light"
     },
     "output_type": "display_data"
    },
    {
     "name": "stdout",
     "output_type": "stream",
     "text": [
      "7\n"
     ]
    }
   ],
   "source": [
    "plt.imshow(test_images[0].reshape(28,28), cmap=plt.cm.binary)\n",
    "plt.show()\n",
    "y_pred=network.predict(np.array([test_images[0]]))\n",
    "print(np.argmax(y_pred[0]))"
   ]
  },
  {
   "cell_type": "markdown",
   "metadata": {},
   "source": [
    "## Tensorflow Detail\n",
    "\n",
    "Let us try to understand each steps of tensorflow/keras\n",
    "\n",
    "* Tensorflow tensor\n",
    "* Keras input\n",
    "* Keras layers "
   ]
  },
  {
   "cell_type": "code",
   "execution_count": 36,
   "metadata": {},
   "outputs": [
    {
     "data": {
      "text/plain": [
       "<tf.Tensor: shape=(1,), dtype=int32, numpy=array([1])>"
      ]
     },
     "execution_count": 36,
     "metadata": {},
     "output_type": "execute_result"
    }
   ],
   "source": [
    "import tensorflow as tf\n",
    "import numpy as np\n",
    "# To make tf.Tensor one have to use tf.constant or use operations..\n",
    "#tf.Tensor([4, 6], shape=(2,), dtype=tf.int32) # Tensor must have shape and dtype.\n",
    "\n",
    "a =tf.constant([[1,2,3]])\n",
    "a[:,0]"
   ]
  },
  {
   "cell_type": "code",
   "execution_count": 17,
   "metadata": {},
   "outputs": [
    {
     "name": "stdout",
     "output_type": "stream",
     "text": [
      "tf.Tensor([[2 3]], shape=(1, 2), dtype=int32)\n"
     ]
    }
   ],
   "source": [
    "x = tf.matmul([[1]], [[2, 3]])\n",
    "print(x)"
   ]
  },
  {
   "cell_type": "markdown",
   "metadata": {},
   "source": [
    "## custom layer example"
   ]
  },
  {
   "cell_type": "code",
   "execution_count": 117,
   "metadata": {},
   "outputs": [],
   "source": [
    "class SimpleDense(tf.keras.layers.Layer):\n",
    "  def __init__(self, units=32):\n",
    "      super(SimpleDense, self).__init__()\n",
    "      self.units = units\n",
    "      self._a = tf.Variable(1.0) \n",
    "      self._b = tf.Variable(1.0)  \n",
    "      #self._c = tf.Variable(1.0)       \n",
    "  def call(self, inputs):\n",
    "      #return self._a*tf.exp(-self._b*inputs[:,1]) +self._c\n",
    "      return self._a*inputs[:,1] +self._b  \n",
    "    \n",
    "class simplemodel(tf.keras.models.Model):\n",
    "    def __init__(self, ):\n",
    "        tf.keras.models.Model.__init__(self)        \n",
    "        self.layer1 = SimpleDense()\n",
    "    def call(self, inputs):\n",
    "        x = self.layer1(inputs)\n",
    "        return x "
   ]
  },
  {
   "cell_type": "code",
   "execution_count": 119,
   "metadata": {},
   "outputs": [
    {
     "name": "stdout",
     "output_type": "stream",
     "text": [
      "WARNING:tensorflow:Layer simplemodel_18 is casting an input tensor from dtype float64 to the layer's dtype of float32, which is new behavior in TensorFlow 2.  The layer has dtype float32 because its dtype defaults to floatx.\n",
      "\n",
      "If you intended to run this layer in float32, you can safely ignore this warning. If in doubt, this warning is likely only an issue if you are porting a TensorFlow 1.X model to TensorFlow 2.\n",
      "\n",
      "To change all layers to have dtype float64 by default, call `tf.keras.backend.set_floatx('float64')`. To change just this layer, pass dtype='float64' to the layer constructor. If you are the author of this layer, you can disable autocasting by passing autocast=False to the base Layer constructor.\n",
      "\n",
      "unscaled_training = tf.Tensor(\n",
      "[ 1.6404517  3.230742   4.8210325  6.4113226  8.001613   9.591903\n",
      " 11.182194  12.772484  14.362774 ], shape=(9,), dtype=float32)\n",
      "WARNING:tensorflow:Layer simplemodel_19 is casting an input tensor from dtype float64 to the layer's dtype of float32, which is new behavior in TensorFlow 2.  The layer has dtype float32 because its dtype defaults to floatx.\n",
      "\n",
      "If you intended to run this layer in float32, you can safely ignore this warning. If in doubt, this warning is likely only an issue if you are porting a TensorFlow 1.X model to TensorFlow 2.\n",
      "\n",
      "To change all layers to have dtype float64 by default, call `tf.keras.backend.set_floatx('float64')`. To change just this layer, pass dtype='float64' to the layer constructor. If you are the author of this layer, you can disable autocasting by passing autocast=False to the base Layer constructor.\n",
      "\n",
      "scaled_training = tf.Tensor(\n",
      "[ 2.5676668  4.0541334  5.5406     7.027067   8.513533   9.999999\n",
      " 11.486465  12.972932  14.459399 ], shape=(9,), dtype=float32)\n",
      "target= [ 2.5  4.   5.5  7.   8.5 10.  11.5 13.  14.5]\n"
     ]
    }
   ],
   "source": [
    "model1 = simplemodel()\n",
    "model1.compile(optimizer='Adam',loss='MSE')\n",
    "#---simple data \n",
    "xx = np.array([[i/2,i*1.0] for i in range(0,9) ]) # xx[:,0] is dummy, xx[:,1] is the real argument\n",
    "yy = 1.5*xx[:,1]+2.5\n",
    "history = model1.fit(xx,yy,epochs =1000, verbose=False )\n",
    "print('unscaled_training =',model1(xx) )\n",
    "model1 = simplemodel()\n",
    "model1.compile(optimizer='Adam',loss='MSE')\n",
    "#--effect of scaling? \n",
    "xx_scaled = xx/5.0\n",
    "yy_scaled = yy/5.0\n",
    "history = model1.fit(xx_scaled,yy_scaled,epochs =1000, verbose=False )\n",
    "print('scaled_training =',model1(xx_scaled)*5.0 )\n",
    "print('target=',yy)"
   ]
  },
  {
   "cell_type": "code",
   "execution_count": null,
   "metadata": {},
   "outputs": [],
   "source": []
  }
 ],
 "metadata": {
  "kernelspec": {
   "display_name": "Python 3 (ipykernel)",
   "language": "python",
   "name": "python3"
  },
  "language_info": {
   "codemirror_mode": {
    "name": "ipython",
    "version": 3
   },
   "file_extension": ".py",
   "mimetype": "text/x-python",
   "name": "python",
   "nbconvert_exporter": "python",
   "pygments_lexer": "ipython3",
   "version": "3.9.7"
  }
 },
 "nbformat": 4,
 "nbformat_minor": 4
}
