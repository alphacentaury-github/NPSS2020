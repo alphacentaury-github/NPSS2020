{
 "cells": [
  {
   "cell_type": "markdown",
   "metadata": {},
   "source": [
    "# Nuclear Structure Excercise"
   ]
  },
  {
   "cell_type": "markdown",
   "metadata": {},
   "source": [
    "## Simple pairing model\n",
    "\n",
    "For Hamiltonian with pairing interaction,\n",
    "$$\\hat{H}=\\hat{H}_0+\\hat{V}$$ \n",
    "$$\\hat{H}_0= \\delta \\sum_{p\\sigma} (p-1)a^\\dagger_{p\\sigma} a_{p\\sigma}$$ \n",
    "$$\\hat{V} = -\\frac{1}{2} g \\sum_{pq} a^\\dagger_{p+}a^\\dagger_{p-} a_{q-}a_{q+}$$\n",
    "\n",
    "System of 4-nucleons with $S=0$ in 4-possible paired states.\n",
    "\n",
    "* Total number of possible 4-body states are 6. \n",
    "* Model space is taken up to 2p2h states\n",
    "\n",
    "* Following code compares ground state energy with full configuration interactions and with (model space) truncated configurations\n",
    "\n",
    "  H1 is full configuration up to 4p-4h\n",
    "  \n",
    "  H2 is truncated configuration up to 3p-3h"
   ]
  },
  {
   "cell_type": "code",
   "execution_count": 1,
   "metadata": {},
   "outputs": [
    {
     "name": "stdout",
     "output_type": "stream",
     "text": [
      "0\n",
      " -0.985 \n",
      " -0.135 \n",
      " -0.071 \n",
      " -0.071 \n",
      " -0.046 \n"
     ]
    },
    {
     "name": "stderr",
     "output_type": "stream",
     "text": [
      "C:\\Users\\user\\anaconda3\\lib\\site-packages\\numpy\\core\\_asarray.py:85: ComplexWarning: Casting complex values to real discards the imaginary part\n",
      "  return array(a, dtype, copy=False, order=order)\n"
     ]
    },
    {
     "data": {
      "image/png": "[encoded data removed]",
      "text/plain": [
       "<Figure size 432x288 with 1 Axes>"
      ]
     },
     "metadata": {
      "needs_background": "light"
     },
     "output_type": "display_data"
    }
   ],
   "source": [
    "from numpy import *\n",
    "from sympy import *\n",
    "from matplotlib.pyplot import *\n",
    "g_array = linspace(-1, 1, 1001)\n",
    "e1_array = []\n",
    "e2_array = []\n",
    "for g in g_array:\n",
    "    H1 = matrix([[2-g , -g/2., -g/2., -g/2., -g/2., 0],\n",
    "        [-g/2., 4-g, -g/2., -g/2., 0., -g/2.],\n",
    "        [-g/2., -g/2., 6-g, 0, -g/2., -g/2.],\n",
    "        [-g/2., -g/2., 0, 6-g, -g/2., -g/2.],\n",
    "        [-g/2., 0, -g/2., -g/2., 8-g, -g/2.],\n",
    "        [0 , -g/2., -g/2., -g/2., -g/2., 10-g]])\n",
    "    H2 = matrix([[2-g , -g/2., -g/2., -g/2., -g/2.],\n",
    "        [-g/2., 4-g, -g/2., -g/2., 0.],\n",
    "        [-g/2., -g/2., 6-g, 0, -g/2.],\n",
    "        [-g/2., -g/2., 0, 6-g, -g/2.],\n",
    "        [-g/2., 0, -g/2., -g/2., 8-g]])\n",
    "    u1, v1 = linalg.eig(H1)\n",
    "    u2, v2 = linalg.eig(H2)\n",
    "    if g == 1./2:\n",
    "        print( argmin(u1) )\n",
    "        for i in range(5):\n",
    "            print( \" %.3f \" % v2[i,0],)\n",
    "    e1_array.append(min(u1))\n",
    "    e2_array.append(min(u2))\n",
    "plot(g_array, e1_array, linewidth=2.0)\n",
    "#plot(g_array, e2_array, linewidth=2.0)\n",
    "plot(g_array, (2-g_array), linewidth=2.0)\n",
    "grid()\n",
    "xlabel(r\"Strength of interaction, $g$\", fontsize=16)\n",
    "ylabel(r'Ground state energy', fontsize=16)\n",
    "#axis([-1,1,-0.4,0.05])\n",
    "legend(['FCI -- Exact', 'Reference energy'])\n",
    "#savefig(\"pairing.pdf\")\n",
    "show()\n"
   ]
  },
  {
   "cell_type": "markdown",
   "metadata": {},
   "source": [
    "# Bit Counting\n",
    "\n",
    "This is not complete. It does not make the $(a^\\dagger_i)^2|0\\rangle$ as $|0\\rangle$ but returns $0|1\\rangle$. \n"
   ]
  },
  {
   "cell_type": "code",
   "execution_count": 19,
   "metadata": {},
   "outputs": [
    {
     "name": "stdout",
     "output_type": "stream",
     "text": [
      "c^+_0 |0>  = \n",
      "1 x |1>\n",
      "c^+_0 |1>  = \n",
      "0 x |1>\n",
      "c^+_1 |1>  = \n",
      "-1 x |11>\n",
      "c_2 |11>  = \n",
      "0 x |11>\n",
      "c^+_7 |11>  = \n",
      "1 x |10000011>\n",
      "c_0 |10000011>  = \n",
      "1 x |10000010>\n",
      "c^+_20 |10000010>  = \n",
      "1 x |100000000000010000010>\n"
     ]
    }
   ],
   "source": [
    "import math\n",
    "\n",
    "\"\"\"\n",
    "A simple Python class for Slater determinant manipulation\n",
    "Bit-manipulation stolen from:\n",
    "\n",
    "http://wiki.python.org/moin/BitManipulation\n",
    "\"\"\"\n",
    "\n",
    "# bitCount() counts the number of bits set (not an optimal function)\n",
    "\n",
    "def bitCount(int_type):\n",
    "    \"\"\" Count bits set in integer \"\"\"\n",
    "    count = 0\n",
    "    while(int_type):\n",
    "        int_type &= int_type - 1\n",
    "        count += 1\n",
    "    return(count)\n",
    "\n",
    "\n",
    "# testBit() returns a nonzero result, 2**offset, if the bit at 'offset' is one.\n",
    "\n",
    "def testBit(int_type, offset):\n",
    "    mask = 1 << offset\n",
    "    return(int_type & mask) >> offset\n",
    "\n",
    "# setBit() returns an integer with the bit at 'offset' set to 1.\n",
    "\n",
    "def setBit(int_type, offset):\n",
    "    mask = 1 << offset\n",
    "    return(int_type | mask)\n",
    "\n",
    "# clearBit() returns an integer with the bit at 'offset' cleared.\n",
    "\n",
    "def clearBit(int_type, offset):\n",
    "    mask = ~(1 << offset)\n",
    "    return(int_type & mask)\n",
    "\n",
    "# toggleBit() returns an integer with the bit at 'offset' inverted, 0 -> 1 and 1 -> 0.\n",
    "\n",
    "def toggleBit(int_type, offset):\n",
    "    mask = 1 << offset\n",
    "    return(int_type ^ mask)\n",
    "\n",
    "# binary string made from number\n",
    "\n",
    "def bin0(s):\n",
    "    return str(s) if s<=1 else bin0(s>>1) + str(s&1)\n",
    "\n",
    "def bin(s, L = 0):\n",
    "    ss = bin0(s)\n",
    "    if L > 0:\n",
    "        return '0'*(L-len(ss)) + ss\n",
    "    else:\n",
    "        return ss\n",
    "    \n",
    "    \n",
    "\n",
    "class Slater:\n",
    "    \"\"\" Class for Slater determinants \"\"\"\n",
    "    def __init__(self):\n",
    "        self.word = int(0)\n",
    "\n",
    "    def create(self, j):\n",
    "        print(  \"c^+_\" + str(j) + \" |\" + bin(self.word) + \">  = \",)\n",
    "        # Assume bit j is set, then we return zero.\n",
    "        s = 0\n",
    "        # Check if bit j is set.\n",
    "        isset = testBit(self.word, j)\n",
    "        if isset == 0:\n",
    "            bits = bitCount(self.word & ((1<<j)-1))\n",
    "            s = pow(-1, bits)\n",
    "            self.word = setBit(self.word, j)\n",
    "\n",
    "        print( str(s) + \" x |\" + bin(self.word) + \">\" )\n",
    "        return s\n",
    "        \n",
    "    def annihilate(self, j):\n",
    "        print( \"c_\" + str(j) + \" |\" + bin(self.word) + \">  = \",)\n",
    "        # Assume bit j is not set, then we return zero.\n",
    "        s = 0\n",
    "        # Check if bit j is set.\n",
    "        isset = testBit(self.word, j)\n",
    "        if isset == 1:\n",
    "            bits = bitCount(self.word & ((1<<j)-1))\n",
    "            s = pow(-1, bits)\n",
    "            self.word = clearBit(self.word, j)\n",
    "\n",
    "        print( str(s) + \" x |\" + bin(self.word) + \">\" )\n",
    "        return s\n",
    "\n",
    "\n",
    "\n",
    "# Do some testing:\n",
    "\n",
    "phi = Slater()\n",
    "# create 0 \n",
    "phi.create(0)\n",
    "# test double create \n",
    "phi.create(0)\n",
    "phi.create(1)\n",
    "\n",
    "s = phi.annihilate(2)\n",
    "s = phi.create(7)\n",
    "s = phi.annihilate(0)\n",
    "s = phi.create(20)"
   ]
  },
  {
   "cell_type": "code",
   "execution_count": null,
   "metadata": {},
   "outputs": [],
   "source": []
  }
 ],
 "metadata": {
  "kernelspec": {
   "display_name": "Python 3",
   "language": "python",
   "name": "python3"
  },
  "language_info": {
   "codemirror_mode": {
    "name": "ipython",
    "version": 3
   },
   "file_extension": ".py",
   "mimetype": "text/x-python",
   "name": "python",
   "nbconvert_exporter": "python",
   "pygments_lexer": "ipython3",
   "version": "3.8.5"
  }
 },
 "nbformat": 4,
 "nbformat_minor": 4
}
