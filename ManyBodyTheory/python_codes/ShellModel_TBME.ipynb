{
 "cells": [
  {
   "cell_type": "markdown",
   "metadata": {},
   "source": [
    "# Moshinsky Transformation Bracket and TBME\n"
   ]
  },
  {
   "cell_type": "markdown",
   "metadata": {},
   "source": [
    "Moshinsky Bracket is defined as\n",
    "\n",
    "Moshinsky_Bracket(n,l,N,L,lam,n1,l1,n2,l2) $= \\langle (n l N L)\\lambda | (n_1 l_1 n_2 l_2) \\lambda \\rangle $\n",
    "\n",
    "Brody-Moshinsky-Talmi coefficient\n",
    "\n",
    "BMT_coef(n,l,npp,lpp,p)=  B(nl,n'l',p)"
   ]
  },
  {
   "cell_type": "code",
   "execution_count": 1,
   "metadata": {},
   "outputs": [],
   "source": [
    "from Moshinsky import *"
   ]
  },
  {
   "cell_type": "markdown",
   "metadata": {},
   "source": [
    "### Imports\n",
    "\n",
    "* hbarc = 197.326968\n",
    "* amu = 931.4940954 # MeV\n",
    "* mass_p  = 938.272    \n",
    "* mass_n  = 939.5653\n",
    "* mass_N = (mass_p+mass_n)/2.0\n",
    "* alpha = 1.0/137.035\n",
    "* Radial_HO3D(n,l,r,nu=0.5) : $R_{nl}(r;\\nu)$ with $E=(2n+l+3/2)\\hbar \\omega$  $nu = m \\omega/(2\\hbar)$ \n",
    "* b_HO3D(omega)             : $b=sqrt(\\hbar c/(m\\omega))$ for nucleon\n",
    "* RacahW(j1,j2,j1p,j2p,J,k) : Racah coefficient"
   ]
  },
  {
   "cell_type": "code",
   "execution_count": 2,
   "metadata": {},
   "outputs": [],
   "source": [
    "from Moshinsky import *"
   ]
  },
  {
   "cell_type": "code",
   "execution_count": 3,
   "metadata": {},
   "outputs": [
    {
     "data": {
      "text/plain": [
       "((0.9999999999999999, 5.3635811632276915e-12),\n",
       " (0.9999999999999999, 2.68948172552827e-09))"
      ]
     },
     "execution_count": 3,
     "metadata": {},
     "output_type": "execute_result"
    }
   ],
   "source": [
    "## test of radial integral\n",
    "\n",
    "def f(x):\n",
    "    return Radial_HO3D(0,2,x)**2*x**2\n",
    "\n",
    "def g(x):\n",
    "    return Radial_HO3D(1,2,x,nu=1)**2*x**2\n",
    "\n",
    "from scipy.integrate import quad\n",
    "quad(f,0,1000.), quad(g,0,1000.)"
   ]
  },
  {
   "cell_type": "markdown",
   "metadata": {},
   "source": [
    "### Test of Moshinsky-Bracket\n",
    "compared with CPC2(1971)231 outputs\n",
    "\n",
    "and sum rule test \n",
    "\n",
    "    Moshinsky_Bracket(n,l,N,L,lam,n1,l1,n2,l2):\n",
    "    \"\"\"\n",
    "    Moshinsky Braket \n",
    "    < nl,NL;lam | n1 l1,n2,l2;lam> \n",
    "    \n",
    "    lam is total angular momentum \n",
    "    \n",
    "    use recurrence relation of eq.(39) of Moshinsky paper. \n",
    "    \n",
    "    Use always (n1 < n2) and (l1 < l2) \n",
    "               (n < N) and ( l < L ) by symmetry \n",
    "    \"\"\"           "
   ]
  },
  {
   "cell_type": "code",
   "execution_count": 4,
   "metadata": {},
   "outputs": [
    {
     "name": "stdout",
     "output_type": "stream",
     "text": [
      "===Test outputs of Brody-Moshinsky coeffcients ===\n",
      " n1  n2  l1  l2  LA   n   l   N   L\n",
      "  0   0   5   6   6   1   3   0   6  BM= -0.295149\n",
      "  0   0   6   5   6   1   3   0   6  BM= -0.295149\n",
      "  0   0   6   6   7   1   3   1   5  BM=  0.188810\n",
      "  0   0   0   0   0   0   0   0   0  BM=  1.000000\n",
      "  0   0   6   6   0   0   0   0   6  BM=  0.000000\n",
      "  0   0   1   5   4   0   5   0   1  BM= -0.111111\n",
      "  0   0   3   4   5   0   6   0   1  BM=  0.028490\n",
      "  1   0   1   1   1   0   1   1   1  BM=  0.500000\n",
      "  1  10   1   6   5   2   4   0   1  BM=  0.000000\n",
      "  2   2   2   2   2   3   2   1   2  BM=  0.234879\n",
      "  3   3   0   0   0   3   2   1   2  BM= -0.064878\n",
      "=====sum rule test=====\n",
      "**for n1=  1 l1=  0 n2=  1 l2=  0 Ltot=  0 rho=  4\n",
      "  1   1   0   0   0   2   0   0   0  BM=  0.456435\n",
      "  1   1   0   0   0   1   0   1   0  BM=  0.166667\n",
      "  1   1   0   0   0   0   0   2   0  BM=  0.456435\n",
      "  1   1   0   0   0   1   1   0   0  BM=  0.000000\n",
      "  1   1   0   0   0   0   1   1   0  BM=  0.000000\n",
      "  1   1   0   0   0   1   2   0   0  BM=  0.000000\n",
      "  1   1   0   0   0   0   2   1   0  BM=  0.000000\n",
      "  1   1   0   0   0   0   3   0   0  BM=  0.000000\n",
      "  1   1   0   0   0   0   4   0   0  BM=  0.000000\n",
      "  1   1   0   0   0   1   1   0   1  BM=  0.000000\n",
      "  1   1   0   0   0   0   1   1   1  BM=  0.000000\n",
      "  1   1   0   0   0   0   2   0   1  BM=  0.000000\n",
      "  1   1   0   0   0   0   3   0   1  BM=  0.000000\n",
      "  1   1   0   0   0   0   2   0   2  BM= -0.745356\n",
      "  sumrule= 1.000000\n"
     ]
    }
   ],
   "source": [
    "def test_print(n1,n2,l1,l2,LA,n,l,N,L):\n",
    "    out = Moshinsky_Bracket(n,l,N,L,LA,n1,l1,n2,l2)\n",
    "    print('%3i %3i %3i %3i %3i %3i %3i %3i %3i  BM= % f'%(n1,n2,l1,l2,LA,n,l,N,L,out))\n",
    "    return \n",
    "    \n",
    "\n",
    "print('===Test outputs of Brody-Moshinsky coeffcients ===')\n",
    "print(' n1  n2  l1  l2  LA   n   l   N   L')\n",
    "test_print( 0,0,5,6,6,1,3,0,6)\n",
    "test_print( 0,0,6,5,6,1,3,0,6)\n",
    "test_print( 0,0,6,6,7,1,3,1,5)\n",
    "test_print( 0,0,0,0,0,0,0,0,0)\n",
    "test_print( 0,0,6,6,0,0,0,0,6)\n",
    "test_print( 0,0,1,5,4,0,5,0,1)\n",
    "test_print( 0,0,3,4,5,0,6,0,1)\n",
    "test_print( 1,0,1,1,1,0,1,1,1)\n",
    "test_print( 1,10,1,6,5,2,4,0,1)\n",
    "test_print( 2,2,2,2,2,3,2,1,2)\n",
    "test_print( 3,3,0,0,0,3,2,1,2)       \n",
    "\n",
    "\n",
    "#test sum rule \n",
    "print('=====sum rule test=====')\n",
    "n1=1;l1=0;n2=1;l2=0;Lam=0;\n",
    "rho=2*n1+l1+2*n2+l2\n",
    "print('**for n1=%3i l1=%3i n2=%3i l2=%3i Ltot=%3i rho=%3i'%(n1,l1,n2,l2,Lam ,rho ) )\n",
    "\n",
    "sums=0\n",
    "for L in range(0,rho+1):\n",
    "    l_min = abs(Lam-L)\n",
    "    l_max = max(L+Lam,rho-L)\n",
    "    for l in range(l_min,l_max+1):\n",
    "        Nmin = 0\n",
    "        Nmax = int((rho-l-L)/2)\n",
    "        for N in range(Nmin,Nmax+1):\n",
    "            n = int((rho-l-L-2*N)/2) \n",
    "            test_print(n1,n2,l1,l2,Lam,n,l,N,L)\n",
    "            sums = sums +Moshinsky_Bracket(n,l,N,L,Lam,n1,l1,n2,l2)**2\n",
    "print('  sumrule= %f'%(sums)    )"
   ]
  },
  {
   "cell_type": "markdown",
   "metadata": {},
   "source": [
    "## BMT coefficients\n",
    "\n",
    "The Two-body matrix element of potential in H.O. basis\n",
    "requires $\\langle nl| V(r)| n' l'\\rangle$.\n",
    "\n",
    "This can be expanded in terms of Talmi-integrals \n",
    "\n",
    "$\\langle nl| V(r)| n' l'\\rangle = \\sum_p B(nl,n'l',p) I_p^b$\n",
    "\n",
    "with      \n",
    "$I_p^b = \\frac{2}{\\Gamma(p+3/2)}\\int R^{2p+2} V(r) e^{-R^2} dR $  with  $R=r/\\sqrt{2} b$, $r=r_1-r_2$.\n",
    "\n",
    "We define function \n",
    "\n",
    "* BMT_coef(n,l,npp,lpp,p)=  B(nl,n'l',p)\n",
    "\n",
    "However, note that it is only when $V(r)$ is a radial function. \n",
    "If potential contains additional spatial operator, it should be included too. \n",
    "\n",
    "* Talmi_integral(potential,p,b,Rmax=1000.)\n",
    "\n",
    "where potential is callable function V(r) or name of known function(like 'coulomb')  "
   ]
  },
  {
   "cell_type": "markdown",
   "metadata": {},
   "source": [
    "### test of Talmi-integral\n",
    "\n",
    "Special case of Talmi integral:\n",
    "$\\int_0^\\infty dr r^{2p+m}\\exp(-q^2 r^2) =\\frac{1}{2}(q^2)^{-p-\\frac{m+1}{2} } \\Gamma(p + \\frac{(1+m)}{2})$ for (m + 2 p)>-1\n",
    "\n",
    "For Coulomb type $1/r$,\n",
    "\n",
    "$I_{p}=\\frac{2}{\\Gamma(p+3/2)} \\int dR R^{2p+2} \\frac{1}{\\sqrt{2}b R} e^{-R^2}= \\frac{1}{\\sqrt{2}b}\\frac{\\Gamma(p+1)}{\\Gamma(p+3/2)} $"
   ]
  },
  {
   "cell_type": "code",
   "execution_count": 5,
   "metadata": {},
   "outputs": [
    {
     "name": "stdout",
     "output_type": "stream",
     "text": [
      "numerical= 0.5319230405352435\n",
      "symbolic = 0.531923040535244\n",
      "analytic = 0.531923040535244\n"
     ]
    }
   ],
   "source": [
    "# test example \n",
    "p=1;b=1.0;\n",
    "\n",
    "def f(x):\n",
    "    return 1/x\n",
    "print('numerical=',Talmi_integral(f,p,b) )\n",
    "#symbolic integral test\n",
    "import sympy\n",
    "from sympy import oo, gamma\n",
    "\n",
    "r= sympy.symbols('r')\n",
    "exact = 2/(np.sqrt(2)*b*sympy.gamma(p+3/2))*sympy.integrate(r**(2*p+1)*sympy.exp(-r**2),(r,0,oo))\n",
    "print('symbolic =',exact)\n",
    "print('analytic =',1/np.sqrt(2)*gamma(p+1)/gamma(p+3/2))"
   ]
  },
  {
   "cell_type": "markdown",
   "metadata": {},
   "source": [
    "## Two-body Matrix elements\n",
    "\n",
    "Two-body matrix element \n",
    "$\\langle a,b| V| c,d\\rangle^{J,T}_{nas}$ as\n",
    "\n",
    "     TBME(a,b,c,d,J,T,potential=None,b_HO=None)\n",
    "\n",
    "     a,b,c,d are tuple of (n,l,j)\n",
    "\n",
    "potential is supplied as a dictionary. \n",
    "\n",
    "      potential={ op_type : {name: radial_function,parameter: additional_parameter} }\n",
    "      \n",
    "      with \n",
    "      op_type  : 'SO'  spin singlet, spatial odd \n",
    "               'TO'  spin triplet, spatial odd\n",
    "               'SE'  spin singlet, spatial even\n",
    "               'TE'  spin triplet spatial even\n",
    "               'LSO' spin-orbit spatial odd\n",
    "               'LSE' spin-orbit spatial even\n",
    "               'TNO' tensor spatial odd\n",
    "               'TNE' tensor spatial even \n",
    "               \n",
    "      radial_function can be  callable function of f(r=|r1-r2|, para)         \n",
    "      or some special cases 'delta','Hrel','Trel','coulomb' can be used simply with string name.              "
   ]
  },
  {
   "cell_type": "markdown",
   "metadata": {},
   "source": [
    "### Test of TBME\n",
    "\n",
    "(1) constant potential $V(r)=1$ is done if no potential is given"
   ]
  },
  {
   "cell_type": "code",
   "execution_count": 6,
   "metadata": {},
   "outputs": [
    {
     "name": "stdout",
     "output_type": "stream",
     "text": [
      "1.0000000000000002\n"
     ]
    }
   ],
   "source": [
    "st4=(0,2,2.5)\n",
    "st6=(1,0,0.5)\n",
    "\n",
    "print( TBME(st6,st6,st6,st6,0,1) )"
   ]
  },
  {
   "cell_type": "markdown",
   "metadata": {},
   "source": [
    "(2) Coulomb potential case is given as\n",
    "\n",
    "Coulomb_pot={'SE':coulomb, 'TO':coulomb} # only for T=1\n",
    "\n",
    "Some test confirmed the equivalance between numerical form of Coulomb and exact 'coulomb'"
   ]
  },
  {
   "cell_type": "code",
   "execution_count": 7,
   "metadata": {},
   "outputs": [
    {
     "name": "stdout",
     "output_type": "stream",
     "text": [
      "--numerical integration--\n",
      "0.45383239888582466\n",
      "0.633395681904295\n",
      "0.19957177201444495\n",
      "0.4714479223264923\n"
     ]
    }
   ],
   "source": [
    "st1=(0,0,0.5)  # 1\n",
    "st6=(1,0,0.5)  # 4 \n",
    "st8=(2,0,0.5)\n",
    "st4=(0,2,2.5)\n",
    "\n",
    "def coulomb(x):\n",
    "    \"\"\"\n",
    "    Coulomb interaction e^2/r in MeV unit(r in fm unit)\n",
    "    \"\"\"\n",
    "    return 1.43996/x \n",
    "\n",
    "# numerical integration\n",
    "Coulomb_pot={'SE':{'potname':coulomb}, 'TO':{'potname':coulomb} } # only for T=1\n",
    "print('--numerical integration--')\n",
    "print( TBME(st6,st6,st6,st6,0,1,potential=Coulomb_pot,b_HO=b_HO3D(13.9)) )\n",
    "print( TBME(st1,st6,st1,st6,0,1,potential=Coulomb_pot,b_HO=b_HO3D(15.0))  )\n",
    "print( TBME(st1,st6,st1,st8,0,1,potential=Coulomb_pot,b_HO=b_HO3D(15.0))  )\n",
    "print( TBME(st6,st6,st6,st6,0,1,potential=Coulomb_pot,b_HO=b_HO3D(15.0))  )"
   ]
  },
  {
   "cell_type": "code",
   "execution_count": 8,
   "metadata": {},
   "outputs": [
    {
     "data": {
      "text/plain": [
       "0.4538323988858247"
      ]
     },
     "execution_count": 8,
     "metadata": {},
     "output_type": "execute_result"
    }
   ],
   "source": [
    "TBME_LS(st6,st6,st6,st6,0,1,Lam=0,Lamp=0,S=0,potential=Coulomb_pot,b_HO=b_HO3D(13.9))"
   ]
  },
  {
   "cell_type": "markdown",
   "metadata": {},
   "source": [
    "(3) delta potential (which is always even in orbital) : example from A. Brown's lecture   \n",
    "    \n",
    "    \n",
    "$V=(-500 MeV.fm^3)*(1+0.12 \\sigma_1\\cdot\\sigma_2)\\delta^{(3)}(r)\n",
    "=(-560) \\delta^{(3)}(r) W_{S=1}P_{T=0}  +(-320) \\delta^{(3)}(r) W_{S=0}P_{T=1}$"
   ]
  },
  {
   "cell_type": "code",
   "execution_count": 9,
   "metadata": {},
   "outputs": [
    {
     "name": "stdout",
     "output_type": "stream",
     "text": [
      "-3.1048137894390635\n",
      "-2.9495730999671097\n"
     ]
    }
   ],
   "source": [
    "st1=(0,0,0.5)\n",
    "st6=(1,0,0.5)\n",
    "st8=(2,0,0.5)\n",
    "st4=(0,2,2.5)\n",
    "delta_pot ={'SE':{'potname':'delta','parameter': -320 } \n",
    "            ,'TE':{'potname':'delta','parameter': -560} }\n",
    "print( TBME(st4,st4,st4,st4,0,1, potential=delta_pot,b_HO=b_HO3D(13.9)) )\n",
    "\n",
    "print( TBME(st4,st4,st4,st4,1,0, potential=delta_pot,b_HO=b_HO3D(13.9)) )"
   ]
  },
  {
   "cell_type": "markdown",
   "metadata": {},
   "source": [
    "# MFDn input files"
   ]
  },
  {
   "cell_type": "raw",
   "metadata": {},
   "source": [
    "* mfdn_sp_orbitals.info \n",
    "looks like \n",
    "\n",
    "    #  Output from MFDn in M-scheme basis Version 15\n",
    "    #  listing of single particle orbitals (SP_orb) \n",
    "    #  highest SP 2*j value     21\n",
    "    #  highest SP wt  value    10.000000\n",
    "    #  orbital,  n ,  l , 2*j , cls, weight\n",
    "    #  End of comments\n",
    "    15099    Version number for consistency checks\n",
    "    66    66    number of p and n orbitals\n",
    "    #           n      l      2j    cls      weight \n",
    "       1        0      0      1      1       0.000000 0s1/2\n",
    "       2        0      1      1      1       1.000000 0p1/2\n",
    "       3        0      1      3      1       1.000000 0p3/2 \n",
    "       4        1      0      1      1       2.000000 1s1/2\n",
    "       5        0      2      3      1       2.000000 0d3/2\n",
    "       6        0      2      5      1       2.000000 0d5/2\n",
    "       7        1      1      1      1       3.000000 1p1/2\n",
    "       8        1      1      3      1       3.000000 1p3/2\n",
    "       9        0      3      5      1       3.000000 0f5/2 \n",
    "      10        0      3      7      1       3.000000 0f7/2 \n",
    "      11        2      0      1      1       4.000000 .....\n",
    "\n",
    "\n",
    "\tNOTATION\n",
    "\n",
    "------------------------------------------------------------------\n",
    "\n",
    "\tV_pot \t2- or 3-body nuclear potential\n",
    "\n",
    "\tH_CM\tCenter-of-Mass H.O. hamiltonian\n",
    "\tH_rel\trelative H.O. hamiltonian\n",
    "\tT_rel\trelative kinetic energy ( p_{ij}^2 / 2 m )\n",
    "\tU_rel\trelative H.O. potential (m w^2 r_{ij}^2 /2 )\n",
    "\tH_rel = T_rel + U_rel\n",
    "\n",
    "\tH_osc = (p_i^2 / 2 m ) + (m w^2 r_i^2 /2 )\n",
    "\t      = H_CM + H_rel\n",
    "\t      = H_CM + T_rel + U_rel\n",
    "\thas analytic expression in MFDn (and other codes)\n",
    " \n",
    "Total hamiltonian\t\n",
    "(schematically, modulo factors of 2/A, 1/(A-1), 1/(A-2) etc...)\n",
    "\tH = T_rel + V_pot + lambda * (H_CM - 1.5*hw)\n",
    "\t  = T_rel - lambda * H_rel + V_pot \n",
    "\t    + lambda * H_osc - 1.5 * lambda * hw\n",
    "\t  = (1 - lambda) * H_rel + (V_pot - U_rel) \n",
    "\t    + lambda * H_osc - 1.5 * lambda * hw\n",
    "\n",
    "In case of an external field we have (not yet implemented)\n",
    "\tH = H_{ext.field} + V_pot\n",
    "In case of a H.O. external field (hW) we have\n",
    "\tH = H_osc(hW) + V_pot\n",
    "\t  = H_osc(hW) + (H_rel - T_rel) + (V_pot - U_rel) \n",
    "NOTE: here H_osc is the EXTERNAL FIELD H.O. hamiltonian, \n",
    "      NOT the basis space H.O. hamiltonian!!!\n",
    "\n",
    "\tH2\tcomplete 2-body hamiltonian\t\n",
    "\tH3 \tcomplete 3-body hamiltonian\n",
    "\n",
    "* V_JISP16_ip10_PNfmt_hw15 # PN here means Peter-Navratil not proton-neutron \n",
    "   \n",
    "     198040  # total number of TBME (?)\n",
    "   # matrix elements <ab;JT|v|cd;JT>_{nas}   \n",
    "   #  a    b    c    d    J    T    <Trel>                                 \n",
    "         \n",
    "      1    4    1    4    0    0  0.1250000E+01  0.2500000E+01  0.4604286E+00  0.6791976E+01  0.0000000E+00  0.0000000E+00\n",
    "      1    4    1   11    0    0  0.5590169E+00  0.0000000E+00  0.1029550E+00  0.3746211E+01  0.0000000E+00  0.0000000E+00\n",
    "      1    4    1   22    0    0  0.0000000E+00  0.0000000E+00  0.3574416E-01  0.3177146E+01  0.0000000E+00  0.0000000E+00\n",
    "      1    4    1   37    0    0  0.0000000E+00  0.0000000E+00  0.1404163E-01  0.2309983E+01  0.0000000E+00  0.0000000E+00\n",
    "      1    4    1   56    0    0  0.0000000E+00  0.0000000E+00  0.5857326E-02  0.1315146E+01  0.0000000E+00  0.0000000E+00\n",
    "      1    4    2    7    0    0 -0.3227486E+00  0.0000000E+00 -0.5944107E-01 -0.2162876E+01  0.0000000E+00  0.0000000E+00\n",
    "      1    4    2   16    0    0  0.0000000E+00  0.0000000E+00 -0.3369992E-01 -0.2995442E+01  0.0000000E+00  0.0000000E+00\n",
    "      1    4    2   29    0    0  0.0000000E+00  0.0000000E+00 -0.1719742E-01 -0.2829139E+01  0.0000000E+00  0.0000000E+00\n",
    "      1    4    2   46    0    0  0.0000000E+00  0.0000000E+00 -0.8555171E-02 -0.1920893E+01  0.0000000E+00  0.0000000E+00\n",
    "      1    4    3    8    0    0 -0.4564354E+00  0.0000000E+00 -0.8406238E-01 -0.3058769E+01  0.0000000E+00  0.0000000E+00\n",
    "      1    4    3   17    0    0  0.0000000E+00  0.0000000E+00 -0.4765888E-01 -0.4236195E+01  0.0000000E+00  0.0000000E+00"
   ]
  },
  {
   "cell_type": "code",
   "execution_count": 11,
   "metadata": {},
   "outputs": [
    {
     "name": "stdout",
     "output_type": "stream",
     "text": [
      "1.25 1.25 0.4606514050213056\n",
      "-0.3227486121839513 0.0\n",
      "-0.4564354645876383 0.0\n"
     ]
    }
   ],
   "source": [
    "# MFDn sp levels \n",
    "st1 = (0,0,0.5)\n",
    "st2 = (0,1,0.5)\n",
    "st3 = (0,1,1.5)\n",
    "st4 = (1,0,0.5)\n",
    "st5 = (0,2,1.5)\n",
    "st6 = (0,2,2.5)\n",
    "st7 = (1,1,0.5)\n",
    "st8 = (1,1,1.5)\n",
    "# TBME of \n",
    "# Hrel = (p1-p2)^2/m +0.5*(m/2)*w^2*(r1-r2)^2 --> (2*n+l+1.5) in units of (2 hbar omega/A)\n",
    "# Trel =  (p1-p2)^2/m  in unit of hbar*Omega/A  \n",
    "Trel_pot={'SE': {'potname':'Trel'},\n",
    "          'SO': {'potname':'Trel'},\n",
    "          'TE': {'potname':'Trel'},\n",
    "          'TO': {'potname':'Trel'}}\n",
    "Hrel_pot={'SE': {'potname':'Hrel'},\n",
    "          'SO': {'potname':'Hrel'},\n",
    "          'TE': {'potname':'Hrel'},\n",
    "          'TO': {'potname':'Hrel'}}\n",
    "Coulomb_pot={'SE':{'potname':coulomb}, \n",
    "             'SO':{'potname':coulomb}, # ?\n",
    "             'TE':{'potname':coulomb}, # ? \n",
    "             'TO':{'potname':coulomb} } # only for T=1\n",
    "\n",
    "print( TBME(st1,st4,st1,st4,0,0,potential=Trel_pot,b_HO=b_HO3D(15.0)) \n",
    "      , TBME(st1,st4,st1,st4,0,0,potential=Hrel_pot,b_HO=b_HO3D(15.0))\n",
    "      , TBME(st1,st4,st1,st4,0,0,potential=Coulomb_pot,b_HO=b_HO3D(15.0))   )\n",
    "print( TBME(st1,st4,st2,st7,0,0,potential=Trel_pot,b_HO=b_HO3D(15.0)) \n",
    "      , TBME(st1,st4,st2,st7,0,0,potential=Hrel_pot,b_HO=b_HO3D(15.0)) )\n",
    "print( TBME(st1,st4,st3,st8,0,0,potential=Trel_pot,b_HO=b_HO3D(15.0)) \n",
    "      , TBME(st1,st4,st3,st8,0,0,potential=Hrel_pot,b_HO=b_HO3D(15.0)))"
   ]
  },
  {
   "cell_type": "code",
   "execution_count": null,
   "metadata": {},
   "outputs": [],
   "source": []
  }
 ],
 "metadata": {
  "kernelspec": {
   "display_name": "Python 3",
   "language": "python",
   "name": "python3"
  },
  "language_info": {
   "codemirror_mode": {
    "name": "ipython",
    "version": 3
   },
   "file_extension": ".py",
   "mimetype": "text/x-python",
   "name": "python",
   "nbconvert_exporter": "python",
   "pygments_lexer": "ipython3",
   "version": "3.8.5"
  }
 },
 "nbformat": 4,
 "nbformat_minor": 4
}
