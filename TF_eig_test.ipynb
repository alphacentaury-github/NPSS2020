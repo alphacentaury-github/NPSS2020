{
 "cells": [
  {
   "cell_type": "markdown",
   "id": "b0fa54b9-5238-4d9b-a544-dff9e099c6a2",
   "metadata": {},
   "source": [
    "# Tensorflow for eigenvalue problem\n",
    "\n",
    "Testing audograd for eigenvalue problem. Or PPM. \n",
    "\n",
    "Suppose True problem have eigenvalues $e_t(c)$.\n",
    "Prepare random matrix\n",
    "$M(c) = M_0 + c M_1$, and solve eigenvalue problem $M(c) v = e v$. \n",
    "\n",
    "The goal is to reduce the difference $|e(c)-e_t(c)|^2$\n",
    "by updating matrix $M_0$ and $M_1$. In other words, obtaining \n",
    "$M(c)$ which simulate the original problem. \n"
   ]
  },
  {
   "cell_type": "code",
   "execution_count": 1,
   "id": "6d60d07e-48ae-4cde-b9e2-51f4f23b88ca",
   "metadata": {
    "tags": []
   },
   "outputs": [
    {
     "name": "stdout",
     "output_type": "stream",
     "text": [
      "WARNING:tensorflow:From C:\\Users\\young\\anaconda3\\Lib\\site-packages\\keras\\src\\losses.py:2976: The name tf.losses.sparse_softmax_cross_entropy is deprecated. Please use tf.compat.v1.losses.sparse_softmax_cross_entropy instead.\n",
      "\n"
     ]
    }
   ],
   "source": [
    "#========== import packages=============== \n",
    "import numpy as np\n",
    "import tensorflow as tf\n",
    "#tf.get_logger().setLevel('ERROR')\n",
    "#tf.autograph.set_verbosity(1)"
   ]
  },
  {
   "cell_type": "code",
   "execution_count": 62,
   "id": "62139237-d1d3-4e83-93e2-e2f5048ada66",
   "metadata": {
    "tags": []
   },
   "outputs": [
    {
     "name": "stdout",
     "output_type": "stream",
     "text": [
      "mm_t :[[ 0.5+0.j  1. +0.j]\n",
      " [ 1. +0.j -0.5+0.j]] \n",
      "e_t :[ 1.11803399+0.j -1.11803399+0.j] \n",
      "mm(0) :[[ 1.1+0.j   0.5-0.1j]\n",
      " [ 0.5+0.1j -0.9+0.j ]] \n",
      "e(0) :[-1.02249722+6.30407896e-18j  1.22249722-6.30407896e-18j] \n"
     ]
    }
   ],
   "source": [
    "#============set up matrix====================\n",
    "# target true matrix\n",
    "c= tf.constant(0.5,dtype=tf.complex128)\n",
    "s0 = tf.constant( [ [1.0,0.0],[0.0,1.0]],dtype=tf.complex128)\n",
    "sx = tf.constant( [ [0.0,1.0],[1.0,0.0]],dtype=tf.complex128)\n",
    "sy = tf.constant( [ [0.0+0j,-1j],[1j,0.0+0j]],dtype=tf.complex128)\n",
    "sz = tf.constant( [ [1.0,0.0],[0.0,-1.0]],dtype=tf.complex128)\n",
    "\n",
    "def mm_t(c):\n",
    "    return sx+ sz*c \n",
    "\n",
    "e_t,v_t = tf.linalg.eig(mm_t(0.5))\n",
    "\n",
    "#------initial matrix\n",
    "learning_rate=tf.constant(0.01,dtype=tf.complex128)\n",
    "var = tf.Variable([0.1,0.5,0.1,1.0],dtype=tf.complex128) # true is (0,1,0,0.5)\n",
    "\n",
    "def mm_var(var):\n",
    "    return s0*var[0]+sx*var[1]+sy*var[2]+sz*var[3]\n",
    "\n",
    "e,v = tf.linalg.eig(mm_var(var))\n",
    "\n",
    "print('mm_t :{} '.format(mm_t(0.5)))\n",
    "print('e_t :{} '.format(e_t))\n",
    "print('mm(0) :{} '.format(mm_var(var)))\n",
    "print('e(0) :{} '.format(e))\n"
   ]
  },
  {
   "cell_type": "code",
   "execution_count": 66,
   "id": "ba21079d-bf63-41d1-8bde-bcaf827cfc54",
   "metadata": {
    "tags": []
   },
   "outputs": [],
   "source": [
    "#----compute loss and record tape \n",
    "def one_step(var):\n",
    "    with tf.GradientTape() as tape:\n",
    "        #print('mat:\\n {}'.format(mm.numpy()))     \n",
    "        e,v = tf.linalg.eig(mm_var(var))\n",
    "        #print('e(0) :{} '.format(e))\n",
    "        loss = tf.math.reduce_sum(tf.math.abs(e-e_t)**2)\n",
    "        print('loss: {}'.format(loss.numpy()))     \n",
    "        #---update\n",
    "    dvar = tape.gradient(loss,var)\n",
    "    var = tf.Variable(var - dvar*learning_rate,dtype=tf.complex128)\n",
    "    return var "
   ]
  },
  {
   "cell_type": "code",
   "execution_count": 70,
   "id": "5857098c-1bd8-46b1-80da-1d4e622e7fad",
   "metadata": {
    "tags": []
   },
   "outputs": [
    {
     "name": "stdout",
     "output_type": "stream",
     "text": [
      "loss: 2.630531168888958\n",
      "loss: 2.503392453776252\n",
      "loss: 2.754513061882956\n",
      "loss: 2.5354459446721584\n",
      "loss: 2.68046668289087\n",
      "loss: 2.5380149029078\n",
      "loss: 2.674045085053906\n",
      "loss: 2.542789635007505\n",
      "loss: 2.6681808292186777\n",
      "loss: 2.5472393864529987\n"
     ]
    }
   ],
   "source": [
    "for i in range(10):\n",
    "    var = one_step(var)"
   ]
  },
  {
   "cell_type": "code",
   "execution_count": 56,
   "id": "6b63b101-cc3a-442f-b0f4-6e34aabcb1c7",
   "metadata": {
    "tags": []
   },
   "outputs": [
    {
     "name": "stdout",
     "output_type": "stream",
     "text": [
      "<tf.Variable 'Variable:0' shape=(4,) dtype=complex128, numpy=\n",
      "array([ 0.00049575-2.27464719e-18j,  0.00385201+3.49018562e-03j,\n",
      "       -0.01937112-1.75515705e-02j,  0.00085826+7.77644580e-04j])>\n",
      "tf.Tensor([-0.01927329-0.01791211j  0.02026478+0.01791211j], shape=(2,), dtype=complex128)\n",
      "tf.Tensor([ 1.11803399+0.j -1.11803399+0.j], shape=(2,), dtype=complex128)\n"
     ]
    }
   ],
   "source": [
    "e,v = tf.linalg.eig(mm_var(var))\n",
    "print(var)\n",
    "print(e)\n",
    "print(e_t)"
   ]
  },
  {
   "cell_type": "markdown",
   "id": "96148f54-cfe5-4ef0-ad13-5d26ea30f34a",
   "metadata": {
    "tags": []
   },
   "source": [
    "#----this is not working-----------------------\n",
    "def CreateModel():\n",
    "    X_input = tf.keras.layers.Input(1)\n",
    "    var1 = tf.Variable(tf.random.uniform([4]))\n",
    "    var2 = tf.Variable(tf.random.uniform([4]))\n",
    "    mm = mm_var(var1)+X_input*mm_var(var2)\n",
    "    e,v = tf.linalg.eig(mm)\n",
    "    X_output = e\n",
    "    model = tf.keras.Model(inputs = X_input,outputs=X_output)\n",
    "    return model "
   ]
  },
  {
   "cell_type": "markdown",
   "id": "714131c7-2804-4359-97ac-4dff44ffa095",
   "metadata": {},
   "source": [
    "# PyTorch test"
   ]
  },
  {
   "cell_type": "code",
   "execution_count": 120,
   "id": "e4b6d35c-0a5e-4069-aa93-607602a6c75a",
   "metadata": {
    "tags": []
   },
   "outputs": [
    {
     "name": "stdout",
     "output_type": "stream",
     "text": [
      "tensor(5., grad_fn=<SumBackward0>)\n"
     ]
    }
   ],
   "source": [
    "#-----testing pytorch\n",
    "import torch\n",
    "from torch import FloatTensor\n",
    "from torch.autograd import Variable\n",
    "\n",
    "w = Variable(FloatTensor([[4,2],[2,1]]),requires_grad=True)\n",
    "ee,vv = torch.linalg.eig(w)\n",
    "loss = torch.abs(ee-torch.Tensor([ 1.0,-1.0])).sum()\n",
    "print(loss)\n",
    "loss.backward()\n",
    "dw = w.grad"
   ]
  },
  {
   "cell_type": "code",
   "execution_count": 168,
   "id": "cba76f13-834e-4bd3-bd81-7167dfca0488",
   "metadata": {
    "tags": []
   },
   "outputs": [
    {
     "name": "stdout",
     "output_type": "stream",
     "text": [
      "tensor(5.7220e-06, grad_fn=<SumBackward0>)\n"
     ]
    }
   ],
   "source": [
    "for i in range(1):\n",
    "    w =  Variable(w-dw*0.01,requires_grad=True) \n",
    "    ee,vv = torch.linalg.eig(w)\n",
    "    loss = torch.abs(ee-torch.Tensor([ 1.0,-1.0])).sum()\n",
    "    print(loss)\n",
    "    loss.backward()\n",
    "    dw = w.grad"
   ]
  },
  {
   "cell_type": "code",
   "execution_count": 169,
   "id": "2a9c4c00-bb6b-4200-9c8f-3589c8b1ffc7",
   "metadata": {
    "tags": []
   },
   "outputs": [
    {
     "data": {
      "text/plain": [
       "tensor([ 1.0000+0.j, -1.0000+0.j], grad_fn=<LinalgEigBackward0>)"
      ]
     },
     "execution_count": 169,
     "metadata": {},
     "output_type": "execute_result"
    }
   ],
   "source": [
    "ee"
   ]
  },
  {
   "cell_type": "code",
   "execution_count": null,
   "id": "d25c4a93-d678-4847-b37e-49f2a8ec4d3c",
   "metadata": {},
   "outputs": [],
   "source": []
  }
 ],
 "metadata": {
  "kernelspec": {
   "display_name": "Python 3 (ipykernel)",
   "language": "python",
   "name": "python3"
  },
  "language_info": {
   "codemirror_mode": {
    "name": "ipython",
    "version": 3
   },
   "file_extension": ".py",
   "mimetype": "text/x-python",
   "name": "python",
   "nbconvert_exporter": "python",
   "pygments_lexer": "ipython3",
   "version": "3.11.5"
  }
 },
 "nbformat": 4,
 "nbformat_minor": 5
}
