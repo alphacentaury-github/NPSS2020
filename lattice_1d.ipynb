{
 "cells": [
  {
   "cell_type": "markdown",
   "id": "0e80c1e9-c138-4f9e-8b85-9484a306a2dc",
   "metadata": {},
   "source": [
    "# PMM for 1-d Schrodinger equation\n",
    "\n",
    "Solve \n",
    "$$H= K + c V_0\\theta(|x|<R_0)$$ in periodic boundary lattice"
   ]
  },
  {
   "cell_type": "code",
   "execution_count": 2,
   "id": "b043e6da-bed1-43da-bae6-a776b7ce0814",
   "metadata": {
    "tags": []
   },
   "outputs": [
    {
     "name": "stdout",
     "output_type": "stream",
     "text": [
      "a = 0.09865 fm L=9.865 fm\n"
     ]
    }
   ],
   "source": [
    "import numpy as np\n",
    "import torch\n",
    "import torch.nn as nn\n",
    "from torch import FloatTensor\n",
    "from torch.autograd import Variable\n",
    "import scipy\n",
    "\n",
    "hbarc = 197.3\n",
    "L = 100\n",
    "cutoff = 2000.0 # MeV \n",
    "a_fm = hbarc/cutoff ;print('a = {} fm L={} fm'.format(a_fm, L*a_fm))\n",
    "mass = 938.92/cutoff #l.u.\n",
    "iKin = 0 # kinectic term option \n",
    "\n",
    "r = np.arange(L)\n",
    "nx = r % L\n",
    "dx = (nx +L/2.0) % L - L/2.0\n",
    "dr = np.sqrt(dx**2)\n",
    "qx = dx*(2*np.pi)/L  # momentum qx in range(-2pi/L,2pi/L) \n",
    "q2 = qx**2"
   ]
  },
  {
   "cell_type": "markdown",
   "id": "fb2f3a7f-527e-4234-a595-54ca99ba3f45",
   "metadata": {},
   "source": [
    "### construction of Free Hamiltonian in 1d coordinate basis\n",
    "It is only meant to be for 1D with small size $L<=100 a$."
   ]
  },
  {
   "cell_type": "code",
   "execution_count": 3,
   "id": "46c31859-78c9-4748-ba25-2c651a5777e5",
   "metadata": {
    "tags": []
   },
   "outputs": [],
   "source": [
    "def get_HKin(iKin,test=False):\n",
    "    \"\"\"\n",
    "    construct K(i,j) matrix with approximation\n",
    "    iKin=0 case, one have to use FFT. \n",
    "    \n",
    "    Here we are not using sparse matrix.\n",
    "    \"\"\"\n",
    "    if iKin==0:\n",
    "        diffs = np.fft.ifft(qx**2)\n",
    "        temp = np.eye(L)*0j\n",
    "        for i in range(L):\n",
    "            for j in range(L):\n",
    "                temp[i,j] = diffs[(i-j)%L]\n",
    "        Hfree = np.real(temp)\n",
    "    else:\n",
    "        if iKin==1: w0, w1, w2, w3 = [1.0,1.0,0.0,0.0]\n",
    "        if iKin==2: w0, w1, w2, w3 = [49./36.,3./2.,3./20.,1./90.]\n",
    "         \n",
    "        Hfree = np.eye(L)*w0*2 # w0\n",
    "        Hfree[r, (r+1)%L] = w1*(-1)\n",
    "        Hfree[r, (r-1)%L] = w1*(-1)\n",
    "        Hfree[r, (r+2)%L] = w2\n",
    "        Hfree[r, (r-2)%L] = w2\n",
    "        Hfree[r, (r+3)%L] = w3*(-1)\n",
    "        Hfree[r, (r-3)%L] = w3*(-1)\n",
    "        # in case of 1D, no overlap between hopping. \n",
    "        # However, in other dimension, one have to use summation. \n",
    "    \n",
    "    if test:\n",
    "        ee,vv = scipy.linalg.eig(Hfree)\n",
    "        print('p^2  Hkin:{} '.format(np.sort(ee)))\n",
    "        if iKin==0: print('p^2  exa :{} '.format(np.sort(qx**2) )) \n",
    "        if iKin>0:\n",
    "            print('p^2  exa :{} '.format(np.sort(2*(w0-w1*np.cos(qx)+w2*np.cos(2*qx)-w3*np.cos(3*qx))) ))\n",
    "        \n",
    "    return Hfree/(2.0*mass)"
   ]
  },
  {
   "cell_type": "markdown",
   "id": "096e3a79-6f22-4128-8295-d8d2f982192e",
   "metadata": {},
   "source": [
    "## Test calculation with the answer \n",
    "\n",
    "For a test, from Wikipedia of square wall problem, if we choose $u_0^2=m(2R_0)^2 V_0/(2\\hbar^2)=20$,\n",
    "with potential wall length $2R_0$ and depth $V_0$.\n",
    "Solution is $E_n= 2 \\hbar^2 v_n^2/(m (2R_0)^2)$ with $v_1=1.28$,$v_2=2.54$,$v_3=3.73$.\n",
    "\n",
    "If we denote everything in lattice units, we may set\n",
    "$V_0=10/(m R_0^2)$ and $E_0= v_n^2/(2 m R_0^2) = v_n^2 V_0/5$\n",
    "\n",
    "To be consistent with continuum values, one have to use small lattice spacing \n",
    "and large lattice size.\n",
    "   \n",
    "However, the eigenvalue equation can be directly solved with only small dimension. \n",
    "In other words, direct coordinate lattice for continuum limit is not practical!\n",
    "Will it be better to use basis method ? \n",
    "Lagrange mesh or splineinterpolation may be useful here. "
   ]
  },
  {
   "cell_type": "code",
   "execution_count": 19,
   "id": "fa58d1d4-86e4-43d5-a43b-292597d291d3",
   "metadata": {
    "tags": []
   },
   "outputs": [
    {
     "name": "stdout",
     "output_type": "stream",
     "text": [
      "V0=-207.2982256209262 MeV, R0=1.9999999999999998 fm\n",
      "E_continuum=[-198.8072903  -173.86309481 -135.19523854] MeV\n",
      "E_lattice=tensor([-197.9856, -170.2852, -125.0887,  -64.8037]) MeV\n"
     ]
    }
   ],
   "source": [
    "#----set potential\n",
    "R0 = 2.0/a_fm # 2 fm -> l.u \n",
    "#V0 = -10.0/cutoff # 10 MeV -> l.u \n",
    "V0 = -20./mass/R0**2\n",
    "print('V0={} MeV, R0={} fm'.format(V0*cutoff,R0*a_fm))\n",
    "\n",
    "#---Wiki sol-------\n",
    "vv = np.array([1.28, 2.54, 3.73])\n",
    "print('E_continuum={} MeV'.format( (2*vv**2/mass/(2*R0)**2 +V0)*cutoff))\n",
    "\n",
    "#---solve S.E. \n",
    "Hfree = get_HKin(iKin)\n",
    "H_V = np.zeros((L,L))\n",
    "H_V[ abs(dx)< R0,abs(dx)< R0 ] = V0\n",
    "Htot = Hfree+H_V\n",
    "\n",
    "#----get first 20 eigenvalues\n",
    "#ee = scipy.linalg.eigvals(Htot)\n",
    "#print(np.sort(ee)[:20]*cutoff)\n",
    "#--or use torch\n",
    "print('E_lattice={} MeV'.format(torch.linalg.eigvalsh(torch.Tensor(Htot))[:4]*cutoff))"
   ]
  },
  {
   "cell_type": "markdown",
   "id": "f3671b69-a14f-4d23-9c4b-151fb07e499d",
   "metadata": {},
   "source": [
    "## Test PMM with square-well potential problem \n",
    "\n",
    "1. Prepare list of eigenvalues with several input parameter ($c_i$)\n",
    "2. Prepare PMM Hermitian matrix.\n",
    "3. train matrix with input eigenvaluesets. "
   ]
  },
  {
   "cell_type": "code",
   "execution_count": 40,
   "id": "ba886c74-d7f5-4a73-8aff-12243ef583e0",
   "metadata": {
    "tags": []
   },
   "outputs": [
    {
     "name": "stdout",
     "output_type": "stream",
     "text": [
      "[[-0.00613968 -0.00165544]\n",
      " [-0.01330036 -0.00820997]\n",
      " [-0.02063601 -0.01511541]\n",
      " [-0.03546148 -0.02940864]\n",
      " [-0.04290641 -0.03667759]\n",
      " [-0.05036075 -0.04399188]\n",
      " [-0.05782569 -0.05134025]\n",
      " [-0.06529482 -0.05871021]]\n"
     ]
    }
   ],
   "source": [
    "#---prepare data\n",
    "clist = [0.1,0.2,0.3,0.5,0.6,0.7,0.8,0.9]\n",
    "#clist = [0.1,0.3,0.5,0.8]\n",
    "Hfree = get_HKin(iKin)\n",
    "R0 = 3.0/a_fm # fm -> l.u \n",
    "V0 = -150.0/cutoff # MeV -> l.u \n",
    "data=[]\n",
    "for c in clist:\n",
    "    H_V = np.zeros((L,L))\n",
    "    H_V[ abs(dx)< R0,abs(dx)< R0 ] = c*V0\n",
    "    Htot = Hfree+H_V\n",
    "    data.append(torch.linalg.eigvalsh(torch.Tensor(Htot)).numpy()[:2])\n",
    "data = np.array(data)\n",
    "print(data)    \n",
    "data_tensor = torch.tensor(data)"
   ]
  },
  {
   "cell_type": "markdown",
   "id": "700d0b60-f1ba-4d9c-a4e3-f8a6504d67d4",
   "metadata": {},
   "source": [
    "## EC test\n",
    "benchmark Eigenvector Continuation at c=[0.5, 1.5]\n",
    "for g.s. and 1st excited state"
   ]
  },
  {
   "cell_type": "code",
   "execution_count": 80,
   "id": "ba17285d-5b14-43ca-93bb-c302efc28226",
   "metadata": {
    "tags": []
   },
   "outputs": [],
   "source": [
    "ec_data=[]\n",
    "for c in [0.5,1.5]:\n",
    "    H_V = np.zeros((L,L))\n",
    "    H_V[ abs(dx)< R0,abs(dx)< R0 ] = c*V0\n",
    "    Htot = torch.Tensor(Hfree+H_V)\n",
    "    ee,vv = torch.linalg.eigh(Htot)\n",
    "    ec_data.append( [ee[:2],vv[:2]])"
   ]
  },
  {
   "cell_type": "markdown",
   "id": "02797d16-aa33-4fe9-9349-aa004cf498d9",
   "metadata": {},
   "source": [
    "### 2d PMM\n",
    "Use Pauli matrices to represent 2-d Hermitian matrices.\n",
    "$$ M(c)=M_1 + c M_2, \\quad M_i = \\sum_{j=0,3} v^{(i)}_j \\sigma_j$$\n",
    "Then, train $v^{(i)}_j$."
   ]
  },
  {
   "cell_type": "code",
   "execution_count": 49,
   "id": "faa79bf5-dabe-4b75-b2e9-30a9e3545a66",
   "metadata": {
    "tags": []
   },
   "outputs": [],
   "source": [
    "s0 = torch.tensor( [ [1.0,0.0],[0.0,1.0]])\n",
    "sx = torch.tensor( [ [0.0,1.0],[1.0,0.0]])\n",
    "sy = torch.tensor( [ [0.0+0j,-1j],[1j,0.0+0j]],dtype=torch.complex64)\n",
    "sz = torch.tensor( [ [1.0,0.0],[0.0,-1.0]])\n",
    "\n",
    "var1 = Variable(torch.tensor([0.5,0.5,0.5,0.5]),requires_grad=True)\n",
    "var2 = Variable(torch.tensor([0.5,0.5,0.5,0.5]),requires_grad=True)\n",
    "optim = torch.optim.Adam([var1,var2],lr=5.e-3)\n",
    "#optim = torch.optim.SGD([var1,var2])\n",
    "get_loss = nn.MSELoss(reduction='sum')\n",
    "#--equivalent to \n",
    "#def get_loss(ee,e_t):\n",
    "#    return ((ee-e_t)**2).sum()\n",
    "\n",
    "def mm_var(var):\n",
    "    return s0*var[0]+sx*var[1]+sy*var[2]+sz*var[3]"
   ]
  },
  {
   "cell_type": "markdown",
   "id": "8f09a0ba-1261-4447-a0f7-350d1fa9b981",
   "metadata": {},
   "source": [
    "train PMM : repeat until loss becomes small"
   ]
  },
  {
   "cell_type": "code",
   "execution_count": 50,
   "id": "80d4d804-fb50-4880-a8ac-b3b8436f7e84",
   "metadata": {
    "tags": []
   },
   "outputs": [
    {
     "name": "stdout",
     "output_type": "stream",
     "text": [
      "epoch=0 loss=38.57723617553711\n",
      "epoch=1000 loss=4.677431934396736e-05\n",
      "epoch=2000 loss=7.753853878966765e-07\n",
      "epoch=3000 loss=7.742385719211597e-07\n",
      "epoch=4000 loss=7.74229476974142e-07\n",
      "tensor(7.7423e-07, grad_fn=<MseLossBackward0>)\n"
     ]
    }
   ],
   "source": [
    "for ii in range(5000):\n",
    "  dd = torch.zeros_like(data_tensor)\n",
    "  for i,c in enumerate(clist):\n",
    "      M1 = mm_var(var1)\n",
    "      M2 = mm_var(var2)\n",
    "      Mtot = M1 + c *M2\n",
    "      dd[i] = torch.linalg.eigvalsh(Mtot)[:2]\n",
    "    \n",
    "  loss = get_loss(dd,data_tensor)\n",
    "  optim.zero_grad()\n",
    "  loss.backward()\n",
    "  optim.step()\n",
    "  if ii %1000 ==0:  print('epoch={} loss={}'.format(ii,loss))\n",
    "print(loss)  "
   ]
  },
  {
   "cell_type": "markdown",
   "id": "0028e7f6-996f-4ae9-a082-7377b98e281e",
   "metadata": {},
   "source": [
    "inference."
   ]
  },
  {
   "cell_type": "code",
   "execution_count": 51,
   "id": "1e7a8cf2-ef06-49a0-8e41-a915b15f5841",
   "metadata": {
    "tags": []
   },
   "outputs": [],
   "source": [
    "out_t=[]\n",
    "out_p=[]\n",
    "c_p = np.arange(0.05,2.5,0.1)\n",
    "for c in c_p:\n",
    "  H_V = np.zeros((L,L))\n",
    "  H_V[ abs(dx)< R0,abs(dx)< R0 ] = c*V0\n",
    "  Htot = Hfree + H_V\n",
    "  out_t.append(torch.linalg.eigvalsh(torch.Tensor(Htot)).numpy()[:2])\n",
    "    \n",
    "  with torch.inference_mode():\n",
    "    M1 = mm_var(var1)\n",
    "    M2 = mm_var(var2)\n",
    "    Mtot = M1 + c *M2\n",
    "    out_p.append(torch.linalg.eigvalsh(Mtot).numpy())\n",
    "\n",
    "out_t = np.array(out_t)\n",
    "out_p = np.array(out_p)"
   ]
  },
  {
   "cell_type": "code",
   "execution_count": 52,
   "id": "26601a38-e74e-4c38-b169-82a0fabe9f0e",
   "metadata": {
    "tags": []
   },
   "outputs": [
    {
     "data": {
      "text/plain": [
       "<matplotlib.legend.Legend at 0x154af5f23d0>"
      ]
     },
     "execution_count": 52,
     "metadata": {},
     "output_type": "execute_result"
    },
    {
     "data": {
      "image/png": "[encoded data removed]",
      "text/plain": [
       "<Figure size 640x480 with 1 Axes>"
      ]
     },
     "metadata": {},
     "output_type": "display_data"
    }
   ],
   "source": [
    "import matplotlib.pyplot as plt\n",
    "\n",
    "#-----plot------------------------------\n",
    "plt.plot(clist,data[:,0],'g*')\n",
    "plt.plot(clist,data[:,1],'g*')\n",
    "plt.plot(c_p,out_t[:,0],'r--',label='true e0' )\n",
    "plt.plot(c_p,out_t[:,1],'b--',label='true e1' )\n",
    "plt.plot(c_p,out_p[:,0],'r',label='PMM e0' )\n",
    "plt.plot(c_p,out_p[:,1],'b',label='PMM e1' )\n",
    "plt.xlabel('c');plt.ylabel('E [l.u.]')\n",
    "plt.legend()"
   ]
  },
  {
   "cell_type": "code",
   "execution_count": null,
   "id": "a93fb26c-ba5c-4a96-a984-7bb5ffe09c24",
   "metadata": {},
   "outputs": [],
   "source": []
  }
 ],
 "metadata": {
  "kernelspec": {
   "display_name": "Python 3 (ipykernel)",
   "language": "python",
   "name": "python3"
  },
  "language_info": {
   "codemirror_mode": {
    "name": "ipython",
    "version": 3
   },
   "file_extension": ".py",
   "mimetype": "text/x-python",
   "name": "python",
   "nbconvert_exporter": "python",
   "pygments_lexer": "ipython3",
   "version": "3.11.5"
  }
 },
 "nbformat": 4,
 "nbformat_minor": 5
}
