{
 "cells": [
  {
   "cell_type": "markdown",
   "metadata": {},
   "source": [
    "# p-alpha elastic scattering \n",
    "\n",
    "__Ref: R. Higa, arxiv:1001.0540__\n",
    "\n",
    "p-alpha has resonance in P2/3 channel at E_p ~ 1.97 MeV with width~ 1.23 MeV. \n",
    "\n",
    "\n",
    "*  Effective Range expansion is a phenomenological and should be okay regardless the details of the interaction. \n",
    "\n",
    "*  Effective Field theory use EFT coupling strengths. To explain the phenomena, sometimes it requires fine-tuning of coupling parameters. In other words, strictly speaking, power counting of EFT is about the coupling parameters and the order of diagrams. \n",
    "\n",
    "* At leading order Lagrangian, we would have two parameters, $\\Delta$ and $g$. \n",
    "\n",
    "* From the dimensional analysis, we expect $\\Delta \\sim \\frac{M_{hi}^2}{2m}$ at natural case. In this case, the LO dimer propagator is $1/\\Delta$ without any kinematic terms. This power counting implies the loop corrections are perturbative and no-resummation is necessary. (One can even treat the unitary term $-ik$ as a perturbative correction. No bound state or resonnance. )\n",
    "\n",
    "* In unnatural case, with $M_{lo}$ scale, we may consider two cases, $\\Delta \\sim \\frac{M_{hi}M_{lo}}{2m}$ or $\\Delta \\sim \\frac{M_{lo}^2}{2m}$. In these case, the loop diagrams have to be re-summed. (According to power counting, loop diagram is in the same order as tree). Then the unitary term should be in the denominator of LO amplitude and allows shallow bound state or resonnance.  \n",
    "\n",
    "* In case of $\\Delta \\sim \\frac{M_{lo}^2}{2m}$. P-wave resonnance requires both $1/a$ and $r$ to be fine tuned. (All three terms including unitary term are the same order.) \n",
    "\n",
    "* $\\Delta \\sim \\frac{M_{lo} M_{hi}}{2m}$ power counting is similar to previous case. But, for P-wave, only one parameter have to be fine tuned and allows narrow width of resonnance. (In this case, unitary term is smaller than two-terms and only combination $a*r$ have to be fine tuned.)  \n",
    "\n",
    "* There is another __kinematic fine-tuning__ near resonnance where higher order terms to be re-summed near resonnance momentum.  "
   ]
  },
  {
   "cell_type": "markdown",
   "metadata": {},
   "source": [
    "## Import and define constants"
   ]
  },
  {
   "cell_type": "code",
   "execution_count": 1,
   "metadata": {},
   "outputs": [],
   "source": [
    "import numpy\n",
    "import numpy as np\n",
    "\n",
    "import matplotlib.pyplot as plt\n",
    "\n",
    "import scipy \n",
    "import scipy.special\n",
    "from scipy.special import factorial\n",
    "\n",
    "from sympy.physics.sho import E_nl\n",
    "from sympy import symbols\n",
    "from sympy.physics.sho import R_nl\n",
    "from sympy import var\n",
    "from sympy.physics.wigner import wigner_9j\n",
    "from sympy.physics.wigner import wigner_6j\n",
    "from sympy.physics.wigner import wigner_3j\n",
    "from sympy.physics.wigner import clebsch_gordan\n",
    "\n",
    "from functools import lru_cache\n",
    "import myutil\n",
    "\n",
    "hbarc = 197.326968 # MeV.fm \n",
    "fm = 1/hbarc # MeV^-1 \n",
    "amu = 931.4940954 # MeV\n",
    "mass_p  = 938.272    \n",
    "mass_n  = 939.5653\n",
    "mass_N = (mass_p+mass_n)/2.0\n",
    "alpha = 1.0/137.03599\n",
    "mass_alpha = 3727.4 # MeV \n",
    "mass_12C= 12*amu # amu or mass_N \n",
    "\n",
    "# show Fit result with error bar \n",
    "def print_fit_summary(p_para,p_cov,ERE_L=None):\n",
    "    \"\"\"\n",
    "    print results of curve_fit with error estimation\n",
    "    \"\"\"\n",
    "    dim=len(p_para)\n",
    "    for i in range(dim):\n",
    "        print('para[%i] = %e +/- %e'%(i,p_para[i],np.sqrt(abs(p_cov[i,i]))) )\n",
    "    \n",
    "    if ERE_L:\n",
    "        print('*--mass scale--- for L={}*'.format(ERE_L))\n",
    "        fac = [1,0.5,0.25,1] #coefficient   \n",
    "        for i in range(dim): # convert into powers\n",
    "            print('scale[%i]= %f'%(i,(fac[i]*np.abs(p_para[i]))**(1./(2*L+1-2*i)) )    )\n",
    "    return  "
   ]
  },
  {
   "cell_type": "markdown",
   "metadata": {},
   "source": [
    "## specify p+alpha system"
   ]
  },
  {
   "cell_type": "code",
   "execution_count": 2,
   "metadata": {},
   "outputs": [
    {
     "name": "stdout",
     "output_type": "stream",
     "text": [
      "k_C= 10.939964351510294\n"
     ]
    }
   ],
   "source": [
    "#----------p + alpha system \n",
    "reduced_mass= mass_alpha*mass_p/(mass_alpha+mass_p)\n",
    "charge_product = 1*2\n",
    "k_C = charge_product*alpha*reduced_mass\n",
    "print('k_C=',k_C)"
   ]
  },
  {
   "cell_type": "markdown",
   "metadata": {},
   "source": [
    "## Functions related with Coulomb scattering \n",
    "\n",
    "  1.  sigma_l(eta) : Coulomb phase shift\n",
    "\n",
    "  2. C_l(eta) : Coulomb related factor\n",
    "\n",
    "  3. h_l(eta) : Coulomb related function\n",
    "\n",
    "  4. f_c(theta,eta) : Coulomb scattering amplitude \n",
    "\n"
   ]
  },
  {
   "cell_type": "code",
   "execution_count": 3,
   "metadata": {},
   "outputs": [],
   "source": [
    "def Coulomb_eta(charge_product,reduced_mass,pcm):\n",
    "    \"\"\"\n",
    "        eta = Z1*Z2*alpha_em*(reduced_mass)/p \n",
    "    \"\"\"\n",
    "    return charge_product*alpha*(reduced_mass)/pcm \n",
    "\n",
    "def Coulomb_phaseshift(L,eta):\n",
    "    return np.angle(scipy.special.gamma(L+1+1j*eta))\n",
    "\n",
    "def Coulomb_factor(L,eta):\n",
    "    \"\"\"\n",
    "    Gamow-Sommerfeld factor C_l(eta)**2\n",
    "    \"\"\"\n",
    "    return np.exp(-np.pi*eta)*scipy.special.gamma(L+1+1j*eta)*scipy.special.gamma(L+1-1j*eta)\n",
    "\n",
    "def Coulomb_h_l(L,eta,pcm):\n",
    "    \"\"\"\n",
    "    h_l(eta)\n",
    "    \n",
    "    Note : not well defined numerically at eta =0.\n",
    "    \"\"\"\n",
    "    temp=pcm**(2*L)*Coulomb_factor(L,eta)/Coulomb_factor(0,eta)\n",
    "    out =temp*(scipy.special.digamma(1j*eta)+1./(2*1j*eta)-np.log(1j*eta))\n",
    "    return out \n",
    "\n",
    "def Coulomb_scattering_amplitude(theta,eta,kcm):\n",
    "    \"\"\"\n",
    "    Coulomb scattering amplitude for spin-less particle\n",
    "    \"\"\"\n",
    "    temp1 = -eta/(2*kcm*np.sin(theta/2.0)**2)\n",
    "    temp2 = np.exp(-1j*eta*np.log(np.sin(theta/2.0)**2)+2*1j* Coulomb_phaseshift(0,eta)   )\n",
    "    return temp1*temp2\n",
    "\n",
    "def phase_shift_from_fL(kcm,f_L):\n",
    "    # phase shift in radian \n",
    "    return np.real(np.log(1.0+2*1j*kcm*f_L)/(2*1j))\n",
    "\n",
    "def positive_phase(phase):\n",
    "    \"\"\"\n",
    "    convert negative phase shift(degree) \n",
    "    to positive one by adding 180 degree \n",
    "    \"\"\"\n",
    "    return (phase < 0)*(phase+180.0)+(phase >=0)*phase"
   ]
  },
  {
   "cell_type": "markdown",
   "metadata": {},
   "source": [
    "## Phase shift data"
   ]
  },
  {
   "cell_type": "code",
   "execution_count": 4,
   "metadata": {},
   "outputs": [
    {
     "data": {
      "text/plain": [
       "<matplotlib.legend.Legend at 0x26634930430>"
      ]
     },
     "execution_count": 4,
     "metadata": {},
     "output_type": "execute_result"
    },
    {
     "data": {
      "image/png": "[encoded data removed]",
      "text/plain": [
       "<Figure size 432x288 with 1 Axes>"
      ]
     },
     "metadata": {
      "needs_background": "light"
     },
     "output_type": "display_data"
    }
   ],
   "source": [
    "PhaseShift =  myutil.read_fresco_res('p_alpha_phase.txt') ;\n",
    "PhaseShift[0] = np.array(PhaseShift[0])\n",
    "elab_exp = PhaseShift[0][:,0];\n",
    "phase_0p_exp = PhaseShift[0][:,1]; # s1/2\n",
    "phase_1m_exp = PhaseShift[0][:,2]; # p1/2\n",
    "phase_1p_exp = PhaseShift[0][:,3]; # p3/2\n",
    "plt.plot(elab_exp,phase_0p_exp,'.',label='s1/2')\n",
    "plt.plot(elab_exp,phase_1m_exp,'.',label='p1/2')\n",
    "plt.plot(elab_exp,phase_1p_exp,'.',label='p3/2')\n",
    "plt.legend()"
   ]
  },
  {
   "cell_type": "markdown",
   "metadata": {},
   "source": [
    "## ERE T-matrix expression\n",
    "\n",
    "$$ T_L =-\\frac{2\\pi}{\\mu} f_L e^{2i\\sigma_L} P_L(\\theta)= -\\frac{2\\pi}{\\mu}\\frac{C^2_L(\\eta) k^{2l} e^{2i\\sigma_L} P_L(\\theta)}{-1/a_L +r_L k^2/2 -P_L k^4/4 - 2k_C h_L(\\eta)}$$\n",
    "\n",
    "scattering amplitude $f_L$ can be used to obtain cross section and phase shift.\n",
    "\n"
   ]
  },
  {
   "cell_type": "code",
   "execution_count": 5,
   "metadata": {},
   "outputs": [],
   "source": [
    "def scattering_amplitude_ERE(kcm, L,ERE_para= None):\n",
    "    # ERE para = (a_L, r_L, P_L) in fm power units \n",
    "    a_L = ERE_para[0]/hbarc**(2*L+1) # to MeV power units \n",
    "    r_L = ERE_para[1]*hbarc**(2*L-1)\n",
    "    P_L = ERE_para[2]*hbarc**(2*L-3) \n",
    "    eta = Coulomb_eta(charge_product,reduced_mass,kcm)\n",
    "    C_L_sqr = Coulomb_factor(L,eta) # C_L^2\n",
    "    numerator = C_L_sqr*kcm**(2*L)\n",
    "    denominator = -1./a_L +0.5*r_L*kcm**2-0.25*P_L*kcm**4 - 2*k_C*Coulomb_h_l(L,eta,kcm) \n",
    "    return numerator/denominator  "
   ]
  },
  {
   "cell_type": "markdown",
   "metadata": {},
   "source": [
    "## EFT T-matrix expression\n",
    "\n",
    "For p-alpha, s1/2 and p1/2 channel does not have resonnance. \n",
    "Thus, one can treat effective range term as a NLO. \n",
    "$$T_0 = -\\frac{2\\pi}{\\mu}\\frac{C_\\eta^2 e^{2i\\sigma_0}}{-1/a_0-2 k_C h_0(\\eta)}( 1- \\frac{r_0 k^2/2}{(-1/a_0-2 k_C h_0(\\eta))} )$$   \n",
    "\n",
    "on the other hand, p3/2 has a resonance and the LO should include effective range. \n",
    "$$T_1 = -\\frac{2\\pi}{\\mu}\\frac{C^{(1)2}_\\eta e^{2i\\sigma_1} k^2 P_1(\\theta)}{-1/a_1+r_1 k^2/2 -2 k_C h_1(\\eta)}\n",
    "         ( 1+ \\frac{P_1 k^4/4}{(-1/a_1+r_1 k^2/2 -2 k_C h_1(\\eta))} )$$   \n",
    "\n",
    "__Note that this form treats NLO correction, P_1 as a perturbative correction__\n",
    "\n",
    "However, this form will not be good near resonnance. \n",
    "Near resonnance, one have to resum the NLO corrections into denominator,\n",
    "which is the same as ERE form."
   ]
  },
  {
   "cell_type": "code",
   "execution_count": 6,
   "metadata": {},
   "outputs": [],
   "source": [
    "def scattering_amplitude_EFT(kcm, L,ERE_para= None):\n",
    "    # ERE para = (a_L, r_L, P_L) in fm power units \n",
    "    a_L = ERE_para[0]/hbarc**(2*L+1) # to MeV power units \n",
    "    r_L = ERE_para[1]*hbarc**(2*L-1)\n",
    "    P_L = ERE_para[2]*hbarc**(2*L-3) \n",
    "    eta = k_C/kcm\n",
    "    C_L_sqr = Coulomb_factor(L,eta) # C_L^2\n",
    "    hL_eta= Coulomb_h_l(L,eta,kcm)\n",
    "    \n",
    "    numerator = C_L_sqr*kcm**(2*L)\n",
    "    if L==0:\n",
    "        f_L = numerator/(-1/a_L - 2*k_C*hL_eta)*(1-0.5*r_L*kcm**2/(-1/a_L - 2*k_C*hL_eta)) \n",
    "    elif L==1:\n",
    "        f_L = numerator/(-1/a_L+0.5*r_L*kcm**2 - 2*k_C*hL_eta)*(1+0.25*P_L*kcm**4/(-1/a_L+0.5*r_L*kcm**2 - 2*k_C*hL_eta)) \n",
    "    return f_L "
   ]
  },
  {
   "cell_type": "markdown",
   "metadata": {},
   "source": [
    "## parameters from reference \n",
    "\n",
    "s1/2 parameters\n",
    "\n",
    "           a_0+              r_0+\n",
    "    ERE    4.97+/-0.12       1.295+/-0.082\n",
    "    LO     7.4 (+8.0-2.2) \n",
    "    NLO    4.81(+0.05-0.21)  1.7(+1/2,-0.8)\n",
    "    \n",
    "    \n",
    "p3/2 parameters\n",
    "\n",
    "             a_1+                r_1+          P_1+ \n",
    "     ERE   -44.83+/-0.51      -0.365+/-0.013   -2.39+/-0.15\n",
    "     LO    -58.0              -0.15   \n",
    "     NLO   -44.5              -0.4             -2.8  \n",
    "\n",
    "\n",
    "\n",
    "\n",
    "    \n",
    "    \n",
    "       "
   ]
  },
  {
   "cell_type": "code",
   "execution_count": 7,
   "metadata": {},
   "outputs": [],
   "source": [
    "ERE_0p_ERE = (4.97,1.295,0.0);\n",
    "ERE_0p_LO  = (7.4, 0.0, 0.0);\n",
    "ERE_0p_NLO = (4.81,1.7,0.0);\n",
    "\n",
    "ERE_1p_ERE = (-44.83,-0.365, -2.39);\n",
    "ERE_1p_LO  = (-58.0, -0.15, 0.0);\n",
    "ERE_1p_NLO = (-44.5, -0.4,-2.8);"
   ]
  },
  {
   "cell_type": "markdown",
   "metadata": {},
   "source": [
    "### S1/2 phase shift from given parameters (no fitting is done here)"
   ]
  },
  {
   "cell_type": "code",
   "execution_count": 8,
   "metadata": {},
   "outputs": [
    {
     "data": {
      "text/plain": [
       "<matplotlib.legend.Legend at 0x2663a05cdc0>"
      ]
     },
     "execution_count": 8,
     "metadata": {},
     "output_type": "execute_result"
    },
    {
     "data": {
      "image/png": "[encoded data removed]",
      "text/plain": [
       "<Figure size 432x288 with 1 Axes>"
      ]
     },
     "metadata": {
      "needs_background": "light"
     },
     "output_type": "display_data"
    }
   ],
   "source": [
    "# Phase Shift plot \n",
    "elab = np.linspace(0.1,5.0,100)\n",
    "ecm  = elab*reduced_mass/mass_p \n",
    "kcm  = np.sqrt(2*reduced_mass*ecm)\n",
    "\n",
    "ff = scattering_amplitude_ERE(kcm, 0 ,ERE_para= ERE_0p_ERE);\n",
    "phase_0p = phase_shift_from_fL(kcm,ff)*180/np.pi\n",
    "\n",
    "ff = scattering_amplitude_EFT(kcm, 0 ,ERE_para= ERE_0p_LO);\n",
    "phase_0p_LO = phase_shift_from_fL(kcm,ff)*180/np.pi\n",
    "ff = scattering_amplitude_EFT(kcm, 0 ,ERE_para= ERE_0p_NLO);\n",
    "phase_0p_NLO = phase_shift_from_fL(kcm,ff)*180/np.pi\n",
    "\n",
    "plt.plot(elab,phase_0p,label='ERE')\n",
    "plt.plot(elab,phase_0p_LO,label='LO')\n",
    "plt.plot(elab,phase_0p_NLO,label='NLO')\n",
    "plt.plot(elab_exp,phase_0p_exp,'.',label='s1/2')\n",
    "plt.legend()"
   ]
  },
  {
   "cell_type": "markdown",
   "metadata": {},
   "source": [
    "### P3/2 phase shift from given parameters (no fitting is done here)\n",
    "\n",
    "result shows discrepancy for larger energy.\n",
    "expansion around resonance may be appropriate.\n",
    "\n",
    "__Suprisingly, in constrast to the expectaion, EFT form seems to be okay even near resonance.__\n"
   ]
  },
  {
   "cell_type": "code",
   "execution_count": 9,
   "metadata": {},
   "outputs": [
    {
     "data": {
      "text/plain": [
       "<matplotlib.legend.Legend at 0x2663a0bfa90>"
      ]
     },
     "execution_count": 9,
     "metadata": {},
     "output_type": "execute_result"
    },
    {
     "data": {
      "image/png": "[encoded data removed]",
      "text/plain": [
       "<Figure size 432x288 with 1 Axes>"
      ]
     },
     "metadata": {
      "needs_background": "light"
     },
     "output_type": "display_data"
    }
   ],
   "source": [
    "# Phase Shift plot \n",
    "elab = np.linspace(0.1,5.0,100)\n",
    "ecm  = elab*reduced_mass/mass_p \n",
    "kcm  = np.sqrt(2*reduced_mass*ecm)\n",
    "\n",
    "ff = scattering_amplitude_ERE(kcm, 1 ,ERE_para= ERE_1p_ERE);\n",
    "phase_1p = positive_phase( phase_shift_from_fL(kcm,ff)*180/np.pi)\n",
    "\n",
    "ff = scattering_amplitude_EFT(kcm, 1 ,ERE_para= ERE_1p_LO);\n",
    "phase_1p_LO = positive_phase(phase_shift_from_fL(kcm,ff)*180/np.pi)\n",
    "\n",
    "ff = scattering_amplitude_EFT(kcm, 1 ,ERE_para= ERE_1p_NLO);\n",
    "phase_1p_NLO = positive_phase(phase_shift_from_fL(kcm,ff)*180/np.pi)\n",
    "\n",
    "plt.plot(elab,phase_1p,label='ERE')\n",
    "plt.plot(elab,phase_1p_LO,label='LO')\n",
    "plt.plot(elab,phase_1p_NLO,label='NLO')\n",
    "plt.plot(elab_exp,phase_1p_exp,'.',label='s1/2')\n",
    "plt.legend()"
   ]
  },
  {
   "cell_type": "markdown",
   "metadata": {},
   "source": [
    "## To do?\n",
    "\n",
    "Since the ERE_para of EFT does not give good results, one may \n",
    "\n",
    "1. Try with resonance expansion form \n",
    "2. Try to fit directly to obtain parameters"
   ]
  },
  {
   "cell_type": "code",
   "execution_count": 10,
   "metadata": {},
   "outputs": [],
   "source": [
    "# Fit ERE_form \n",
    "def fit_function_ERE(elab, p0=0,p1=0,p2=0,p3=0):\n",
    "    ecm  = elab*reduced_mass/mass_p \n",
    "    kcm  = np.sqrt(2*reduced_mass*ecm)\n",
    "    ff = scattering_amplitude_ERE(kcm, 1 ,ERE_para=(p0,p1,p2,p3))\n",
    "    phase_shift = positive_phase(phase_shift_from_fL(kcm,ff)*180/np.pi)\n",
    "    return phase_shift\n",
    "\n",
    "def fit_function_EFT(elab, p0=0,p1=0,p2=0,p3=0):\n",
    "    ecm  = elab*reduced_mass/mass_p \n",
    "    kcm  = np.sqrt(2*reduced_mass*ecm)\n",
    "    ff = scattering_amplitude_EFT(kcm, 1 ,ERE_para=(p0,p1,p2,p3))\n",
    "    phase_shift = positive_phase(phase_shift_from_fL(kcm,ff)*180/np.pi)\n",
    "    return phase_shift\n",
    "\n",
    "def fit_phase(x= elab_exp, y=phase_1p_exp,yerr = None, fit_function = fit_function_ERE,p0= None):\n",
    "    p_para0, pcov0 = scipy.optimize.curve_fit(fit_function, x, y, p0= p0, sigma=yerr )\n",
    "    #print(p_para0)\n",
    "    print_fit_summary(p_para0,pcov0)\n",
    "    yfit = fit_function(x,*p_para0)\n",
    "    plt.figure()\n",
    "    plt.plot(x,y,'*')\n",
    "    plt.plot(x,yfit);\n",
    "    plt.xlabel('elab');plt.ylabel('degree');\n",
    "    plt.grid();\n",
    "    return p_para0, pcov0 "
   ]
  },
  {
   "cell_type": "markdown",
   "metadata": {},
   "source": [
    "### fit with ERE form"
   ]
  },
  {
   "cell_type": "code",
   "execution_count": 11,
   "metadata": {},
   "outputs": [
    {
     "name": "stdout",
     "output_type": "stream",
     "text": [
      "para[0] = -4.520471e+01 +/- 3.900929e-01\n",
      "para[1] = -3.579155e-01 +/- 8.703723e-03\n",
      "para[2] = -2.321414e+00 +/- 9.358797e-02\n",
      "55.39346516053043 35.313187591638965 2205.2912781678356\n"
     ]
    },
    {
     "data": {
      "image/png": "[encoded data removed]",
      "text/plain": [
       "<Figure size 432x288 with 1 Axes>"
      ]
     },
     "metadata": {
      "needs_background": "light"
     },
     "output_type": "display_data"
    }
   ],
   "source": [
    "para, pcov = fit_phase(p0=[-40,-1,-1],fit_function = fit_function_ERE)\n",
    "L=1;\n",
    "print(np.abs(1/para[0])**(1./(2*L+1))*hbarc,  np.abs(0.5*para[1])**(1./(2*L-1))*hbarc, np.abs(0.25*para[1])**(1./(2*L-3))*hbarc)"
   ]
  },
  {
   "cell_type": "markdown",
   "metadata": {},
   "source": [
    "### Fit with EFT at LO"
   ]
  },
  {
   "cell_type": "code",
   "execution_count": 12,
   "metadata": {},
   "outputs": [
    {
     "name": "stdout",
     "output_type": "stream",
     "text": [
      "para[0] = -5.641048e+01 +/- 9.036859e-01\n",
      "para[1] = -1.474755e-01 +/- 7.059297e-03\n",
      "51.45171417004602 14.550442716878392\n"
     ]
    },
    {
     "data": {
      "image/png": "[encoded data removed]",
      "text/plain": [
       "<Figure size 432x288 with 1 Axes>"
      ]
     },
     "metadata": {
      "needs_background": "light"
     },
     "output_type": "display_data"
    }
   ],
   "source": [
    "para, pcov = fit_phase(p0=[-40,-1],fit_function = fit_function_EFT)\n",
    "L=1;\n",
    "print(np.abs(1/para[0])**(1./(2*L+1))*hbarc,  np.abs(0.5*para[1])**(1./(2*L-1))*hbarc)"
   ]
  },
  {
   "cell_type": "markdown",
   "metadata": {},
   "source": [
    "### Fit with EFT up to NLO"
   ]
  },
  {
   "cell_type": "code",
   "execution_count": 13,
   "metadata": {},
   "outputs": [
    {
     "name": "stdout",
     "output_type": "stream",
     "text": [
      "para[0] = -4.896691e+01 +/- 3.348796e-01\n",
      "para[1] = -3.049350e-01 +/- 7.519269e-03\n",
      "para[2] = -2.311657e+00 +/- 1.480127e-01\n",
      "53.93684666163369 30.08595347903326 2588.445955499377\n"
     ]
    },
    {
     "data": {
      "image/png": "[encoded data removed]",
      "text/plain": [
       "<Figure size 432x288 with 1 Axes>"
      ]
     },
     "metadata": {
      "needs_background": "light"
     },
     "output_type": "display_data"
    }
   ],
   "source": [
    "para, pcov = fit_phase(p0=[-50,-0.1,-0.1],fit_function = fit_function_EFT)\n",
    "L=1;\n",
    "print(np.abs(1/para[0])**(1./(2*L+1))*hbarc,  np.abs(0.5*para[1])**(1./(2*L-1))*hbarc, np.abs(0.25*para[1])**(1./(2*L-3))*hbarc)"
   ]
  },
  {
   "cell_type": "markdown",
   "metadata": {},
   "source": [
    "__In case of p+alpha scattering p3/2 channel,\n",
    "both ERE and EFT form gives good fits and \n",
    "the parameter values are in reasonanble agreement with power counting expectation.__"
   ]
  },
  {
   "cell_type": "markdown",
   "metadata": {},
   "source": [
    "# Revisit p+12C P3/2 channel\n",
    "\n",
    "Let us try to use the same formula for p+12C case with R-matrix phase shift"
   ]
  },
  {
   "cell_type": "code",
   "execution_count": 14,
   "metadata": {},
   "outputs": [
    {
     "name": "stdout",
     "output_type": "stream",
     "text": [
      "k_C= 37.900090131505706\n"
     ]
    },
    {
     "data": {
      "text/plain": [
       "[<matplotlib.lines.Line2D at 0x2663a70af40>]"
      ]
     },
     "execution_count": 14,
     "metadata": {},
     "output_type": "execute_result"
    },
    {
     "data": {
      "image/png": "[encoded data removed]",
      "text/plain": [
       "<Figure size 432x288 with 1 Axes>"
      ]
     },
     "metadata": {
      "needs_background": "light"
     },
     "output_type": "display_data"
    }
   ],
   "source": [
    "#Switch to p+12C system\n",
    "#----------p + 12C system \n",
    "reduced_mass= mass_12C*mass_p/(mass_12C+mass_p)\n",
    "charge_product = 1*6\n",
    "k_C = charge_product*alpha*reduced_mass\n",
    "print('k_C=',k_C)\n",
    "\n",
    "#--- read data \n",
    "p12C =  myutil.read_fresco_res('12C_scattering/Azuma_PhaseShift.txt') ;\n",
    "p12C_1p = np.array(p12C[2]) #p3/2 phase shift \n",
    "plt.plot(p12C_1p[:,0],p12C_1p[:,1],'*' )"
   ]
  },
  {
   "cell_type": "code",
   "execution_count": 15,
   "metadata": {},
   "outputs": [],
   "source": [
    "# redefine function to be able to 4-parameter fits\n",
    "\n",
    "def scattering_amplitude_ERE(kcm, L,ERE_para= None):\n",
    "    # ERE para = (a_L, r_L, P_L) in fm power units \n",
    "    a_L = ERE_para[0]/hbarc**(2*L+1) # to MeV power units \n",
    "    r_L = ERE_para[1]*hbarc**(2*L-1)\n",
    "    P_L = ERE_para[2]*hbarc**(2*L-3) \n",
    "    q_L = ERE_para[3]*hbarc**(2*L-5)   \n",
    "    eta = Coulomb_eta(charge_product,reduced_mass,kcm)\n",
    "    C_L_sqr = Coulomb_factor(L,eta) # C_L^2\n",
    "    numerator = C_L_sqr*kcm**(2*L)\n",
    "    denominator = -1./a_L +0.5*r_L*kcm**2-0.25*P_L*kcm**4+q_L*kcm**6 - 2*k_C*Coulomb_h_l(L,eta,kcm) \n",
    "    return numerator/denominator  \n",
    "\n",
    "def scattering_amplitude_EFT(kcm, L,ERE_para= None):\n",
    "    # ERE para = (a_L, r_L, P_L) in fm power units \n",
    "    a_L = ERE_para[0]/hbarc**(2*L+1) # to MeV power units \n",
    "    r_L = ERE_para[1]*hbarc**(2*L-1)\n",
    "    P_L = ERE_para[2]*hbarc**(2*L-3) \n",
    "    eta = k_C/kcm\n",
    "    C_L_sqr = Coulomb_factor(L,eta) # C_L^2\n",
    "    hL_eta= Coulomb_h_l(L,eta,kcm)\n",
    "    \n",
    "    numerator = C_L_sqr*kcm**(2*L)\n",
    "    if L==0:\n",
    "        f_L = numerator/(-1/a_L - 2*k_C*hL_eta)*(1-0.5*r_L*kcm**2/(-1/a_L - 2*k_C*hL_eta)) \n",
    "    elif L==1:\n",
    "        f_L = numerator/(-1/a_L+0.5*r_L*kcm**2 - 2*k_C*hL_eta)*(1+0.25*P_L*kcm**4/(-1/a_L+0.5*r_L*kcm**2 - 2*k_C*hL_eta)) \n",
    "    return f_L \n",
    "# Fit ERE_form \n",
    "def fit_function_ERE(elab, p0=0,p1=0,p2=0,p3=0,p4=0):\n",
    "    ecm  = elab*reduced_mass/mass_p \n",
    "    kcm  = np.sqrt(2*reduced_mass*ecm)\n",
    "    ff = scattering_amplitude_ERE(kcm, 1 ,ERE_para=(p0,p1,p2,p3,p4))\n",
    "    phase_shift = positive_phase(phase_shift_from_fL(kcm,ff)*180/np.pi)\n",
    "    return phase_shift\n",
    "\n",
    "def fit_function_EFT(elab, p0=0,p1=0,p2=0,p3=0,p4=0):\n",
    "    ecm  = elab*reduced_mass/mass_p \n",
    "    kcm  = np.sqrt(2*reduced_mass*ecm)\n",
    "    ff = scattering_amplitude_EFT(kcm, 1 ,ERE_para=(p0,p1,p2,p3,p4))\n",
    "    phase_shift = positive_phase(phase_shift_from_fL(kcm,ff)*180/np.pi)\n",
    "    return phase_shift\n",
    "\n",
    "def fit_phase(x= None, y=None,yerr = None, fit_function = fit_function_ERE,p0= None):\n",
    "    p_para0, pcov0 = scipy.optimize.curve_fit(fit_function, x, y, p0= p0, sigma=yerr )\n",
    "    #print(p_para0)\n",
    "    print_fit_summary(p_para0,pcov0)\n",
    "    yfit = fit_function(x,*p_para0)\n",
    "    plt.figure()\n",
    "    plt.plot(x,y,'*')\n",
    "    plt.plot(x,yfit);\n",
    "    plt.xlabel('elab');plt.ylabel('degree');\n",
    "    plt.grid();\n",
    "    return p_para0, pcov0 "
   ]
  },
  {
   "cell_type": "markdown",
   "metadata": {},
   "source": [
    "### ERE with 2-para"
   ]
  },
  {
   "cell_type": "code",
   "execution_count": 16,
   "metadata": {},
   "outputs": [
    {
     "name": "stdout",
     "output_type": "stream",
     "text": [
      "para[0] = -1.573699e+01 +/- 1.660161e-01\n",
      "para[1] = -1.618752e+00 +/- 1.936683e-02\n",
      "[-15.73698918  -1.6187525 ]\n",
      "78.7431095047383 159.7117612769308\n"
     ]
    },
    {
     "data": {
      "image/png": "[encoded data removed]",
      "text/plain": [
       "<Figure size 432x288 with 1 Axes>"
      ]
     },
     "metadata": {
      "needs_background": "light"
     },
     "output_type": "display_data"
    }
   ],
   "source": [
    "# ERE with 2-para \n",
    "para, pcov = fit_phase(x = p12C_1p[:,0],y=p12C_1p[:,1],  p0=[-1,-1],fit_function = fit_function_ERE)\n",
    "L=1;print(para)\n",
    "print(np.abs(1/para[0])**(1./(2*L+1))*hbarc,  np.abs(0.5*para[1])**(1./(2*L-1))*hbarc)"
   ]
  },
  {
   "cell_type": "markdown",
   "metadata": {},
   "source": [
    "### ERE with 3-para"
   ]
  },
  {
   "cell_type": "code",
   "execution_count": 17,
   "metadata": {},
   "outputs": [
    {
     "name": "stdout",
     "output_type": "stream",
     "text": [
      "para[0] = -8.353770e+00 +/- 1.901676e-01\n",
      "para[1] = -4.829368e+00 +/- 1.534653e-01\n",
      "para[2] = -4.587381e+01 +/- 2.165169e+00\n",
      "[ -8.35376956  -4.82936774 -45.8738059 ]\n",
      "97.25059768427421 476.482246426736 163.4391736190747\n"
     ]
    },
    {
     "data": {
      "image/png": "[encoded data removed]",
      "text/plain": [
       "<Figure size 432x288 with 1 Axes>"
      ]
     },
     "metadata": {
      "needs_background": "light"
     },
     "output_type": "display_data"
    }
   ],
   "source": [
    "# ERE with 3-para \n",
    "# This case the fit is rather stable, not sensitive to initial values \n",
    "para, pcov = fit_phase(x = p12C_1p[:,0],y=p12C_1p[:,1],  p0=[-2,-1,-1],fit_function = fit_function_ERE)\n",
    "L=1;print(para)\n",
    "print(np.abs(1/para[0])**(1./(2*L+1))*hbarc,  np.abs(0.5*para[1])**(1./(2*L-1))*hbarc, np.abs(0.25*para[1])**(1./(2*L-3))*hbarc)"
   ]
  },
  {
   "cell_type": "markdown",
   "metadata": {},
   "source": [
    "### EFT with 2-para = ERE with 2-para"
   ]
  },
  {
   "cell_type": "code",
   "execution_count": 18,
   "metadata": {},
   "outputs": [
    {
     "name": "stdout",
     "output_type": "stream",
     "text": [
      "para[0] = -1.573699e+01 +/- 1.660161e-01\n",
      "para[1] = -1.618752e+00 +/- 1.936683e-02\n",
      "[-15.73698918  -1.6187525 ]\n",
      "78.7431095047383 159.7117612769308\n"
     ]
    },
    {
     "data": {
      "image/png": "[encoded data removed]",
      "text/plain": [
       "<Figure size 432x288 with 1 Axes>"
      ]
     },
     "metadata": {
      "needs_background": "light"
     },
     "output_type": "display_data"
    }
   ],
   "source": [
    "# EFT with 2-para ~ equivalent to ERE\n",
    "para, pcov = fit_phase(x = p12C_1p[:,0],y=p12C_1p[:,1],  p0=[-1,-1],fit_function = fit_function_EFT)\n",
    "L=1;print(para)\n",
    "print(np.abs(1/para[0])**(1./(2*L+1))*hbarc,  np.abs(0.5*para[1])**(1./(2*L-1))*hbarc)"
   ]
  },
  {
   "cell_type": "markdown",
   "metadata": {},
   "source": [
    "### ERE with 3-para\n",
    "\n",
    "However, the fitting is very sensitive to initial points.\n",
    "Also, there is not much improvement from 2-para fit.\n",
    "\n",
    "__Essentially the fit is not good with this form__"
   ]
  },
  {
   "cell_type": "code",
   "execution_count": 19,
   "metadata": {},
   "outputs": [
    {
     "name": "stdout",
     "output_type": "stream",
     "text": [
      "para[0] = -1.584141e+01 +/- 3.603589e-01\n",
      "para[1] = -1.602965e+00 +/- 4.752401e-02\n",
      "para[2] = 1.080258e-01 +/- 2.018681e-01\n",
      "[-15.84140796  -1.60296538   0.10802577]\n",
      "78.56971600393898 158.15414916071379 492.40481526039383\n"
     ]
    },
    {
     "data": {
      "image/png": "[encoded data removed]",
      "text/plain": [
       "<Figure size 432x288 with 1 Axes>"
      ]
     },
     "metadata": {
      "needs_background": "light"
     },
     "output_type": "display_data"
    }
   ],
   "source": [
    "# EFT with 3-para\n",
    "# sensitive to the initial values\n",
    "# meaning there are many local minima. \n",
    "# Difficult to find a good fitting values...\n",
    "para, pcov = fit_phase(x = p12C_1p[:,0],y=p12C_1p[:,1],  p0=[ -15 , -2, -0.1 ],fit_function = fit_function_EFT)\n",
    "L=1;print(para)\n",
    "print(np.abs(1/para[0])**(1./(2*L+1))*hbarc,  np.abs(0.5*para[1])**(1./(2*L-1))*hbarc, np.abs(0.25*para[1])**(1./(2*L-3))*hbarc)"
   ]
  },
  {
   "cell_type": "markdown",
   "metadata": {},
   "source": [
    "### To do? \n",
    "\n",
    "1. Try to use expansion near resonnance pole ? \n",
    "\n",
    "However, eventually, I expect the final result should be similar to ERE form. \n",
    "Thus, basically we would not go any further than ERE form and \n",
    "need a way to explain the parameter values of ERE. \n",
    "\n",
    "__Can we conclude the above results are in reasonable agreement with power counting?__"
   ]
  },
  {
   "cell_type": "markdown",
   "metadata": {},
   "source": [
    "## Note to myself\n",
    "\n",
    "Be careful for the default values and global parameters in the function.\n",
    "Suppose following function\n",
    "\n",
    "    x=1;y=2;\n",
    "    def ff(y=y):\n",
    "        print(x,y)\n",
    "\n",
    "the output of the function changes if x value is changed globally.\n",
    "However, the output does not change if y value changed globally. \n",
    "\n",
    "    ff() --> gives (1,2)\n",
    "    x=2;y=3;\n",
    "    ff() --> gives (2,2) \n",
    "    \n",
    "__If a default value is given as a global parameter, it should always be a constant !__    "
   ]
  }
 ],
 "metadata": {
  "kernelspec": {
   "display_name": "Python 3",
   "language": "python",
   "name": "python3"
  },
  "language_info": {
   "codemirror_mode": {
    "name": "ipython",
    "version": 3
   },
   "file_extension": ".py",
   "mimetype": "text/x-python",
   "name": "python",
   "nbconvert_exporter": "python",
   "pygments_lexer": "ipython3",
   "version": "3.8.5"
  }
 },
 "nbformat": 4,
 "nbformat_minor": 4
}
